{
 "cells": [
  {
   "cell_type": "code",
   "execution_count": 1,
   "metadata": {},
   "outputs": [
    {
     "name": "stderr",
     "output_type": "stream",
     "text": [
      "/Users/bulhakovdmytro/anaconda3/lib/python3.6/site-packages/nltk/twitter/__init__.py:20: UserWarning: The twython library has not been installed. Some functionality from the twitter package will not be available.\n",
      "  warnings.warn(\"The twython library has not been installed. \"\n"
     ]
    }
   ],
   "source": [
    "import pandas as pd\n",
    "import numpy as np\n",
    "from googletrans import Translator\n",
    "import string\n",
    "import time\n",
    "import seaborn as sns\n",
    "from nltk.corpus import stopwords\n",
    "from nltk.sentiment import SentimentIntensityAnalyzer\n",
    "import nltk\n",
    "import gender_guesser.detector as gender\n",
    "import matplotlib.pyplot as plt\n",
    "import json\n",
    "import numbers\n",
    "import multiprocessing\n",
    "from itertools import product\n",
    "from collections import Counter\n",
    "RND_STATE = 515991\n",
    "\n",
    "%matplotlib inline"
   ]
  },
  {
   "cell_type": "markdown",
   "metadata": {},
   "source": [
    "## 0. Config"
   ]
  },
  {
   "cell_type": "code",
   "execution_count": 2,
   "metadata": {
    "collapsed": true
   },
   "outputs": [],
   "source": [
    "max_string_length = 500\n",
    "translate_delay = 0\n",
    "translate_chunk = 1000\n",
    "input_csv = '123.csv'\n",
    "output_csv = 'data_converted.csv'"
   ]
  },
  {
   "cell_type": "code",
   "execution_count": 3,
   "metadata": {
    "collapsed": true
   },
   "outputs": [],
   "source": [
    "def log_progress(sequence, every=None, size=None, name='Processed'):\n",
    "    from ipywidgets import IntProgress, HTML, VBox\n",
    "    from IPython.display import display\n",
    "\n",
    "    is_iterator = False\n",
    "    if size is None:\n",
    "        try:\n",
    "            size = len(sequence)\n",
    "        except TypeError:\n",
    "            is_iterator = True\n",
    "    if size is not None:\n",
    "        if every is None:\n",
    "            if size <= 200:\n",
    "                every = 1\n",
    "            else:\n",
    "                every = int(size / 200)     # every 0.5%\n",
    "    else:\n",
    "        assert every is not None, 'sequence is iterator, set every'\n",
    "\n",
    "    if is_iterator:\n",
    "        progress = IntProgress(min=0, max=1, value=1)\n",
    "        progress.bar_style = 'info'\n",
    "    else:\n",
    "        progress = IntProgress(min=0, max=size, value=0)\n",
    "    label = HTML()\n",
    "    box = VBox(children=[label, progress])\n",
    "    display(box)\n",
    "\n",
    "    index = 0\n",
    "    try:\n",
    "        for index, record in enumerate(sequence, 1):\n",
    "            if index == 1 or index % every == 0:\n",
    "                if is_iterator:\n",
    "                    label.value = '{name}: {index} / ?'.format(\n",
    "                        name=name,\n",
    "                        index=index\n",
    "                    )\n",
    "                else:\n",
    "                    progress.value = index\n",
    "                    label.value = u'{name}: {index} / {size}'.format(\n",
    "                        name=name,\n",
    "                        index=index,\n",
    "                        size=size\n",
    "                    )\n",
    "            yield record\n",
    "    except:\n",
    "        progress.bar_style = 'danger'\n",
    "        raise\n",
    "    else:\n",
    "        progress.bar_style = 'success'\n",
    "        progress.value = index\n",
    "        label.value = \"{name}: {index}\".format(\n",
    "            name=name,\n",
    "            index=str(index or '?')\n",
    "        )"
   ]
  },
  {
   "cell_type": "code",
   "execution_count": 4,
   "metadata": {
    "collapsed": true
   },
   "outputs": [],
   "source": [
    "def chunks(l, n):\n",
    "    for i in range(0, len(l), n):\n",
    "        yield l[i:i + n]"
   ]
  },
  {
   "cell_type": "markdown",
   "metadata": {},
   "source": [
    "## 1. Loading data"
   ]
  },
  {
   "cell_type": "markdown",
   "metadata": {},
   "source": [
    "### 1.1 Loading and decoding data"
   ]
  },
  {
   "cell_type": "code",
   "execution_count": null,
   "metadata": {
    "collapsed": true
   },
   "outputs": [],
   "source": [
    "data = pd.read_csv(input_csv, sep=',', encoding='utf8')\n",
    "data = data.loc[:, ~data.columns.str.contains('^Unnamed')]\n",
    "data_length_start = len(data)\n",
    "print('Initial length: {0}'.format(data_length_start))\n",
    "data.describe()"
   ]
  },
  {
   "cell_type": "markdown",
   "metadata": {},
   "source": [
    "## 2. Preprocessing"
   ]
  },
  {
   "cell_type": "markdown",
   "metadata": {},
   "source": [
    "### 2.1 Removing nans and unnecessary columns"
   ]
  },
  {
   "cell_type": "code",
   "execution_count": null,
   "metadata": {
    "collapsed": true
   },
   "outputs": [],
   "source": [
    "data = data.drop(['picture', 'link', 'from_id', 'post_id'], axis=1)\n",
    "data[['shares']] = data[['shares']].fillna(value=0)\n",
    "data = data.dropna(how='all')\n",
    "data = data.dropna(subset=['message'])\n",
    "print('Removed {0} elements'.format(data_length_start - len(data)))\n",
    "print('New length is {0}'.format(len(data)))"
   ]
  },
  {
   "cell_type": "markdown",
   "metadata": {},
   "source": [
    "### 2.2 Removing emojis, links and numbers"
   ]
  },
  {
   "cell_type": "markdown",
   "metadata": {},
   "source": [
    "emojis"
   ]
  },
  {
   "cell_type": "code",
   "execution_count": null,
   "metadata": {
    "collapsed": true
   },
   "outputs": [],
   "source": [
    "data['message'] = data['message'].str.replace(u'[^\\U00000000-\\U0000d7ff\\U0000e000-\\U0000ffff]', '')\n",
    "data['description'] = data['description'].str.replace(u'[^\\U00000000-\\U0000d7ff\\U0000e000-\\U0000ffff]', '')"
   ]
  },
  {
   "cell_type": "markdown",
   "metadata": {},
   "source": [
    "links"
   ]
  },
  {
   "cell_type": "code",
   "execution_count": null,
   "metadata": {
    "collapsed": true
   },
   "outputs": [],
   "source": [
    "data['message'] = data['message'].str.replace(r'(https|http)?:\\/\\/(\\w|\\.|\\/|\\?|\\=|\\&|\\%)*\\b', '')\n",
    "data['description'] = data['description'].str.replace(r'(https|http)?:\\/\\/(\\w|\\.|\\/|\\?|\\=|\\&|\\%)*\\b', '')"
   ]
  },
  {
   "cell_type": "markdown",
   "metadata": {},
   "source": [
    "numbers"
   ]
  },
  {
   "cell_type": "code",
   "execution_count": null,
   "metadata": {
    "collapsed": true
   },
   "outputs": [],
   "source": [
    "data['message'] = data['message'].str.replace(r'\\b\\d+\\b','')\n",
    "data['description'] = data['description'].str.replace(r'\\b\\d+\\b','')"
   ]
  },
  {
   "cell_type": "markdown",
   "metadata": {},
   "source": [
    "special chars"
   ]
  },
  {
   "cell_type": "code",
   "execution_count": null,
   "metadata": {
    "collapsed": true
   },
   "outputs": [],
   "source": [
    "data['message'] = data['message'].str.replace('\"', '')\n",
    "data['message'] = data['message'].str.replace('#', '')\n",
    "\n",
    "data['description'] = data['description'].str.replace('\"', '')\n",
    "data['description'] = data['description'].str.replace('#', '')"
   ]
  },
  {
   "cell_type": "markdown",
   "metadata": {},
   "source": [
    "### 2.3 Removing advertisements"
   ]
  },
  {
   "cell_type": "code",
   "execution_count": null,
   "metadata": {
    "collapsed": true,
    "scrolled": true
   },
   "outputs": [],
   "source": [
    "data = data[~data['from'].str.contains(\"Visit-Petersburg\", na=False)]\n",
    "print('Removed {0} elements'.format(data_length_start - len(data)))\n",
    "print('New length is {0}'.format(len(data)))\n",
    "data.describe()"
   ]
  },
  {
   "cell_type": "markdown",
   "metadata": {},
   "source": [
    "### 2.4 Stripping texts and converting types"
   ]
  },
  {
   "cell_type": "code",
   "execution_count": null,
   "metadata": {
    "collapsed": true
   },
   "outputs": [],
   "source": [
    "def convert_column_int(column):\n",
    "    converted = []\n",
    "    for value in column.values:\n",
    "        if str(value).isdigit():\n",
    "            converted.append(value)\n",
    "        else:\n",
    "            converted.append(0)\n",
    "    return converted"
   ]
  },
  {
   "cell_type": "code",
   "execution_count": null,
   "metadata": {
    "collapsed": true
   },
   "outputs": [],
   "source": [
    "data['message'] = data['message'].apply(lambda x: x[:max_string_length].strip())\n",
    "data['description'] = data['description'].apply(lambda x: str(x)[:max_string_length].strip())"
   ]
  },
  {
   "cell_type": "code",
   "execution_count": null,
   "metadata": {
    "collapsed": true
   },
   "outputs": [],
   "source": [
    "data['shares'] = convert_column_int(data['shares'])\n",
    "data[['shares']] = data[['shares']].apply(pd.to_numeric)"
   ]
  },
  {
   "cell_type": "markdown",
   "metadata": {},
   "source": [
    "### 2.5 Translating texts into english"
   ]
  },
  {
   "cell_type": "code",
   "execution_count": null,
   "metadata": {
    "collapsed": true
   },
   "outputs": [],
   "source": [
    "def translate_big_text(texts_source, dest = 'en', chunk_size = 500, delay=0):\n",
    "    translated = []\n",
    "    chunks_list = list(chunks(texts_source, chunk_size))\n",
    "    number_of_errors = 0\n",
    "    for chunk in log_progress(chunks_list):\n",
    "        # renew translator\n",
    "        Translator().translate(u''.join('Hello!'), dest=dest).text\n",
    "        trans_res, err_num = translate_big_text_internal(chunk)\n",
    "        number_of_errors += err_num\n",
    "        translated.extend(trans_res) \n",
    "        if delay > 0:\n",
    "            print('Waiting {0} sec'.format(delay))\n",
    "            time.sleep(delay)\n",
    "            \n",
    "    print('Number of errors: ', number_of_errors)\n",
    "    return translated"
   ]
  },
  {
   "cell_type": "code",
   "execution_count": null,
   "metadata": {
    "collapsed": true
   },
   "outputs": [],
   "source": [
    "def translate(text, dest='en'):\n",
    "    translator = Translator()\n",
    "    translated = ''\n",
    "    try:\n",
    "        translated = translator.translate(u''.join(text), dest=dest).text\n",
    "    except Exception as e:\n",
    "        print(e)\n",
    "    return translated"
   ]
  },
  {
   "cell_type": "code",
   "execution_count": null,
   "metadata": {
    "collapsed": true
   },
   "outputs": [],
   "source": [
    "def translate_big_text_internal(texts_source, dest='en'):\n",
    "    with multiprocessing.Pool(processes=30) as pool:\n",
    "        results = pool.starmap(translate, product(texts_source))\n",
    "        \n",
    "    return results, results.count('')"
   ]
  },
  {
   "cell_type": "code",
   "execution_count": null,
   "metadata": {
    "collapsed": true
   },
   "outputs": [],
   "source": [
    "msg_translations = translate_big_text(data['message'].values, chunk_size = translate_chunk, delay = translate_delay)"
   ]
  },
  {
   "cell_type": "code",
   "execution_count": null,
   "metadata": {
    "collapsed": true
   },
   "outputs": [],
   "source": [
    "data['message'] = msg_translations"
   ]
  },
  {
   "cell_type": "code",
   "execution_count": null,
   "metadata": {
    "collapsed": true
   },
   "outputs": [],
   "source": [
    "descr_translations = translate_big_text(data['description'].values, chunk_size = translate_chunk, delay = translate_delay)"
   ]
  },
  {
   "cell_type": "code",
   "execution_count": null,
   "metadata": {
    "collapsed": true
   },
   "outputs": [],
   "source": [
    "data['description'] = descr_translations"
   ]
  },
  {
   "cell_type": "code",
   "execution_count": null,
   "metadata": {
    "collapsed": true
   },
   "outputs": [],
   "source": [
    "names_translations = translate_big_text(data['from'].values, chunk_size = translate_chunk, delay = translate_delay)"
   ]
  },
  {
   "cell_type": "code",
   "execution_count": null,
   "metadata": {
    "collapsed": true
   },
   "outputs": [],
   "source": [
    "data['from'] = names_translations"
   ]
  },
  {
   "cell_type": "markdown",
   "metadata": {},
   "source": [
    "## 2.7 Moving all words to lower case"
   ]
  },
  {
   "cell_type": "code",
   "execution_count": null,
   "metadata": {
    "collapsed": true
   },
   "outputs": [],
   "source": [
    "data[\"message\"] = data[\"message\"].map(lambda x: x if type(x)!=str else x.lower())\n",
    "data[\"description\"] = data[\"description\"].map(lambda x: x if type(x)!=str else x.lower())"
   ]
  },
  {
   "cell_type": "markdown",
   "metadata": {},
   "source": [
    "### 2.8 Tokenizing sentences"
   ]
  },
  {
   "cell_type": "code",
   "execution_count": null,
   "metadata": {
    "collapsed": true
   },
   "outputs": [],
   "source": [
    "data['message'] = data['message'].apply(lambda x: nltk.word_tokenize(str(x)))\n",
    "data['description'] = data['description'].apply(lambda x: nltk.word_tokenize(str(x)))"
   ]
  },
  {
   "cell_type": "markdown",
   "metadata": {
    "collapsed": true
   },
   "source": [
    "### 2.9 Removing stopwords and punctuation"
   ]
  },
  {
   "cell_type": "code",
   "execution_count": 19,
   "metadata": {
    "collapsed": true
   },
   "outputs": [],
   "source": [
    "stop_words = stopwords.words('english')\n",
    "stop_words += (['.', ',', '\"', \"'\", '?', '!', ':', ';', '(', ')', '[', ']', '{', '}', '\\n', '/n', '-', '#', 'visitpetersburg', 'visitrussia', 'russia', 'the', 'is', 'a'])"
   ]
  },
  {
   "cell_type": "code",
   "execution_count": null,
   "metadata": {
    "collapsed": true
   },
   "outputs": [],
   "source": [
    "data['message'] = data['message'].apply(lambda x: list(filter(lambda y: y not in stop_words, x)))\n",
    "data['description'] = data['description'].apply(lambda x: list(filter(lambda y: y not in stop_words, x)))"
   ]
  },
  {
   "cell_type": "code",
   "execution_count": null,
   "metadata": {
    "collapsed": true
   },
   "outputs": [],
   "source": [
    "data['message'] = data['message'].apply(lambda x: \" \".join(x))\n",
    "data['description'] = data['description'].apply(lambda x: \" \".join(x))"
   ]
  },
  {
   "cell_type": "markdown",
   "metadata": {},
   "source": [
    "### 2.10 Saving data to file"
   ]
  },
  {
   "cell_type": "code",
   "execution_count": 6,
   "metadata": {
    "collapsed": true
   },
   "outputs": [],
   "source": [
    "def save_csv():\n",
    "    data.to_csv(output_csv, index=False)"
   ]
  },
  {
   "cell_type": "code",
   "execution_count": 7,
   "metadata": {
    "collapsed": true
   },
   "outputs": [],
   "source": [
    "def parse_csv(series):\n",
    "    values = series.values\n",
    "    parsed = []\n",
    "    for value in values:\n",
    "        parsed.append(json.loads(value.replace(\"'\",'\"')))\n",
    "    return parsed"
   ]
  },
  {
   "cell_type": "code",
   "execution_count": 8,
   "metadata": {
    "collapsed": true
   },
   "outputs": [],
   "source": [
    "def load_csv():\n",
    "    loaded_data = pd.read_csv(output_csv, sep=',', encoding='utf8')\n",
    "    loaded_data['message_sentiment_vader'] = parse_csv(loaded_data['message_sentiment_vader'])\n",
    "    loaded_data['description_sentiment_vader'] = parse_csv(loaded_data['description_sentiment_vader'])\n",
    "    return loaded_data"
   ]
  },
  {
   "cell_type": "code",
   "execution_count": null,
   "metadata": {
    "collapsed": true
   },
   "outputs": [],
   "source": [
    "save_csv()"
   ]
  },
  {
   "cell_type": "markdown",
   "metadata": {},
   "source": [
    "# 3. Processing data"
   ]
  },
  {
   "cell_type": "markdown",
   "metadata": {},
   "source": [
    "## 3.1 Trying to guess gender by name"
   ]
  },
  {
   "cell_type": "code",
   "execution_count": null,
   "metadata": {
    "collapsed": true
   },
   "outputs": [],
   "source": [
    "detector = gender.Detector(case_sensitive=False)"
   ]
  },
  {
   "cell_type": "code",
   "execution_count": null,
   "metadata": {
    "collapsed": true
   },
   "outputs": [],
   "source": [
    "data['from_gender'] = [detector.get_gender((str(name)).split(' ')[0]) for name in data['from'].values]"
   ]
  },
  {
   "cell_type": "code",
   "execution_count": null,
   "metadata": {
    "collapsed": true
   },
   "outputs": [],
   "source": [
    "data['from_gender'].replace([0],['unknown'],inplace=True)"
   ]
  },
  {
   "cell_type": "markdown",
   "metadata": {},
   "source": [
    "## 3.1 Getting sentiments by Vader algorithm"
   ]
  },
  {
   "cell_type": "code",
   "execution_count": null,
   "metadata": {
    "collapsed": true
   },
   "outputs": [],
   "source": [
    "sid = SentimentIntensityAnalyzer()\n",
    "message_sent = []\n",
    "descr_sent = []\n",
    "data['message'].apply(lambda x: message_sent.append(sid.polarity_scores((x))));\n",
    "data['description'].apply(lambda x: descr_sent.append(sid.polarity_scores((x))));\n",
    "data['message_sentiment_vader'] = message_sent\n",
    "data['description_sentiment_vader'] = descr_sent"
   ]
  },
  {
   "cell_type": "code",
   "execution_count": 63,
   "metadata": {
    "collapsed": true
   },
   "outputs": [],
   "source": [
    "def get_message_sentiment(series, border_line=0.2):\n",
    "    values = series.values\n",
    "    parsed_values = []\n",
    "    for value in values:\n",
    "        if value['neg'] >= border_line:\n",
    "            parsed_values.append('negative')\n",
    "        elif value['pos'] >= border_line:\n",
    "            parsed_values.append('positive')\n",
    "        else:\n",
    "            parsed_values.append('neutral')\n",
    "    return parsed_values"
   ]
  },
  {
   "cell_type": "code",
   "execution_count": null,
   "metadata": {
    "collapsed": true
   },
   "outputs": [],
   "source": [
    "data['message_sentiment_vader_parsed'] = get_message_sentiment(data['message_sentiment_vader'])\n",
    "data['description_sentiment_vader_parsed'] = get_message_sentiment(data['description_sentiment_vader'])"
   ]
  },
  {
   "cell_type": "code",
   "execution_count": null,
   "metadata": {
    "collapsed": true
   },
   "outputs": [],
   "source": [
    "save_csv()"
   ]
  },
  {
   "cell_type": "markdown",
   "metadata": {
    "collapsed": true
   },
   "source": [
    "## 3.2 Plotting stats "
   ]
  },
  {
   "cell_type": "code",
   "execution_count": 37,
   "metadata": {
    "collapsed": true
   },
   "outputs": [],
   "source": [
    "data = load_csv()"
   ]
  },
  {
   "cell_type": "markdown",
   "metadata": {},
   "source": [
    "### 3.2.1 Shares per gender"
   ]
  },
  {
   "cell_type": "code",
   "execution_count": 10,
   "metadata": {},
   "outputs": [
    {
     "data": {
      "text/html": [
       "<div>\n",
       "<style>\n",
       "    .dataframe thead tr:only-child th {\n",
       "        text-align: right;\n",
       "    }\n",
       "\n",
       "    .dataframe thead th {\n",
       "        text-align: left;\n",
       "    }\n",
       "\n",
       "    .dataframe tbody tr th {\n",
       "        vertical-align: top;\n",
       "    }\n",
       "</style>\n",
       "<table border=\"1\" class=\"dataframe\">\n",
       "  <thead>\n",
       "    <tr style=\"text-align: right;\">\n",
       "      <th></th>\n",
       "      <th>shares</th>\n",
       "    </tr>\n",
       "    <tr>\n",
       "      <th>from_gender</th>\n",
       "      <th></th>\n",
       "    </tr>\n",
       "  </thead>\n",
       "  <tbody>\n",
       "    <tr>\n",
       "      <th>andy</th>\n",
       "      <td>1</td>\n",
       "    </tr>\n",
       "    <tr>\n",
       "      <th>female</th>\n",
       "      <td>2166</td>\n",
       "    </tr>\n",
       "    <tr>\n",
       "      <th>male</th>\n",
       "      <td>6877</td>\n",
       "    </tr>\n",
       "    <tr>\n",
       "      <th>mostly_female</th>\n",
       "      <td>0</td>\n",
       "    </tr>\n",
       "    <tr>\n",
       "      <th>mostly_male</th>\n",
       "      <td>512</td>\n",
       "    </tr>\n",
       "    <tr>\n",
       "      <th>unknown</th>\n",
       "      <td>227183</td>\n",
       "    </tr>\n",
       "  </tbody>\n",
       "</table>\n",
       "</div>"
      ],
      "text/plain": [
       "               shares\n",
       "from_gender          \n",
       "andy                1\n",
       "female           2166\n",
       "male             6877\n",
       "mostly_female       0\n",
       "mostly_male       512\n",
       "unknown        227183"
      ]
     },
     "execution_count": 10,
     "metadata": {},
     "output_type": "execute_result"
    }
   ],
   "source": [
    "data.groupby(['from_gender']).sum()"
   ]
  },
  {
   "cell_type": "markdown",
   "metadata": {},
   "source": [
    "#### 3.2.1.1 Row data"
   ]
  },
  {
   "cell_type": "code",
   "execution_count": 11,
   "metadata": {},
   "outputs": [
    {
     "data": {
      "image/png": "[encoded data removed]",
      "text/plain": [
       "<matplotlib.figure.Figure at 0x1102ce320>"
      ]
     },
     "metadata": {},
     "output_type": "display_data"
    }
   ],
   "source": [
    "groups = data.groupby(['from_gender']).size()\n",
    "groups = groups.drop(['andy'], axis=0)\n",
    "ax = groups.plot(kind = 'bar', grid = True, title = 'Reviews in tourist groups by gender', figsize=(8, 8))\n",
    "ax.set_xlabel('Gender');\n",
    "ax.set_ylabel('Number of shares');"
   ]
  },
  {
   "cell_type": "markdown",
   "metadata": {},
   "source": [
    "#### 3.2.1.2 Only genders"
   ]
  },
  {
   "cell_type": "code",
   "execution_count": 12,
   "metadata": {
    "collapsed": true
   },
   "outputs": [],
   "source": [
    "groups = data.groupby(['from_gender']).size()\n",
    "groups = groups.drop(['andy', 'unknown'], axis=0)\n",
    "groups['female'] += groups['mostly_female']\n",
    "groups['male'] += groups['mostly_male']\n",
    "groups = groups.drop(['mostly_female', 'mostly_male'], axis=0)"
   ]
  },
  {
   "cell_type": "code",
   "execution_count": 13,
   "metadata": {},
   "outputs": [
    {
     "data": {
      "image/png": "[encoded data removed]",
      "text/plain": [
       "<matplotlib.figure.Figure at 0x10eb87978>"
      ]
     },
     "metadata": {},
     "output_type": "display_data"
    }
   ],
   "source": [
    "ax = groups.plot(kind = 'bar', grid = True, title = 'Reviews in tourist groups by gender', figsize=(8, 8))\n",
    "ax.set_xlabel('Gender');\n",
    "ax.set_ylabel('Number of posts');"
   ]
  },
  {
   "cell_type": "markdown",
   "metadata": {},
   "source": [
    "### 3.2.2 Messages sentiments"
   ]
  },
  {
   "cell_type": "markdown",
   "metadata": {},
   "source": [
    "#### 3.2.2.1 Just sentiments"
   ]
  },
  {
   "cell_type": "code",
   "execution_count": 14,
   "metadata": {},
   "outputs": [
    {
     "data": {
      "image/png": "[encoded data removed]",
      "text/plain": [
       "<matplotlib.figure.Figure at 0x1104b0c50>"
      ]
     },
     "metadata": {},
     "output_type": "display_data"
    }
   ],
   "source": [
    "plt.figure(figsize=(8, 8))\n",
    "ax = sns.countplot(x = data['message_sentiment_vader_parsed'])\n",
    "ax.set_title('Tourists reviews analysis')\n",
    "ax.set_xlabel('Message sentiment')\n",
    "ax.set_ylabel('Count')\n",
    "plt.show()"
   ]
  },
  {
   "cell_type": "markdown",
   "metadata": {},
   "source": [
    "#### 3.2.2.2 Sentiments multiplied to shares"
   ]
  },
  {
   "cell_type": "code",
   "execution_count": 15,
   "metadata": {
    "collapsed": true
   },
   "outputs": [],
   "source": [
    "groups = data.groupby(['message_sentiment_vader_parsed']).size()\n",
    "neg_shares = np.sum(data[data['message_sentiment_vader_parsed'] == 'negative']['shares'])\n",
    "neu_shares = np.sum(data[data['message_sentiment_vader_parsed'] == 'neutral']['shares'])\n",
    "neu_shares = np.sum(data[data['message_sentiment_vader_parsed'] == 'positive']['shares'])\n",
    "\n",
    "groups['negative'] *= neg_shares\n",
    "groups['neutral'] *= neu_shares\n",
    "groups['positive'] *= neu_shares"
   ]
  },
  {
   "cell_type": "code",
   "execution_count": 16,
   "metadata": {},
   "outputs": [
    {
     "data": {
      "image/png": "[encoded data removed]",
      "text/plain": [
       "<matplotlib.figure.Figure at 0x10fbc4908>"
      ]
     },
     "metadata": {},
     "output_type": "display_data"
    }
   ],
   "source": [
    "ax = groups.plot(kind = 'bar', grid = True, title = 'Reviews in tourist groups multiplied to shares', figsize=(8, 8), color='green')\n",
    "ax.set_xlabel('Sentiment');\n",
    "ax.set_ylabel('Total number of posts and shares');"
   ]
  },
  {
   "cell_type": "markdown",
   "metadata": {},
   "source": [
    "#### 3.2.2.3 Sentiments by gender"
   ]
  },
  {
   "cell_type": "code",
   "execution_count": 17,
   "metadata": {},
   "outputs": [
    {
     "data": {
      "image/png": "[encoded data removed]",
      "text/plain": [
       "<matplotlib.figure.Figure at 0x1a19324cf8>"
      ]
     },
     "metadata": {},
     "output_type": "display_data"
    }
   ],
   "source": [
    "data_tmp = data.copy()\n",
    "data_tmp = data_tmp.replace({\"from_gender\": {'mostly_female': 'female', 'mostly_male': 'male', 'andy': 'unknown'}})\n",
    "data_tmp = data_tmp[data_tmp['from_gender'] != 'unknown']\n",
    "ax = pd.crosstab(data_tmp['from_gender'], \n",
    "                 data_tmp['message_sentiment_vader_parsed']).plot.bar(title = 'Revies sentiments by gender', figsize=(8, 8))\n",
    "ax.set_xlabel('Gender');\n",
    "ax.set_ylabel('Number of posts');"
   ]
  },
  {
   "cell_type": "markdown",
   "metadata": {},
   "source": [
    "### 3.2.3 Words"
   ]
  },
  {
   "cell_type": "markdown",
   "metadata": {},
   "source": [
    "#### 3.2.3.1 Most common words"
   ]
  },
  {
   "cell_type": "code",
   "execution_count": 38,
   "metadata": {
    "collapsed": true
   },
   "outputs": [],
   "source": [
    "all_strings = \" \".join(map(str, data['message'].values)) + \" \".join(map(str, data['description'].values))\n",
    "all_words = nltk.word_tokenize(all_strings)\n",
    "stop_words += (['/', \"'s\", \"''\", '...', '..', '''``''', '//', '.-', '–', '&', '$', '%', '’', '--', '@'])\n",
    "all_words = list(filter(lambda y: y not in stop_words, all_words))\n",
    "counted_words = pd.DataFrame(Counter(all_words).most_common(), columns=['word', 'count'])"
   ]
  },
  {
   "cell_type": "code",
   "execution_count": 43,
   "metadata": {},
   "outputs": [
    {
     "data": {
      "text/html": [
       "<div>\n",
       "<style>\n",
       "    .dataframe thead tr:only-child th {\n",
       "        text-align: right;\n",
       "    }\n",
       "\n",
       "    .dataframe thead th {\n",
       "        text-align: left;\n",
       "    }\n",
       "\n",
       "    .dataframe tbody tr th {\n",
       "        vertical-align: top;\n",
       "    }\n",
       "</style>\n",
       "<table border=\"1\" class=\"dataframe\">\n",
       "  <thead>\n",
       "    <tr style=\"text-align: right;\">\n",
       "      <th></th>\n",
       "      <th>word</th>\n",
       "      <th>count</th>\n",
       "    </tr>\n",
       "  </thead>\n",
       "  <tbody>\n",
       "    <tr>\n",
       "      <th>1</th>\n",
       "      <td>yakutia</td>\n",
       "      <td>2341</td>\n",
       "    </tr>\n",
       "    <tr>\n",
       "      <th>2</th>\n",
       "      <td>russian</td>\n",
       "      <td>2302</td>\n",
       "    </tr>\n",
       "    <tr>\n",
       "      <th>3</th>\n",
       "      <td>moscow</td>\n",
       "      <td>2023</td>\n",
       "    </tr>\n",
       "    <tr>\n",
       "      <th>4</th>\n",
       "      <td>petersburg</td>\n",
       "      <td>1941</td>\n",
       "    </tr>\n",
       "    <tr>\n",
       "      <th>5</th>\n",
       "      <td>st.</td>\n",
       "      <td>1711</td>\n",
       "    </tr>\n",
       "    <tr>\n",
       "      <th>6</th>\n",
       "      <td>kaliningrad</td>\n",
       "      <td>1298</td>\n",
       "    </tr>\n",
       "    <tr>\n",
       "      <th>7</th>\n",
       "      <td>yakutsk</td>\n",
       "      <td>1288</td>\n",
       "    </tr>\n",
       "    <tr>\n",
       "      <th>8</th>\n",
       "      <td>year</td>\n",
       "      <td>1287</td>\n",
       "    </tr>\n",
       "    <tr>\n",
       "      <th>9</th>\n",
       "      <td>tour</td>\n",
       "      <td>1208</td>\n",
       "    </tr>\n",
       "    <tr>\n",
       "      <th>10</th>\n",
       "      <td>photo</td>\n",
       "      <td>1177</td>\n",
       "    </tr>\n",
       "    <tr>\n",
       "      <th>11</th>\n",
       "      <td>new</td>\n",
       "      <td>1173</td>\n",
       "    </tr>\n",
       "    <tr>\n",
       "      <th>12</th>\n",
       "      <td>museum</td>\n",
       "      <td>1103</td>\n",
       "    </tr>\n",
       "    <tr>\n",
       "      <th>13</th>\n",
       "      <td>city</td>\n",
       "      <td>1016</td>\n",
       "    </tr>\n",
       "    <tr>\n",
       "      <th>14</th>\n",
       "      <td>one</td>\n",
       "      <td>1009</td>\n",
       "    </tr>\n",
       "    <tr>\n",
       "      <th>15</th>\n",
       "      <td>amber</td>\n",
       "      <td>1001</td>\n",
       "    </tr>\n",
       "    <tr>\n",
       "      <th>16</th>\n",
       "      <td>winter</td>\n",
       "      <td>973</td>\n",
       "    </tr>\n",
       "    <tr>\n",
       "      <th>17</th>\n",
       "      <td>world</td>\n",
       "      <td>932</td>\n",
       "    </tr>\n",
       "    <tr>\n",
       "      <th>18</th>\n",
       "      <td>travel</td>\n",
       "      <td>918</td>\n",
       "    </tr>\n",
       "    <tr>\n",
       "      <th>19</th>\n",
       "      <td>kamchatka</td>\n",
       "      <td>894</td>\n",
       "    </tr>\n",
       "    <tr>\n",
       "      <th>20</th>\n",
       "      <td>day</td>\n",
       "      <td>770</td>\n",
       "    </tr>\n",
       "    <tr>\n",
       "      <th>21</th>\n",
       "      <td>siberia</td>\n",
       "      <td>746</td>\n",
       "    </tr>\n",
       "    <tr>\n",
       "      <th>22</th>\n",
       "      <td>river</td>\n",
       "      <td>733</td>\n",
       "    </tr>\n",
       "    <tr>\n",
       "      <th>23</th>\n",
       "      <td>first</td>\n",
       "      <td>722</td>\n",
       "    </tr>\n",
       "    <tr>\n",
       "      <th>24</th>\n",
       "      <td>time</td>\n",
       "      <td>698</td>\n",
       "    </tr>\n",
       "  </tbody>\n",
       "</table>\n",
       "</div>"
      ],
      "text/plain": [
       "           word  count\n",
       "1       yakutia   2341\n",
       "2       russian   2302\n",
       "3        moscow   2023\n",
       "4    petersburg   1941\n",
       "5           st.   1711\n",
       "6   kaliningrad   1298\n",
       "7       yakutsk   1288\n",
       "8          year   1287\n",
       "9          tour   1208\n",
       "10        photo   1177\n",
       "11          new   1173\n",
       "12       museum   1103\n",
       "13         city   1016\n",
       "14          one   1009\n",
       "15        amber   1001\n",
       "16       winter    973\n",
       "17        world    932\n",
       "18       travel    918\n",
       "19    kamchatka    894\n",
       "20          day    770\n",
       "21      siberia    746\n",
       "22        river    733\n",
       "23        first    722\n",
       "24         time    698"
      ]
     },
     "execution_count": 43,
     "metadata": {},
     "output_type": "execute_result"
    }
   ],
   "source": [
    "counted_words.head(25)[1:]"
   ]
  },
  {
   "cell_type": "markdown",
   "metadata": {},
   "source": [
    "Plot"
   ]
  },
  {
   "cell_type": "code",
   "execution_count": 51,
   "metadata": {},
   "outputs": [],
   "source": [
    "top25 = counted_words.head(25)[1:]"
   ]
  },
  {
   "cell_type": "code",
   "execution_count": 52,
   "metadata": {},
   "outputs": [
    {
     "data": {
      "text/plain": [
       "<matplotlib.axes._subplots.AxesSubplot at 0x1a21219e48>"
      ]
     },
     "execution_count": 52,
     "metadata": {},
     "output_type": "execute_result"
    },
    {
     "data": {
      "image/png": "[encoded data removed]",
      "text/plain": [
       "<matplotlib.figure.Figure at 0x1a212069e8>"
      ]
     },
     "metadata": {},
     "output_type": "display_data"
    }
   ],
   "source": [
    "top25.plot.bar(x='word', y='count', figsize=(8, 8), color='red')"
   ]
  },
  {
   "cell_type": "markdown",
   "metadata": {},
   "source": [
    "#### 3.2.3.2 Most common  words by sentiment"
   ]
  },
  {
   "cell_type": "code",
   "execution_count": 56,
   "metadata": {
    "collapsed": true
   },
   "outputs": [],
   "source": [
    "counted_words_sent = counted_words.copy()"
   ]
  },
  {
   "cell_type": "code",
   "execution_count": 50,
   "metadata": {},
   "outputs": [
    {
     "data": {
      "text/plain": [
       "{'compound': -0.1531, 'neg': 1.0, 'neu': 0.0, 'pos': 0.0}"
      ]
     },
     "execution_count": 50,
     "metadata": {},
     "output_type": "execute_result"
    }
   ],
   "source": [
    "sid = SentimentIntensityAnalyzer()"
   ]
  },
  {
   "cell_type": "code",
   "execution_count": 69,
   "metadata": {},
   "outputs": [],
   "source": [
    "sentiments = []\n",
    "counted_words_sent['word'].apply(lambda x: sentiments.append(sid.polarity_scores((x))));\n",
    "counted_words_sent['word_tmp'] = sentiments\n",
    "counted_words_sent['sentiment'] = get_message_sentiment(counted_words_sent['word_tmp'])\n",
    "counted_words_sent = counted_words_sent.drop(['word_tmp'], axis=1)"
   ]
  },
  {
   "cell_type": "markdown",
   "metadata": {},
   "source": [
    "Negative"
   ]
  },
  {
   "cell_type": "code",
   "execution_count": 117,
   "metadata": {},
   "outputs": [
    {
     "data": {
      "text/plain": [
       "<matplotlib.axes._subplots.AxesSubplot at 0x1a19bfd1d0>"
      ]
     },
     "execution_count": 117,
     "metadata": {},
     "output_type": "execute_result"
    },
    {
     "data": {
      "image/png": "[encoded data removed]",
      "text/plain": [
       "<matplotlib.figure.Figure at 0x1a1c07cbe0>"
      ]
     },
     "metadata": {},
     "output_type": "display_data"
    }
   ],
   "source": [
    "negative = counted_words_sent[counted_words_sent['sentiment'] == 'negative'].head(25)\n",
    "negative.plot.bar(x='word', y='count', figsize=(8, 8), color='red')"
   ]
  },
  {
   "cell_type": "code",
   "execution_count": 118,
   "metadata": {},
   "outputs": [
    {
     "data": {
      "text/html": [
       "<div>\n",
       "<style>\n",
       "    .dataframe thead tr:only-child th {\n",
       "        text-align: right;\n",
       "    }\n",
       "\n",
       "    .dataframe thead th {\n",
       "        text-align: left;\n",
       "    }\n",
       "\n",
       "    .dataframe tbody tr th {\n",
       "        vertical-align: top;\n",
       "    }\n",
       "</style>\n",
       "<table border=\"1\" class=\"dataframe\">\n",
       "  <thead>\n",
       "    <tr style=\"text-align: right;\">\n",
       "      <th></th>\n",
       "      <th>word</th>\n",
       "      <th>count</th>\n",
       "      <th>sentiment</th>\n",
       "    </tr>\n",
       "  </thead>\n",
       "  <tbody>\n",
       "    <tr>\n",
       "      <th>337</th>\n",
       "      <td>war</td>\n",
       "      <td>128</td>\n",
       "      <td>negative</td>\n",
       "    </tr>\n",
       "    <tr>\n",
       "      <th>627</th>\n",
       "      <td>miss</td>\n",
       "      <td>72</td>\n",
       "      <td>negative</td>\n",
       "    </tr>\n",
       "    <tr>\n",
       "      <th>682</th>\n",
       "      <td>hard</td>\n",
       "      <td>67</td>\n",
       "      <td>negative</td>\n",
       "    </tr>\n",
       "    <tr>\n",
       "      <th>720</th>\n",
       "      <td>stop</td>\n",
       "      <td>63</td>\n",
       "      <td>negative</td>\n",
       "    </tr>\n",
       "    <tr>\n",
       "      <th>755</th>\n",
       "      <td>lower</td>\n",
       "      <td>61</td>\n",
       "      <td>negative</td>\n",
       "    </tr>\n",
       "    <tr>\n",
       "      <th>763</th>\n",
       "      <td>fire</td>\n",
       "      <td>60</td>\n",
       "      <td>negative</td>\n",
       "    </tr>\n",
       "    <tr>\n",
       "      <th>821</th>\n",
       "      <td>low</td>\n",
       "      <td>56</td>\n",
       "      <td>negative</td>\n",
       "    </tr>\n",
       "    <tr>\n",
       "      <th>969</th>\n",
       "      <td>critic</td>\n",
       "      <td>49</td>\n",
       "      <td>negative</td>\n",
       "    </tr>\n",
       "    <tr>\n",
       "      <th>990</th>\n",
       "      <td>grief</td>\n",
       "      <td>48</td>\n",
       "      <td>negative</td>\n",
       "    </tr>\n",
       "    <tr>\n",
       "      <th>1023</th>\n",
       "      <td>leave</td>\n",
       "      <td>45</td>\n",
       "      <td>negative</td>\n",
       "    </tr>\n",
       "    <tr>\n",
       "      <th>1109</th>\n",
       "      <td>lost</td>\n",
       "      <td>42</td>\n",
       "      <td>negative</td>\n",
       "    </tr>\n",
       "    <tr>\n",
       "      <th>1277</th>\n",
       "      <td>difficult</td>\n",
       "      <td>37</td>\n",
       "      <td>negative</td>\n",
       "    </tr>\n",
       "    <tr>\n",
       "      <th>1309</th>\n",
       "      <td>ruins</td>\n",
       "      <td>36</td>\n",
       "      <td>negative</td>\n",
       "    </tr>\n",
       "    <tr>\n",
       "      <th>1338</th>\n",
       "      <td>fight</td>\n",
       "      <td>35</td>\n",
       "      <td>negative</td>\n",
       "    </tr>\n",
       "    <tr>\n",
       "      <th>1449</th>\n",
       "      <td>forget</td>\n",
       "      <td>32</td>\n",
       "      <td>negative</td>\n",
       "    </tr>\n",
       "    <tr>\n",
       "      <th>1464</th>\n",
       "      <td>problems</td>\n",
       "      <td>32</td>\n",
       "      <td>negative</td>\n",
       "    </tr>\n",
       "    <tr>\n",
       "      <th>1491</th>\n",
       "      <td>stops</td>\n",
       "      <td>31</td>\n",
       "      <td>negative</td>\n",
       "    </tr>\n",
       "    <tr>\n",
       "      <th>1515</th>\n",
       "      <td>limited</td>\n",
       "      <td>31</td>\n",
       "      <td>negative</td>\n",
       "    </tr>\n",
       "    <tr>\n",
       "      <th>1655</th>\n",
       "      <td>died</td>\n",
       "      <td>28</td>\n",
       "      <td>negative</td>\n",
       "    </tr>\n",
       "    <tr>\n",
       "      <th>1680</th>\n",
       "      <td>beaten</td>\n",
       "      <td>27</td>\n",
       "      <td>negative</td>\n",
       "    </tr>\n",
       "    <tr>\n",
       "      <th>1695</th>\n",
       "      <td>unfortunately</td>\n",
       "      <td>27</td>\n",
       "      <td>negative</td>\n",
       "    </tr>\n",
       "    <tr>\n",
       "      <th>1712</th>\n",
       "      <td>pay</td>\n",
       "      <td>27</td>\n",
       "      <td>negative</td>\n",
       "    </tr>\n",
       "    <tr>\n",
       "      <th>1745</th>\n",
       "      <td>death</td>\n",
       "      <td>26</td>\n",
       "      <td>negative</td>\n",
       "    </tr>\n",
       "    <tr>\n",
       "      <th>1791</th>\n",
       "      <td>battle</td>\n",
       "      <td>25</td>\n",
       "      <td>negative</td>\n",
       "    </tr>\n",
       "    <tr>\n",
       "      <th>1847</th>\n",
       "      <td>terrible</td>\n",
       "      <td>24</td>\n",
       "      <td>negative</td>\n",
       "    </tr>\n",
       "  </tbody>\n",
       "</table>\n",
       "</div>"
      ],
      "text/plain": [
       "               word  count sentiment\n",
       "337             war    128  negative\n",
       "627            miss     72  negative\n",
       "682            hard     67  negative\n",
       "720            stop     63  negative\n",
       "755           lower     61  negative\n",
       "763            fire     60  negative\n",
       "821             low     56  negative\n",
       "969          critic     49  negative\n",
       "990           grief     48  negative\n",
       "1023          leave     45  negative\n",
       "1109           lost     42  negative\n",
       "1277      difficult     37  negative\n",
       "1309          ruins     36  negative\n",
       "1338          fight     35  negative\n",
       "1449         forget     32  negative\n",
       "1464       problems     32  negative\n",
       "1491          stops     31  negative\n",
       "1515        limited     31  negative\n",
       "1655           died     28  negative\n",
       "1680         beaten     27  negative\n",
       "1695  unfortunately     27  negative\n",
       "1712            pay     27  negative\n",
       "1745          death     26  negative\n",
       "1791         battle     25  negative\n",
       "1847       terrible     24  negative"
      ]
     },
     "execution_count": 118,
     "metadata": {},
     "output_type": "execute_result"
    }
   ],
   "source": [
    "negative"
   ]
  },
  {
   "cell_type": "markdown",
   "metadata": {},
   "source": [
    "Positive"
   ]
  },
  {
   "cell_type": "code",
   "execution_count": 119,
   "metadata": {},
   "outputs": [
    {
     "data": {
      "text/plain": [
       "<matplotlib.axes._subplots.AxesSubplot at 0x1a1bd34b70>"
      ]
     },
     "execution_count": 119,
     "metadata": {},
     "output_type": "execute_result"
    },
    {
     "data": {
      "image/png": "[encoded data removed]",
      "text/plain": [
       "<matplotlib.figure.Figure at 0x1a1bfce208>"
      ]
     },
     "metadata": {},
     "output_type": "display_data"
    }
   ],
   "source": [
    "positive = counted_words_sent[counted_words_sent['sentiment'] == 'positive'].head(25)\n",
    "positive.plot.bar(x='word', y='count', figsize=(8, 8), color='green')"
   ]
  },
  {
   "cell_type": "code",
   "execution_count": 120,
   "metadata": {},
   "outputs": [
    {
     "data": {
      "text/html": [
       "<div>\n",
       "<style>\n",
       "    .dataframe thead tr:only-child th {\n",
       "        text-align: right;\n",
       "    }\n",
       "\n",
       "    .dataframe thead th {\n",
       "        text-align: left;\n",
       "    }\n",
       "\n",
       "    .dataframe tbody tr th {\n",
       "        vertical-align: top;\n",
       "    }\n",
       "</style>\n",
       "<table border=\"1\" class=\"dataframe\">\n",
       "  <thead>\n",
       "    <tr style=\"text-align: right;\">\n",
       "      <th></th>\n",
       "      <th>word</th>\n",
       "      <th>count</th>\n",
       "      <th>sentiment</th>\n",
       "    </tr>\n",
       "  </thead>\n",
       "  <tbody>\n",
       "    <tr>\n",
       "      <th>29</th>\n",
       "      <td>good</td>\n",
       "      <td>579</td>\n",
       "      <td>positive</td>\n",
       "    </tr>\n",
       "    <tr>\n",
       "      <th>44</th>\n",
       "      <td>like</td>\n",
       "      <td>461</td>\n",
       "      <td>positive</td>\n",
       "    </tr>\n",
       "    <tr>\n",
       "      <th>52</th>\n",
       "      <td>great</td>\n",
       "      <td>440</td>\n",
       "      <td>positive</td>\n",
       "    </tr>\n",
       "    <tr>\n",
       "      <th>55</th>\n",
       "      <td>friends</td>\n",
       "      <td>402</td>\n",
       "      <td>positive</td>\n",
       "    </tr>\n",
       "    <tr>\n",
       "      <th>67</th>\n",
       "      <td>beautiful</td>\n",
       "      <td>344</td>\n",
       "      <td>positive</td>\n",
       "    </tr>\n",
       "    <tr>\n",
       "      <th>71</th>\n",
       "      <td>share</td>\n",
       "      <td>339</td>\n",
       "      <td>positive</td>\n",
       "    </tr>\n",
       "    <tr>\n",
       "      <th>72</th>\n",
       "      <td>best</td>\n",
       "      <td>336</td>\n",
       "      <td>positive</td>\n",
       "    </tr>\n",
       "    <tr>\n",
       "      <th>86</th>\n",
       "      <td>special</td>\n",
       "      <td>303</td>\n",
       "      <td>positive</td>\n",
       "    </tr>\n",
       "    <tr>\n",
       "      <th>124</th>\n",
       "      <td>well</td>\n",
       "      <td>252</td>\n",
       "      <td>positive</td>\n",
       "    </tr>\n",
       "    <tr>\n",
       "      <th>134</th>\n",
       "      <td>adventure</td>\n",
       "      <td>240</td>\n",
       "      <td>positive</td>\n",
       "    </tr>\n",
       "    <tr>\n",
       "      <th>137</th>\n",
       "      <td>happy</td>\n",
       "      <td>237</td>\n",
       "      <td>positive</td>\n",
       "    </tr>\n",
       "    <tr>\n",
       "      <th>145</th>\n",
       "      <td>love</td>\n",
       "      <td>224</td>\n",
       "      <td>positive</td>\n",
       "    </tr>\n",
       "    <tr>\n",
       "      <th>146</th>\n",
       "      <td>festival</td>\n",
       "      <td>224</td>\n",
       "      <td>positive</td>\n",
       "    </tr>\n",
       "    <tr>\n",
       "      <th>155</th>\n",
       "      <td>support</td>\n",
       "      <td>213</td>\n",
       "      <td>positive</td>\n",
       "    </tr>\n",
       "    <tr>\n",
       "      <th>160</th>\n",
       "      <td>interesting</td>\n",
       "      <td>211</td>\n",
       "      <td>positive</td>\n",
       "    </tr>\n",
       "    <tr>\n",
       "      <th>165</th>\n",
       "      <td>free</td>\n",
       "      <td>205</td>\n",
       "      <td>positive</td>\n",
       "    </tr>\n",
       "    <tr>\n",
       "      <th>169</th>\n",
       "      <td>please</td>\n",
       "      <td>201</td>\n",
       "      <td>positive</td>\n",
       "    </tr>\n",
       "    <tr>\n",
       "      <th>180</th>\n",
       "      <td>help</td>\n",
       "      <td>196</td>\n",
       "      <td>positive</td>\n",
       "    </tr>\n",
       "    <tr>\n",
       "      <th>188</th>\n",
       "      <td>holiday</td>\n",
       "      <td>190</td>\n",
       "      <td>positive</td>\n",
       "    </tr>\n",
       "    <tr>\n",
       "      <th>195</th>\n",
       "      <td>want</td>\n",
       "      <td>187</td>\n",
       "      <td>positive</td>\n",
       "    </tr>\n",
       "    <tr>\n",
       "      <th>210</th>\n",
       "      <td>number</td>\n",
       "      <td>177</td>\n",
       "      <td>positive</td>\n",
       "    </tr>\n",
       "    <tr>\n",
       "      <th>224</th>\n",
       "      <td>thanks</td>\n",
       "      <td>172</td>\n",
       "      <td>positive</td>\n",
       "    </tr>\n",
       "    <tr>\n",
       "      <th>240</th>\n",
       "      <td>beauty</td>\n",
       "      <td>167</td>\n",
       "      <td>positive</td>\n",
       "    </tr>\n",
       "    <tr>\n",
       "      <th>246</th>\n",
       "      <td>amazing</td>\n",
       "      <td>163</td>\n",
       "      <td>positive</td>\n",
       "    </tr>\n",
       "    <tr>\n",
       "      <th>258</th>\n",
       "      <td>enjoy</td>\n",
       "      <td>154</td>\n",
       "      <td>positive</td>\n",
       "    </tr>\n",
       "  </tbody>\n",
       "</table>\n",
       "</div>"
      ],
      "text/plain": [
       "            word  count sentiment\n",
       "29          good    579  positive\n",
       "44          like    461  positive\n",
       "52         great    440  positive\n",
       "55       friends    402  positive\n",
       "67     beautiful    344  positive\n",
       "71         share    339  positive\n",
       "72          best    336  positive\n",
       "86       special    303  positive\n",
       "124         well    252  positive\n",
       "134    adventure    240  positive\n",
       "137        happy    237  positive\n",
       "145         love    224  positive\n",
       "146     festival    224  positive\n",
       "155      support    213  positive\n",
       "160  interesting    211  positive\n",
       "165         free    205  positive\n",
       "169       please    201  positive\n",
       "180         help    196  positive\n",
       "188      holiday    190  positive\n",
       "195         want    187  positive\n",
       "210       number    177  positive\n",
       "224       thanks    172  positive\n",
       "240       beauty    167  positive\n",
       "246      amazing    163  positive\n",
       "258        enjoy    154  positive"
      ]
     },
     "execution_count": 120,
     "metadata": {},
     "output_type": "execute_result"
    }
   ],
   "source": [
    "positive"
   ]
  },
  {
   "cell_type": "markdown",
   "metadata": {},
   "source": [
    "#### 3.2.3.2 Most common words by city"
   ]
  },
  {
   "cell_type": "code",
   "execution_count": 126,
   "metadata": {
    "collapsed": true
   },
   "outputs": [],
   "source": [
    "def filter_by_city(data_df, city):\n",
    "    return data_tmp[data_df['message'].str.contains(city)==True]"
   ]
  },
  {
   "cell_type": "code",
   "execution_count": 164,
   "metadata": {
    "collapsed": true
   },
   "outputs": [],
   "source": [
    "def plot_city(data_df, city):\n",
    "    data = data_df.copy()\n",
    "    filteted = filter_by_city(data, city)\n",
    "    words = nltk.word_tokenize(''.join(filteted['message'].values))\n",
    "    counted_words = pd.DataFrame(Counter(words).most_common(), columns=['word', 'count'])\n",
    "    sentiments = []\n",
    "    \n",
    "    counted_words['word'].apply(lambda x: sentiments.append(sid.polarity_scores((x))));\n",
    "    counted_words['word_tmp'] = sentiments\n",
    "    counted_words['sentiment'] = get_message_sentiment(counted_words['word_tmp'])\n",
    "    counted_words = counted_words.drop(['word_tmp'], axis=1)\n",
    "    \n",
    "    negative = counted_words[counted_words['sentiment'] == 'negative'].head(25)\n",
    "    negative.plot.bar(x='word', y='count', figsize=(8, 8), color='red')\n",
    "    \n",
    "    print('NEGATIVE\\n')\n",
    "    print(negative)\n",
    "    \n",
    "    positive = counted_words[counted_words['sentiment'] == 'positive'].head(25)\n",
    "    positive.plot.bar(x='word', y='count', figsize=(8, 8), color='green')\n",
    "    \n",
    "    print('\\nPOSITIVE\\n')\n",
    "    print(positive)"
   ]
  },
  {
   "cell_type": "markdown",
   "metadata": {},
   "source": [
    "#### Yakutia"
   ]
  },
  {
   "cell_type": "code",
   "execution_count": 166,
   "metadata": {},
   "outputs": [
    {
     "name": "stdout",
     "output_type": "stream",
     "text": [
      "NEGATIVE\n",
      "\n",
      "             word  count sentiment\n",
      "73           hard     36  negative\n",
      "414         leave     10  negative\n",
      "561          miss      8  negative\n",
      "597          stop      7  negative\n",
      "605          lost      7  negative\n",
      "723       illegal      6  negative\n",
      "822       strange      5  negative\n",
      "838           low      5  negative\n",
      "882         fight      5  negative\n",
      "935         death      5  negative\n",
      "968          fire      4  negative\n",
      "1077      shocked      4  negative\n",
      "1078  disappeared      4  negative\n",
      "1119       punish      4  negative\n",
      "1121   violations      4  negative\n",
      "1165     terrible      4  negative\n",
      "1168    insulting      4  negative\n",
      "1217      refused      4  negative\n",
      "1381       lowest      3  negative\n",
      "1433          war      3  negative\n",
      "1472     affected      3  negative\n",
      "1499    emergency      3  negative\n",
      "1543      stopped      3  negative\n",
      "1667         lies      2  negative\n",
      "1778     frighten      2  negative\n",
      "\n",
      "POSITIVE\n",
      "\n",
      "          word  count sentiment\n",
      "52     friends     46  positive\n",
      "64        like     41  positive\n",
      "83        best     33  positive\n",
      "100      great     30  positive\n",
      "118       help     26  positive\n",
      "121   festival     26  positive\n",
      "134    diamond     24  positive\n",
      "137    support     23  positive\n",
      "145       want     23  positive\n",
      "153     friend     22  positive\n",
      "165       good     21  positive\n",
      "173     credit     21  positive\n",
      "207       hope     18  positive\n",
      "217     beauty     17  positive\n",
      "228      enjoy     16  positive\n",
      "246       join     16  positive\n",
      "247     please     16  positive\n",
      "248  dedicated     16  positive\n",
      "251       warm     15  positive\n",
      "253       well     15  positive\n",
      "255  beautiful     15  positive\n",
      "257      prize     15  positive\n",
      "273       huge     14  positive\n",
      "277      happy     14  positive\n",
      "287      share     14  positive\n"
     ]
    },
    {
     "data": {
      "image/png": "[encoded data removed]",
      "text/plain": [
       "<matplotlib.figure.Figure at 0x1a1a616a20>"
      ]
     },
     "metadata": {},
     "output_type": "display_data"
    },
    {
     "data": {
      "image/png": "[encoded data removed]",
      "text/plain": [
       "<matplotlib.figure.Figure at 0x10fb9cda0>"
      ]
     },
     "metadata": {},
     "output_type": "display_data"
    }
   ],
   "source": [
    "plot_city(data, 'yakutia')"
   ]
  },
  {
   "cell_type": "markdown",
   "metadata": {},
   "source": [
    "#### Moscow"
   ]
  },
  {
   "cell_type": "code",
   "execution_count": 169,
   "metadata": {},
   "outputs": [
    {
     "name": "stdout",
     "output_type": "stream",
     "text": [
      "NEGATIVE\n",
      "\n",
      "           word  count sentiment\n",
      "338       stops     11  negative\n",
      "453      beaten      8  negative\n",
      "499       lower      8  negative\n",
      "556         war      7  negative\n",
      "565        stop      7  negative\n",
      "699    excluded      6  negative\n",
      "700         low      6  negative\n",
      "732    terrible      5  negative\n",
      "850       leave      4  negative\n",
      "857      battle      4  negative\n",
      "1132       risk      3  negative\n",
      "1213      avoid      3  negative\n",
      "1349        pay      3  negative\n",
      "1443  difficult      3  negative\n",
      "1447     blocks      3  negative\n",
      "1593   bankrupt      2  negative\n",
      "1687     prison      2  negative\n",
      "1743      crazy      2  negative\n",
      "1811  weakening      2  negative\n",
      "1890       hard      2  negative\n",
      "1892    problem      2  negative\n",
      "1988       fire      2  negative\n",
      "1994       miss      2  negative\n",
      "2035     demand      2  negative\n",
      "2071     critic      2  negative\n",
      "\n",
      "POSITIVE\n",
      "\n",
      "            word  count sentiment\n",
      "21         share     93  positive\n",
      "55         great     47  positive\n",
      "63           fun     42  positive\n",
      "69          like     38  positive\n",
      "80       special     35  positive\n",
      "93      friendly     32  positive\n",
      "118         best     28  positive\n",
      "131      holiday     27  positive\n",
      "133    beautiful     27  positive\n",
      "164         love     22  positive\n",
      "169        happy     21  positive\n",
      "180         free     20  positive\n",
      "216     festival     17  positive\n",
      "222          top     16  positive\n",
      "223       number     16  positive\n",
      "228         well     16  positive\n",
      "229       thanks     16  positive\n",
      "241      sharing     15  positive\n",
      "252         good     14  positive\n",
      "256  interesting     14  positive\n",
      "258      amazing     14  positive\n",
      "312        enjoy     12  positive\n",
      "315       please     12  positive\n",
      "321         fair     12  positive\n",
      "333      friends     11  positive\n"
     ]
    },
    {
     "data": {
      "image/png": "[encoded data removed]",
      "text/plain": [
       "<matplotlib.figure.Figure at 0x1a23a65320>"
      ]
     },
     "metadata": {},
     "output_type": "display_data"
    },
    {
     "data": {
      "image/png": "[encoded data removed]",
      "text/plain": [
       "<matplotlib.figure.Figure at 0x1a1d158cf8>"
      ]
     },
     "metadata": {},
     "output_type": "display_data"
    }
   ],
   "source": [
    "plot_city(data, 'moscow')"
   ]
  },
  {
   "cell_type": "markdown",
   "metadata": {},
   "source": [
    "#### Petersburg"
   ]
  },
  {
   "cell_type": "code",
   "execution_count": 170,
   "metadata": {},
   "outputs": [
    {
     "name": "stdout",
     "output_type": "stream",
     "text": [
      "NEGATIVE\n",
      "\n",
      "               word  count sentiment\n",
      "327             low     10  negative\n",
      "420           stops      8  negative\n",
      "559           lower      6  negative\n",
      "617        excluded      6  negative\n",
      "889           leave      4  negative\n",
      "994             war      3  negative\n",
      "1093         critic      3  negative\n",
      "1162     disappears      3  negative\n",
      "1250           miss      3  negative\n",
      "1291         beaten      2  negative\n",
      "1310          rainy      2  negative\n",
      "1450  unfortunately      2  negative\n",
      "1453  inconvenience      2  negative\n",
      "1462         demand      2  negative\n",
      "1565        falling      2  negative\n",
      "1579         missed      2  negative\n",
      "1640       hesitate      2  negative\n",
      "1656       darkness      2  negative\n",
      "1660         killed      2  negative\n",
      "1672         attack      2  negative\n",
      "1676        limited      2  negative\n",
      "1830   catastrophic      2  negative\n",
      "1835          empty      2  negative\n",
      "1916       problems      2  negative\n",
      "1936         lowest      2  negative\n",
      "\n",
      "POSITIVE\n",
      "\n",
      "            word  count sentiment\n",
      "22         share     78  positive\n",
      "58         great     44  positive\n",
      "66       special     40  positive\n",
      "68          good     39  positive\n",
      "94     beautiful     32  positive\n",
      "98          best     30  positive\n",
      "100         like     29  positive\n",
      "144         free     21  positive\n",
      "146      holiday     20  positive\n",
      "161       please     18  positive\n",
      "179       beauty     17  positive\n",
      "186        grand     16  positive\n",
      "199         well     15  positive\n",
      "216        enjoy     14  positive\n",
      "218      amazing     14  positive\n",
      "229         love     13  positive\n",
      "255          top     12  positive\n",
      "265         want     12  positive\n",
      "273    champions     12  positive\n",
      "277        happy     11  positive\n",
      "281  interesting     11  positive\n",
      "302    wonderful     11  positive\n",
      "303       thanks     11  positive\n",
      "304    excellent     11  positive\n",
      "323      friends     10  positive\n"
     ]
    },
    {
     "data": {
      "image/png": "[encoded data removed]",
      "text/plain": [
       "<matplotlib.figure.Figure at 0x1a22d991d0>"
      ]
     },
     "metadata": {},
     "output_type": "display_data"
    },
    {
     "data": {
      "image/png": "[encoded data removed]",
      "text/plain": [
       "<matplotlib.figure.Figure at 0x1a1b3550f0>"
      ]
     },
     "metadata": {},
     "output_type": "display_data"
    }
   ],
   "source": [
    "plot_city(data, 'petersburg')"
   ]
  },
  {
   "cell_type": "markdown",
   "metadata": {},
   "source": [
    "#### Kaliningrad"
   ]
  },
  {
   "cell_type": "code",
   "execution_count": 171,
   "metadata": {},
   "outputs": [
    {
     "name": "stdout",
     "output_type": "stream",
     "text": [
      "NEGATIVE\n",
      "\n",
      "               word  count sentiment\n",
      "75           critic     46  negative\n",
      "262         limited     18  negative\n",
      "282             war     16  negative\n",
      "379           ruins     12  negative\n",
      "529          solemn      9  negative\n",
      "545        problems      9  negative\n",
      "696            fire      7  negative\n",
      "697           grief      7  negative\n",
      "789            lost      6  negative\n",
      "889   unfortunately      5  negative\n",
      "946             sad      5  negative\n",
      "947           alone      5  negative\n",
      "1030        assault      5  negative\n",
      "1092          sorry      4  negative\n",
      "1099       suffered      4  negative\n",
      "1108           dead      4  negative\n",
      "1177      destroyed      4  negative\n",
      "1394   accidentally      3  negative\n",
      "1431         fought      3  negative\n",
      "1445       terrible      3  negative\n",
      "1450        problem      3  negative\n",
      "1492        serious      3  negative\n",
      "1504      collapses      3  negative\n",
      "1509        sadness      3  negative\n",
      "1515          leave      3  negative\n",
      "\n",
      "POSITIVE\n",
      "\n",
      "            word  count sentiment\n",
      "56       created     51  positive\n",
      "61      creative     49  positive\n",
      "88         great     41  positive\n",
      "100         well     37  positive\n",
      "102       number     37  positive\n",
      "109      support     34  positive\n",
      "111     festival     34  positive\n",
      "114    dedicated     33  positive\n",
      "135         love     28  positive\n",
      "144         like     27  positive\n",
      "150      friends     26  positive\n",
      "155     prepared     26  positive\n",
      "157     pleasant     26  positive\n",
      "163   creativity     26  positive\n",
      "198         free     21  positive\n",
      "203         gift     21  positive\n",
      "210       beauty     21  positive\n",
      "217  interesting     20  positive\n",
      "218      holiday     20  positive\n",
      "246     creation     18  positive\n",
      "271      natural     17  positive\n",
      "303       winner     16  positive\n",
      "307      festive     15  positive\n",
      "311  opportunity     15  positive\n",
      "325         good     14  positive\n"
     ]
    },
    {
     "data": {
      "image/png": "[encoded data removed]",
      "text/plain": [
       "<matplotlib.figure.Figure at 0x1a1b332518>"
      ]
     },
     "metadata": {},
     "output_type": "display_data"
    },
    {
     "data": {
      "image/png": "[encoded data removed]",
      "text/plain": [
       "<matplotlib.figure.Figure at 0x1a1a001da0>"
      ]
     },
     "metadata": {},
     "output_type": "display_data"
    }
   ],
   "source": [
    "plot_city(data, 'kaliningrad')"
   ]
  },
  {
   "cell_type": "markdown",
   "metadata": {},
   "source": [
    "#### Kamchatka"
   ]
  },
  {
   "cell_type": "code",
   "execution_count": 172,
   "metadata": {},
   "outputs": [
    {
     "name": "stdout",
     "output_type": "stream",
     "text": [
      "NEGATIVE\n",
      "\n",
      "             word  count sentiment\n",
      "117         grief     14  negative\n",
      "376          fire      6  negative\n",
      "423     difficult      5  negative\n",
      "471        killer      5  negative\n",
      "532        forget      4  negative\n",
      "659         lower      3  negative\n",
      "824           bad      3  negative\n",
      "857          nuts      3  negative\n",
      "969         crazy      2  negative\n",
      "990     dangerous      2  negative\n",
      "1041          war      2  negative\n",
      "1043        harsh      2  negative\n",
      "1080          pay      2  negative\n",
      "1182      strange      2  negative\n",
      "1369         miss      2  negative\n",
      "1373      dubious      2  negative\n",
      "1386        leave      2  negative\n",
      "1460         stop      2  negative\n",
      "1549        doubt      1  negative\n",
      "1658       lonely      1  negative\n",
      "1685       battle      1  negative\n",
      "1736    emergency      1  negative\n",
      "1837       boring      1  negative\n",
      "1842        sorry      1  negative\n",
      "1843  molestation      1  negative\n",
      "\n",
      "POSITIVE\n",
      "\n",
      "            word  count sentiment\n",
      "26       natural     35  positive\n",
      "51        active     24  positive\n",
      "52     protected     24  positive\n",
      "75     adventure     19  positive\n",
      "82     beautiful     18  positive\n",
      "88         great     17  positive\n",
      "90          like     17  positive\n",
      "92        number     17  positive\n",
      "93          well     17  positive\n",
      "100  interesting     16  positive\n",
      "108      amazing     15  positive\n",
      "144      friends     12  positive\n",
      "180         best     10  positive\n",
      "193         warm     10  positive\n",
      "199     prepared     10  positive\n",
      "235      support      8  positive\n",
      "236          top      8  positive\n",
      "239        enjoy      8  positive\n",
      "255      popular      8  positive\n",
      "272    dedicated      8  positive\n",
      "283         help      7  positive\n",
      "284         want      7  positive\n",
      "290         huge      7  positive\n",
      "305         free      7  positive\n",
      "314      created      7  positive\n"
     ]
    },
    {
     "data": {
      "image/png": "[encoded data removed]",
      "text/plain": [
       "<matplotlib.figure.Figure at 0x1a1b70ee80>"
      ]
     },
     "metadata": {},
     "output_type": "display_data"
    },
    {
     "data": {
      "image/png": "[encoded data removed]",
      "text/plain": [
       "<matplotlib.figure.Figure at 0x1a1a893ac8>"
      ]
     },
     "metadata": {},
     "output_type": "display_data"
    }
   ],
   "source": [
    "plot_city(data, 'kamchatka')"
   ]
  },
  {
   "cell_type": "markdown",
   "metadata": {},
   "source": [
    "#### Siberia"
   ]
  },
  {
   "cell_type": "code",
   "execution_count": 173,
   "metadata": {},
   "outputs": [
    {
     "name": "stdout",
     "output_type": "stream",
     "text": [
      "NEGATIVE\n",
      "\n",
      "           word  count sentiment\n",
      "541        lost      4  negative\n",
      "595        stop      4  negative\n",
      "702       leave      3  negative\n",
      "710       alone      3  negative\n",
      "909      lowest      2  negative\n",
      "1054       hard      2  negative\n",
      "1250       miss      2  negative\n",
      "1397     demand      2  negative\n",
      "1466      stuck      1  negative\n",
      "1516      curse      1  negative\n",
      "1577       nuts      1  negative\n",
      "1595  dangerous      1  negative\n",
      "1613   darkness      1  negative\n",
      "1696      broke      1  negative\n",
      "1701        low      1  negative\n",
      "1777   confused      1  negative\n",
      "1875   affected      1  negative\n",
      "1899     tragic      1  negative\n",
      "1916      tough      1  negative\n",
      "2005       vain      1  negative\n",
      "2103   toughest      1  negative\n",
      "2125   chilling      1  negative\n",
      "2128  craziness      1  negative\n",
      "2225       dead      1  negative\n",
      "2412       risk      1  negative\n",
      "\n",
      "POSITIVE\n",
      "\n",
      "            word  count sentiment\n",
      "11     adventure     83  positive\n",
      "40         share     47  positive\n",
      "77          like     24  positive\n",
      "83       special     23  positive\n",
      "106      friends     18  positive\n",
      "158      sharing     14  positive\n",
      "166        great     13  positive\n",
      "168      support     13  positive\n",
      "171      amazing     13  positive\n",
      "173        enjoy     13  positive\n",
      "186       credit     12  positive\n",
      "212         well     11  positive\n",
      "213         join     11  positive\n",
      "215    dedicated     11  positive\n",
      "237         help     10  positive\n",
      "246      popular     10  positive\n",
      "250      passion     10  positive\n",
      "276       active      9  positive\n",
      "287          fun      8  positive\n",
      "300       please      8  positive\n",
      "307         want      8  positive\n",
      "308  fascinating      8  positive\n",
      "310         free      8  positive\n",
      "339    beautiful      7  positive\n",
      "344        grand      7  positive\n"
     ]
    },
    {
     "data": {
      "image/png": "[encoded data removed]",
      "text/plain": [
       "<matplotlib.figure.Figure at 0x1a1a4376a0>"
      ]
     },
     "metadata": {},
     "output_type": "display_data"
    },
    {
     "data": {
      "image/png": "[encoded data removed]",
      "text/plain": [
       "<matplotlib.figure.Figure at 0x1a1a8982e8>"
      ]
     },
     "metadata": {},
     "output_type": "display_data"
    }
   ],
   "source": [
    "plot_city(data, 'siberia')"
   ]
  },
  {
   "cell_type": "code",
   "execution_count": null,
   "metadata": {
    "collapsed": true
   },
   "outputs": [],
   "source": []
  }
 ],
 "metadata": {
  "kernelspec": {
   "display_name": "Python 3",
   "language": "python",
   "name": "python3"
  },
  "language_info": {
   "codemirror_mode": {
    "name": "ipython",
    "version": 3
   },
   "file_extension": ".py",
   "mimetype": "text/x-python",
   "name": "python",
   "nbconvert_exporter": "python",
   "pygments_lexer": "ipython3",
   "version": "3.6.3"
  }
 },
 "nbformat": 4,
 "nbformat_minor": 2
}
