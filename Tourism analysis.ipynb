{
 "cells": [
  {
   "cell_type": "code",
   "execution_count": 23,
   "metadata": {},
   "outputs": [],
   "source": [
    "import pandas as pd\n",
    "import numpy as np\n",
    "from googletrans import Translator\n",
    "import string\n",
    "import time\n",
    "\n",
    "from nltk.corpus import stopwords\n",
    "from nltk.sentiment import SentimentIntensityAnalyzer\n",
    "import nltk\n",
    "import gender_guesser.detector as gender\n",
    "import matplotlib.pyplot as plt\n",
    "import json\n",
    "import numbers\n",
    "import multiprocessing\n",
    "from itertools import product\n",
    "RND_STATE = 515991\n",
    "\n",
    "%matplotlib inline"
   ]
  },
  {
   "cell_type": "markdown",
   "metadata": {},
   "source": [
    "## 0. Config"
   ]
  },
  {
   "cell_type": "code",
   "execution_count": 24,
   "metadata": {
    "collapsed": true
   },
   "outputs": [],
   "source": [
    "max_string_length = 500\n",
    "output_csv = 'data_converted.csv'"
   ]
  },
  {
   "cell_type": "code",
   "execution_count": 25,
   "metadata": {
    "collapsed": true
   },
   "outputs": [],
   "source": [
    "def log_progress(sequence, every=None, size=None, name='Processed'):\n",
    "    from ipywidgets import IntProgress, HTML, VBox\n",
    "    from IPython.display import display\n",
    "\n",
    "    is_iterator = False\n",
    "    if size is None:\n",
    "        try:\n",
    "            size = len(sequence)\n",
    "        except TypeError:\n",
    "            is_iterator = True\n",
    "    if size is not None:\n",
    "        if every is None:\n",
    "            if size <= 200:\n",
    "                every = 1\n",
    "            else:\n",
    "                every = int(size / 200)     # every 0.5%\n",
    "    else:\n",
    "        assert every is not None, 'sequence is iterator, set every'\n",
    "\n",
    "    if is_iterator:\n",
    "        progress = IntProgress(min=0, max=1, value=1)\n",
    "        progress.bar_style = 'info'\n",
    "    else:\n",
    "        progress = IntProgress(min=0, max=size, value=0)\n",
    "    label = HTML()\n",
    "    box = VBox(children=[label, progress])\n",
    "    display(box)\n",
    "\n",
    "    index = 0\n",
    "    try:\n",
    "        for index, record in enumerate(sequence, 1):\n",
    "            if index == 1 or index % every == 0:\n",
    "                if is_iterator:\n",
    "                    label.value = '{name}: {index} / ?'.format(\n",
    "                        name=name,\n",
    "                        index=index\n",
    "                    )\n",
    "                else:\n",
    "                    progress.value = index\n",
    "                    label.value = u'{name}: {index} / {size}'.format(\n",
    "                        name=name,\n",
    "                        index=index,\n",
    "                        size=size\n",
    "                    )\n",
    "            yield record\n",
    "    except:\n",
    "        progress.bar_style = 'danger'\n",
    "        raise\n",
    "    else:\n",
    "        progress.bar_style = 'success'\n",
    "        progress.value = index\n",
    "        label.value = \"{name}: {index}\".format(\n",
    "            name=name,\n",
    "            index=str(index or '?')\n",
    "        )"
   ]
  },
  {
   "cell_type": "code",
   "execution_count": 26,
   "metadata": {
    "collapsed": true
   },
   "outputs": [],
   "source": [
    "def chunks(l, n):\n",
    "    for i in range(0, len(l), n):\n",
    "        yield l[i:i + n]"
   ]
  },
  {
   "cell_type": "markdown",
   "metadata": {},
   "source": [
    "## 1. Loading data"
   ]
  },
  {
   "cell_type": "markdown",
   "metadata": {},
   "source": [
    "### 1.1 Loading and decoding data"
   ]
  },
  {
   "cell_type": "code",
   "execution_count": 27,
   "metadata": {},
   "outputs": [
    {
     "name": "stdout",
     "output_type": "stream",
     "text": [
      "Initial length: 24733\n"
     ]
    },
    {
     "data": {
      "text/html": [
       "<div>\n",
       "<style>\n",
       "    .dataframe thead tr:only-child th {\n",
       "        text-align: right;\n",
       "    }\n",
       "\n",
       "    .dataframe thead th {\n",
       "        text-align: left;\n",
       "    }\n",
       "\n",
       "    .dataframe tbody tr th {\n",
       "        vertical-align: top;\n",
       "    }\n",
       "</style>\n",
       "<table border=\"1\" class=\"dataframe\">\n",
       "  <thead>\n",
       "    <tr style=\"text-align: right;\">\n",
       "      <th></th>\n",
       "      <th>from</th>\n",
       "      <th>from_id</th>\n",
       "      <th>message</th>\n",
       "      <th>picture</th>\n",
       "      <th>link</th>\n",
       "      <th>name</th>\n",
       "      <th>description</th>\n",
       "      <th>type</th>\n",
       "      <th>created_time</th>\n",
       "      <th>shares</th>\n",
       "      <th>post_id</th>\n",
       "    </tr>\n",
       "  </thead>\n",
       "  <tbody>\n",
       "    <tr>\n",
       "      <th>count</th>\n",
       "      <td>24643</td>\n",
       "      <td>24621</td>\n",
       "      <td>17456</td>\n",
       "      <td>22342</td>\n",
       "      <td>22861</td>\n",
       "      <td>19305</td>\n",
       "      <td>7533</td>\n",
       "      <td>24564</td>\n",
       "      <td>24562</td>\n",
       "      <td>13340</td>\n",
       "      <td>24558</td>\n",
       "    </tr>\n",
       "    <tr>\n",
       "      <th>unique</th>\n",
       "      <td>757</td>\n",
       "      <td>744</td>\n",
       "      <td>14711</td>\n",
       "      <td>18236</td>\n",
       "      <td>18901</td>\n",
       "      <td>5899</td>\n",
       "      <td>6114</td>\n",
       "      <td>18</td>\n",
       "      <td>21051</td>\n",
       "      <td>294</td>\n",
       "      <td>21301</td>\n",
       "    </tr>\n",
       "    <tr>\n",
       "      <th>top</th>\n",
       "      <td>Russian Tour</td>\n",
       "      <td>_75258759941</td>\n",
       "      <td>Buonanotte!</td>\n",
       "      <td>https://external.xx.fbcdn.net/safe_image.php?d...</td>\n",
       "      <td>http://www.russiantour.com/</td>\n",
       "      <td>Timeline Photos</td>\n",
       "      <td>Russian Gateway Tours</td>\n",
       "      <td>photo</td>\n",
       "      <td>2013-10-09T01:00:00+0000</td>\n",
       "      <td>1</td>\n",
       "      <td>792410744188300_947573222005384</td>\n",
       "    </tr>\n",
       "    <tr>\n",
       "      <th>freq</th>\n",
       "      <td>6130</td>\n",
       "      <td>6130</td>\n",
       "      <td>87</td>\n",
       "      <td>217</td>\n",
       "      <td>18</td>\n",
       "      <td>5015</td>\n",
       "      <td>74</td>\n",
       "      <td>16296</td>\n",
       "      <td>14</td>\n",
       "      <td>3119</td>\n",
       "      <td>2</td>\n",
       "    </tr>\n",
       "  </tbody>\n",
       "</table>\n",
       "</div>"
      ],
      "text/plain": [
       "                from       from_id      message  \\\n",
       "count          24643         24621        17456   \n",
       "unique           757           744        14711   \n",
       "top     Russian Tour  _75258759941  Buonanotte!   \n",
       "freq            6130          6130           87   \n",
       "\n",
       "                                                  picture  \\\n",
       "count                                               22342   \n",
       "unique                                              18236   \n",
       "top     https://external.xx.fbcdn.net/safe_image.php?d...   \n",
       "freq                                                  217   \n",
       "\n",
       "                               link             name            description  \\\n",
       "count                         22861            19305                   7533   \n",
       "unique                        18901             5899                   6114   \n",
       "top     http://www.russiantour.com/  Timeline Photos  Russian Gateway Tours   \n",
       "freq                             18             5015                     74   \n",
       "\n",
       "         type              created_time shares  \\\n",
       "count   24564                     24562  13340   \n",
       "unique     18                     21051    294   \n",
       "top     photo  2013-10-09T01:00:00+0000      1   \n",
       "freq    16296                        14   3119   \n",
       "\n",
       "                                post_id  \n",
       "count                             24558  \n",
       "unique                            21301  \n",
       "top     792410744188300_947573222005384  \n",
       "freq                                  2  "
      ]
     },
     "execution_count": 27,
     "metadata": {},
     "output_type": "execute_result"
    }
   ],
   "source": [
    "data = pd.read_csv('123.csv', sep=',', encoding='utf8')\n",
    "data = data.loc[:, ~data.columns.str.contains('^Unnamed')]\n",
    "data_length_start = len(data)\n",
    "print('Initial length: {0}'.format(data_length_start))\n",
    "data.describe()"
   ]
  },
  {
   "cell_type": "markdown",
   "metadata": {},
   "source": [
    "## 2. Preprocessing"
   ]
  },
  {
   "cell_type": "markdown",
   "metadata": {},
   "source": [
    "### 2.1 Removing nans and unnecessary columns"
   ]
  },
  {
   "cell_type": "code",
   "execution_count": 28,
   "metadata": {},
   "outputs": [
    {
     "name": "stdout",
     "output_type": "stream",
     "text": [
      "Removed 7277 elements\n",
      "New length is 17456\n"
     ]
    }
   ],
   "source": [
    "data = data.drop(['picture', 'link', 'from_id', 'post_id'], axis=1)\n",
    "data[['shares']] = data[['shares']].fillna(value=0)\n",
    "data = data.dropna(how='all')\n",
    "data = data.dropna(subset=['message'])\n",
    "print('Removed {0} elements'.format(data_length_start - len(data)))\n",
    "print('New length is {0}'.format(len(data)))"
   ]
  },
  {
   "cell_type": "markdown",
   "metadata": {},
   "source": [
    "### 2.2 Removing emojis, links and numbers"
   ]
  },
  {
   "cell_type": "markdown",
   "metadata": {},
   "source": [
    "emojis"
   ]
  },
  {
   "cell_type": "code",
   "execution_count": 29,
   "metadata": {
    "collapsed": true
   },
   "outputs": [],
   "source": [
    "data['message'] = data['message'].str.replace(u'[^\\U00000000-\\U0000d7ff\\U0000e000-\\U0000ffff]', '')\n",
    "data['description'] = data['description'].str.replace(u'[^\\U00000000-\\U0000d7ff\\U0000e000-\\U0000ffff]', '')"
   ]
  },
  {
   "cell_type": "markdown",
   "metadata": {},
   "source": [
    "links"
   ]
  },
  {
   "cell_type": "code",
   "execution_count": 30,
   "metadata": {
    "collapsed": true
   },
   "outputs": [],
   "source": [
    "data['message'] = data['message'].str.replace(r'(https|http)?:\\/\\/(\\w|\\.|\\/|\\?|\\=|\\&|\\%)*\\b', '')\n",
    "data['description'] = data['message'].str.replace(r'(https|http)?:\\/\\/(\\w|\\.|\\/|\\?|\\=|\\&|\\%)*\\b', '')"
   ]
  },
  {
   "cell_type": "markdown",
   "metadata": {},
   "source": [
    "numbers"
   ]
  },
  {
   "cell_type": "code",
   "execution_count": 31,
   "metadata": {
    "collapsed": true
   },
   "outputs": [],
   "source": [
    "data['message'] = data['message'].str.replace(r'\\b\\d+\\b','')\n",
    "data['description'] = data['message'].str.replace(r'\\b\\d+\\b','')"
   ]
  },
  {
   "cell_type": "markdown",
   "metadata": {},
   "source": [
    "special chars"
   ]
  },
  {
   "cell_type": "code",
   "execution_count": 32,
   "metadata": {
    "collapsed": true
   },
   "outputs": [],
   "source": [
    "data['message'] = data['message'].str.replace('\"', '')\n",
    "data['message'] = data['message'].str.replace('#', '')\n",
    "\n",
    "data['description'] = data['description'].str.replace('\"', '')\n",
    "data['description'] = data['description'].str.replace('#', '')"
   ]
  },
  {
   "cell_type": "markdown",
   "metadata": {},
   "source": [
    "### 2.3 Removing advertisements"
   ]
  },
  {
   "cell_type": "code",
   "execution_count": 33,
   "metadata": {
    "scrolled": true
   },
   "outputs": [
    {
     "name": "stdout",
     "output_type": "stream",
     "text": [
      "Removed 8247 elements\n",
      "New length is 16486\n"
     ]
    },
    {
     "data": {
      "text/html": [
       "<div>\n",
       "<style>\n",
       "    .dataframe thead tr:only-child th {\n",
       "        text-align: right;\n",
       "    }\n",
       "\n",
       "    .dataframe thead th {\n",
       "        text-align: left;\n",
       "    }\n",
       "\n",
       "    .dataframe tbody tr th {\n",
       "        vertical-align: top;\n",
       "    }\n",
       "</style>\n",
       "<table border=\"1\" class=\"dataframe\">\n",
       "  <thead>\n",
       "    <tr style=\"text-align: right;\">\n",
       "      <th></th>\n",
       "      <th>from</th>\n",
       "      <th>message</th>\n",
       "      <th>name</th>\n",
       "      <th>description</th>\n",
       "      <th>type</th>\n",
       "      <th>created_time</th>\n",
       "      <th>shares</th>\n",
       "    </tr>\n",
       "  </thead>\n",
       "  <tbody>\n",
       "    <tr>\n",
       "      <th>count</th>\n",
       "      <td>16486</td>\n",
       "      <td>16486</td>\n",
       "      <td>13512</td>\n",
       "      <td>16486</td>\n",
       "      <td>16442</td>\n",
       "      <td>16440</td>\n",
       "      <td>16486</td>\n",
       "    </tr>\n",
       "    <tr>\n",
       "      <th>unique</th>\n",
       "      <td>599</td>\n",
       "      <td>13460</td>\n",
       "      <td>3853</td>\n",
       "      <td>13460</td>\n",
       "      <td>17</td>\n",
       "      <td>14442</td>\n",
       "      <td>292</td>\n",
       "    </tr>\n",
       "    <tr>\n",
       "      <th>top</th>\n",
       "      <td>Russian Tour</td>\n",
       "      <td></td>\n",
       "      <td>Timeline Photos</td>\n",
       "      <td></td>\n",
       "      <td>photo</td>\n",
       "      <td>2013-10-09T01:00:00+0000</td>\n",
       "      <td>0</td>\n",
       "    </tr>\n",
       "    <tr>\n",
       "      <th>freq</th>\n",
       "      <td>4480</td>\n",
       "      <td>286</td>\n",
       "      <td>4344</td>\n",
       "      <td>286</td>\n",
       "      <td>10983</td>\n",
       "      <td>14</td>\n",
       "      <td>6912</td>\n",
       "    </tr>\n",
       "  </tbody>\n",
       "</table>\n",
       "</div>"
      ],
      "text/plain": [
       "                from message             name description   type  \\\n",
       "count          16486   16486            13512       16486  16442   \n",
       "unique           599   13460             3853       13460     17   \n",
       "top     Russian Tour          Timeline Photos              photo   \n",
       "freq            4480     286             4344         286  10983   \n",
       "\n",
       "                    created_time  shares  \n",
       "count                      16440   16486  \n",
       "unique                     14442     292  \n",
       "top     2013-10-09T01:00:00+0000       0  \n",
       "freq                          14    6912  "
      ]
     },
     "execution_count": 33,
     "metadata": {},
     "output_type": "execute_result"
    }
   ],
   "source": [
    "data = data[~data['from'].str.contains(\"Visit-Petersburg\", na=False)]\n",
    "print('Removed {0} elements'.format(data_length_start - len(data)))\n",
    "print('New length is {0}'.format(len(data)))\n",
    "data.describe()"
   ]
  },
  {
   "cell_type": "markdown",
   "metadata": {},
   "source": [
    "### 2.4 Stripping texts and converting types"
   ]
  },
  {
   "cell_type": "code",
   "execution_count": 34,
   "metadata": {
    "collapsed": true
   },
   "outputs": [],
   "source": [
    "def convert_column_int(column):\n",
    "    converted = []\n",
    "    for value in column.values:\n",
    "        if str(value).isdigit():\n",
    "            converted.append(value)\n",
    "        else:\n",
    "            converted.append(0)\n",
    "    return converted"
   ]
  },
  {
   "cell_type": "code",
   "execution_count": 35,
   "metadata": {
    "collapsed": true
   },
   "outputs": [],
   "source": [
    "data['message'] = data['message'].apply(lambda x: x[:max_string_length].strip())\n",
    "data['description'] = data['message'].apply(lambda x: x[:max_string_length].strip())"
   ]
  },
  {
   "cell_type": "code",
   "execution_count": 36,
   "metadata": {
    "collapsed": true
   },
   "outputs": [],
   "source": [
    "data['shares'] = convert_column_int(data['shares'])\n",
    "data[['shares']] = data[['shares']].apply(pd.to_numeric)"
   ]
  },
  {
   "cell_type": "markdown",
   "metadata": {},
   "source": [
    "### 2.5 Translating texts into english"
   ]
  },
  {
   "cell_type": "code",
   "execution_count": 43,
   "metadata": {
    "collapsed": true
   },
   "outputs": [],
   "source": [
    "def translate_big_text(texts_source, dest = 'en', chunk_size = 500, delay=0):\n",
    "    translated = []\n",
    "    chunks_list = list(chunks(texts_source, chunk_size))\n",
    "    i = 1\n",
    "    for chunk in log_progress(chunks_list):\n",
    "        translated.extend(translate_big_text_internal(chunk)) \n",
    "        print('Translated chunk #{0} of {1}'.format(i, len(chunks_list)))\n",
    "        print('Waiting {0} sec'.format(delay))\n",
    "        time.sleep(delay)\n",
    "        i += 1 \n",
    "    return translated"
   ]
  },
  {
   "cell_type": "code",
   "execution_count": 44,
   "metadata": {
    "collapsed": true
   },
   "outputs": [],
   "source": [
    "def translate(text, dest='en'):\n",
    "    translator = Translator()\n",
    "    translated = ''\n",
    "    try:\n",
    "        translated = translator.translate(u''.join(text), dest=dest).text\n",
    "    except Exception as e:\n",
    "        print(e)\n",
    "    return translated"
   ]
  },
  {
   "cell_type": "code",
   "execution_count": 45,
   "metadata": {
    "collapsed": true
   },
   "outputs": [],
   "source": [
    "def translate_big_text_internal(texts_source, dest='en'):\n",
    "    with multiprocessing.Pool(processes=30) as pool:\n",
    "        results = pool.starmap(translate, product(texts_source))\n",
    "    \n",
    "    print('Number of errors: ', results.count(''))\n",
    "    return results"
   ]
  },
  {
   "cell_type": "code",
   "execution_count": 46,
   "metadata": {},
   "outputs": [
    {
     "data": {
      "application/vnd.jupyter.widget-view+json": {
       "model_id": "35f3ce5d83c24816a378437f7628cd1d",
       "version_major": 2,
       "version_minor": 0
      },
      "text/plain": [
       "A Jupyter Widget"
      ]
     },
     "metadata": {},
     "output_type": "display_data"
    },
    {
     "name": "stdout",
     "output_type": "stream",
     "text": [
      "Number of errors:  2\n",
      "Translated chunk #1 of 33\n",
      "Waiting 0 sec\n",
      "Number of errors:  4\n",
      "Translated chunk #2 of 33\n",
      "Waiting 0 sec\n",
      "Number of errors:  18\n",
      "Translated chunk #3 of 33\n",
      "Waiting 0 sec\n",
      "Number of errors:  16\n",
      "Translated chunk #4 of 33\n",
      "Waiting 0 sec\n",
      "Number of errors:  0\n",
      "Translated chunk #5 of 33\n",
      "Waiting 0 sec\n",
      "Number of errors:  0\n",
      "Translated chunk #6 of 33\n",
      "Waiting 0 sec\n",
      "Number of errors:  0\n",
      "Translated chunk #7 of 33\n",
      "Waiting 0 sec\n",
      "Number of errors:  12\n",
      "Translated chunk #8 of 33\n",
      "Waiting 0 sec\n",
      "Number of errors:  26\n",
      "Translated chunk #9 of 33\n",
      "Waiting 0 sec\n",
      "Number of errors:  15\n",
      "Translated chunk #10 of 33\n",
      "Waiting 0 sec\n",
      "Number of errors:  2\n",
      "Translated chunk #11 of 33\n",
      "Waiting 0 sec\n",
      "Number of errors:  3\n",
      "Translated chunk #12 of 33\n",
      "Waiting 0 sec\n",
      "Number of errors:  106\n",
      "Translated chunk #13 of 33\n",
      "Waiting 0 sec\n",
      "Number of errors:  16\n",
      "Translated chunk #14 of 33\n",
      "Waiting 0 sec\n",
      "Number of errors:  24\n",
      "Translated chunk #15 of 33\n",
      "Waiting 0 sec\n",
      "Number of errors:  0\n",
      "Translated chunk #16 of 33\n",
      "Waiting 0 sec\n",
      "Number of errors:  1\n",
      "Translated chunk #17 of 33\n",
      "Waiting 0 sec\n",
      "Number of errors:  1\n",
      "Translated chunk #18 of 33\n",
      "Waiting 0 sec\n",
      "Number of errors:  2\n",
      "Translated chunk #19 of 33\n",
      "Waiting 0 sec\n",
      "Number of errors:  3\n",
      "Translated chunk #20 of 33\n",
      "Waiting 0 sec\n",
      "Number of errors:  5\n",
      "Translated chunk #21 of 33\n",
      "Waiting 0 sec\n",
      "Number of errors:  0\n",
      "Translated chunk #22 of 33\n",
      "Waiting 0 sec\n",
      "Number of errors:  1\n",
      "Translated chunk #23 of 33\n",
      "Waiting 0 sec\n",
      "Number of errors:  0\n",
      "Translated chunk #24 of 33\n",
      "Waiting 0 sec\n",
      "Number of errors:  0\n",
      "Translated chunk #25 of 33\n",
      "Waiting 0 sec\n",
      "Number of errors:  0\n",
      "Translated chunk #26 of 33\n",
      "Waiting 0 sec\n",
      "Number of errors:  0\n",
      "Translated chunk #27 of 33\n",
      "Waiting 0 sec\n",
      "Number of errors:  4\n",
      "Translated chunk #28 of 33\n",
      "Waiting 0 sec\n",
      "Number of errors:  9\n",
      "Translated chunk #29 of 33\n",
      "Waiting 0 sec\n",
      "Number of errors:  7\n",
      "Translated chunk #30 of 33\n",
      "Waiting 0 sec\n",
      "Number of errors:  6\n",
      "Translated chunk #31 of 33\n",
      "Waiting 0 sec\n",
      "Number of errors:  4\n",
      "Translated chunk #32 of 33\n",
      "Waiting 0 sec\n",
      "Number of errors:  3\n",
      "Translated chunk #33 of 33\n",
      "Waiting 0 sec\n"
     ]
    }
   ],
   "source": [
    "msg_translations = translate_big_text(data['message'].values)"
   ]
  },
  {
   "cell_type": "code",
   "execution_count": 47,
   "metadata": {
    "collapsed": true
   },
   "outputs": [],
   "source": [
    "data['message'] = msg_translations"
   ]
  },
  {
   "cell_type": "code",
   "execution_count": 57,
   "metadata": {},
   "outputs": [
    {
     "name": "stdout",
     "output_type": "stream",
     "text": [
      "Number of skipped =  290\n"
     ]
    }
   ],
   "source": [
    "print('Number of skipped = ', 290)"
   ]
  },
  {
   "cell_type": "code",
   "execution_count": 49,
   "metadata": {},
   "outputs": [
    {
     "data": {
      "application/vnd.jupyter.widget-view+json": {
       "model_id": "d7f0377e7a614a1c8fab1869f12f3d28",
       "version_major": 2,
       "version_minor": 0
      },
      "text/plain": [
       "A Jupyter Widget"
      ]
     },
     "metadata": {},
     "output_type": "display_data"
    },
    {
     "name": "stdout",
     "output_type": "stream",
     "text": [
      "Number of errors:  2\n",
      "Translated chunk #1 of 33\n",
      "Waiting 0 sec\n",
      "Number of errors:  4\n",
      "Translated chunk #2 of 33\n",
      "Waiting 0 sec\n",
      "Number of errors:  18\n",
      "Translated chunk #3 of 33\n",
      "Waiting 0 sec\n",
      "Number of errors:  16\n",
      "Translated chunk #4 of 33\n",
      "Waiting 0 sec\n",
      "Number of errors:  0\n",
      "Translated chunk #5 of 33\n",
      "Waiting 0 sec\n",
      "Number of errors:  0\n",
      "Translated chunk #6 of 33\n",
      "Waiting 0 sec\n",
      "Number of errors:  0\n",
      "Translated chunk #7 of 33\n",
      "Waiting 0 sec\n",
      "Number of errors:  12\n",
      "Translated chunk #8 of 33\n",
      "Waiting 0 sec\n",
      "Number of errors:  26\n",
      "Translated chunk #9 of 33\n",
      "Waiting 0 sec\n",
      "Number of errors:  15\n",
      "Translated chunk #10 of 33\n",
      "Waiting 0 sec\n",
      "Number of errors:  2\n",
      "Translated chunk #11 of 33\n",
      "Waiting 0 sec\n",
      "Number of errors:  3\n",
      "Translated chunk #12 of 33\n",
      "Waiting 0 sec\n",
      "Number of errors:  106\n",
      "Translated chunk #13 of 33\n",
      "Waiting 0 sec\n",
      "Number of errors:  16\n",
      "Translated chunk #14 of 33\n",
      "Waiting 0 sec\n",
      "Number of errors:  24\n",
      "Translated chunk #15 of 33\n",
      "Waiting 0 sec\n",
      "Number of errors:  0\n",
      "Translated chunk #16 of 33\n",
      "Waiting 0 sec\n",
      "Number of errors:  1\n",
      "Translated chunk #17 of 33\n",
      "Waiting 0 sec\n",
      "Number of errors:  1\n",
      "Translated chunk #18 of 33\n",
      "Waiting 0 sec\n",
      "Number of errors:  2\n",
      "Translated chunk #19 of 33\n",
      "Waiting 0 sec\n",
      "Number of errors:  3\n",
      "Translated chunk #20 of 33\n",
      "Waiting 0 sec\n",
      "Number of errors:  5\n",
      "Translated chunk #21 of 33\n",
      "Waiting 0 sec\n",
      "Number of errors:  0\n",
      "Translated chunk #22 of 33\n",
      "Waiting 0 sec\n",
      "Number of errors:  1\n",
      "Translated chunk #23 of 33\n",
      "Waiting 0 sec\n",
      "Number of errors:  0\n",
      "Translated chunk #24 of 33\n",
      "Waiting 0 sec\n",
      "Number of errors:  0\n",
      "Translated chunk #25 of 33\n",
      "Waiting 0 sec\n",
      "Number of errors:  0\n",
      "Translated chunk #26 of 33\n",
      "Waiting 0 sec\n",
      "Number of errors:  0\n",
      "Translated chunk #27 of 33\n",
      "Waiting 0 sec\n",
      "Number of errors:  4\n",
      "Translated chunk #28 of 33\n",
      "Waiting 0 sec\n",
      "Number of errors:  9\n",
      "Translated chunk #29 of 33\n",
      "Waiting 0 sec\n",
      "Number of errors:  7\n",
      "Translated chunk #30 of 33\n",
      "Waiting 0 sec\n",
      "Number of errors:  6\n",
      "Translated chunk #31 of 33\n",
      "Waiting 0 sec\n",
      "Number of errors:  4\n",
      "Translated chunk #32 of 33\n",
      "Waiting 0 sec\n",
      "Number of errors:  3\n",
      "Translated chunk #33 of 33\n",
      "Waiting 0 sec\n"
     ]
    }
   ],
   "source": [
    "descr_translations = translate_big_text(data['description'].values)"
   ]
  },
  {
   "cell_type": "code",
   "execution_count": 50,
   "metadata": {
    "collapsed": true
   },
   "outputs": [],
   "source": [
    "data['description'] = descr_translations"
   ]
  },
  {
   "cell_type": "code",
   "execution_count": 56,
   "metadata": {},
   "outputs": [
    {
     "name": "stdout",
     "output_type": "stream",
     "text": [
      "Number of skipped =  290\n"
     ]
    }
   ],
   "source": [
    "print('Number of skipped = ', 290)"
   ]
  },
  {
   "cell_type": "code",
   "execution_count": 52,
   "metadata": {},
   "outputs": [
    {
     "data": {
      "application/vnd.jupyter.widget-view+json": {
       "model_id": "53b085c7e43c480a85bad917242bafbe",
       "version_major": 2,
       "version_minor": 0
      },
      "text/plain": [
       "A Jupyter Widget"
      ]
     },
     "metadata": {},
     "output_type": "display_data"
    },
    {
     "name": "stdout",
     "output_type": "stream",
     "text": [
      "Number of errors:  0\n",
      "Translated chunk #1 of 33\n",
      "Waiting 0 sec\n",
      "Number of errors:  0\n",
      "Translated chunk #2 of 33\n",
      "Waiting 0 sec\n",
      "Number of errors:  0\n",
      "Translated chunk #3 of 33\n",
      "Waiting 0 sec\n",
      "Number of errors:  0\n",
      "Translated chunk #4 of 33\n",
      "Waiting 0 sec\n",
      "Number of errors:  0\n",
      "Translated chunk #5 of 33\n",
      "Waiting 0 sec\n",
      "Number of errors:  0\n",
      "Translated chunk #6 of 33\n",
      "Waiting 0 sec\n",
      "Number of errors:  0\n",
      "Translated chunk #7 of 33\n",
      "Waiting 0 sec\n",
      "Number of errors:  0\n",
      "Translated chunk #8 of 33\n",
      "Waiting 0 sec\n",
      "Number of errors:  0\n",
      "Translated chunk #9 of 33\n",
      "Waiting 0 sec\n",
      "Number of errors:  0\n",
      "Translated chunk #10 of 33\n",
      "Waiting 0 sec\n",
      "Number of errors:  0\n",
      "Translated chunk #11 of 33\n",
      "Waiting 0 sec\n",
      "Number of errors:  0\n",
      "Translated chunk #12 of 33\n",
      "Waiting 0 sec\n",
      "Number of errors:  0\n",
      "Translated chunk #13 of 33\n",
      "Waiting 0 sec\n",
      "Number of errors:  0\n",
      "Translated chunk #14 of 33\n",
      "Waiting 0 sec\n",
      "Number of errors:  0\n",
      "Translated chunk #15 of 33\n",
      "Waiting 0 sec\n",
      "Number of errors:  0\n",
      "Translated chunk #16 of 33\n",
      "Waiting 0 sec\n",
      "Number of errors:  0\n",
      "Translated chunk #17 of 33\n",
      "Waiting 0 sec\n",
      "Number of errors:  0\n",
      "Translated chunk #18 of 33\n",
      "Waiting 0 sec\n",
      "Number of errors:  0\n",
      "Translated chunk #19 of 33\n",
      "Waiting 0 sec\n",
      "Number of errors:  0\n",
      "Translated chunk #20 of 33\n",
      "Waiting 0 sec\n",
      "Number of errors:  0\n",
      "Translated chunk #21 of 33\n",
      "Waiting 0 sec\n",
      "Number of errors:  0\n",
      "Translated chunk #22 of 33\n",
      "Waiting 0 sec\n",
      "Number of errors:  0\n",
      "Translated chunk #23 of 33\n",
      "Waiting 0 sec\n",
      "Number of errors:  0\n",
      "Translated chunk #24 of 33\n",
      "Waiting 0 sec\n",
      "Number of errors:  0\n",
      "Translated chunk #25 of 33\n",
      "Waiting 0 sec\n",
      "Number of errors:  0\n",
      "Translated chunk #26 of 33\n",
      "Waiting 0 sec\n",
      "Number of errors:  0\n",
      "Translated chunk #27 of 33\n",
      "Waiting 0 sec\n",
      "Number of errors:  0\n",
      "Translated chunk #28 of 33\n",
      "Waiting 0 sec\n",
      "Number of errors:  0\n",
      "Translated chunk #29 of 33\n",
      "Waiting 0 sec\n",
      "Number of errors:  0\n",
      "Translated chunk #30 of 33\n",
      "Waiting 0 sec\n",
      "Number of errors:  0\n",
      "Translated chunk #31 of 33\n",
      "Waiting 0 sec\n",
      "Number of errors:  0\n",
      "Translated chunk #32 of 33\n",
      "Waiting 0 sec\n",
      "Number of errors:  0\n",
      "Translated chunk #33 of 33\n",
      "Waiting 0 sec\n"
     ]
    }
   ],
   "source": [
    "names_translations = translate_big_text(data['from'].values)"
   ]
  },
  {
   "cell_type": "code",
   "execution_count": 53,
   "metadata": {
    "collapsed": true
   },
   "outputs": [],
   "source": [
    "data['from'] = names_translations"
   ]
  },
  {
   "cell_type": "code",
   "execution_count": 55,
   "metadata": {},
   "outputs": [
    {
     "name": "stdout",
     "output_type": "stream",
     "text": [
      "Number of skipped =  0\n"
     ]
    }
   ],
   "source": [
    "print('Number of skipped = ', 0)"
   ]
  },
  {
   "cell_type": "markdown",
   "metadata": {},
   "source": [
    "## 2.7 Moving all words to lower case"
   ]
  },
  {
   "cell_type": "code",
   "execution_count": 59,
   "metadata": {
    "collapsed": true
   },
   "outputs": [],
   "source": [
    "data[\"message\"] = data[\"message\"].map(lambda x: x if type(x)!=str else x.lower())\n",
    "data[\"description\"] = data[\"description\"].map(lambda x: x if type(x)!=str else x.lower())"
   ]
  },
  {
   "cell_type": "markdown",
   "metadata": {},
   "source": [
    "### 2.8 Tokenizing sentences"
   ]
  },
  {
   "cell_type": "code",
   "execution_count": 61,
   "metadata": {
    "collapsed": true
   },
   "outputs": [],
   "source": [
    "data['message'] = data['message'].apply(lambda x: nltk.word_tokenize(str(x)))\n",
    "data['description'] = data['description'].apply(lambda x: nltk.word_tokenize(str(x)))"
   ]
  },
  {
   "cell_type": "markdown",
   "metadata": {
    "collapsed": true
   },
   "source": [
    "### 2.9 Removing stopwords and punctuation"
   ]
  },
  {
   "cell_type": "code",
   "execution_count": 62,
   "metadata": {
    "collapsed": true
   },
   "outputs": [],
   "source": [
    "stop_words = stopwords.words('english')\n",
    "stop_words += (['.', ',', '\"', \"'\", '?', '!', ':', ';', '(', ')', '[', ']', '{', '}', '\\n', '/n', '-', '#', 'visitpetersburg', 'visitrussia', 'russia', 'the', 'is', 'a'])"
   ]
  },
  {
   "cell_type": "code",
   "execution_count": 63,
   "metadata": {
    "collapsed": true
   },
   "outputs": [],
   "source": [
    "data['message'] = data['message'].apply(lambda x: list(filter(lambda y: y not in stop_words, x)))\n",
    "data['description'] = data['description'].apply(lambda x: list(filter(lambda y: y not in stop_words, x)))"
   ]
  },
  {
   "cell_type": "code",
   "execution_count": 64,
   "metadata": {},
   "outputs": [],
   "source": [
    "data['message'] = data['message'].apply(lambda x: \" \".join(x))\n",
    "data['description'] = data['description'].apply(lambda x: \" \".join(x))"
   ]
  },
  {
   "cell_type": "markdown",
   "metadata": {},
   "source": [
    "### 2.10 Saving data to file"
   ]
  },
  {
   "cell_type": "code",
   "execution_count": 66,
   "metadata": {
    "collapsed": true
   },
   "outputs": [],
   "source": [
    "def save_csv():\n",
    "    data.to_csv(output_csv, index=False)"
   ]
  },
  {
   "cell_type": "code",
   "execution_count": 67,
   "metadata": {
    "collapsed": true
   },
   "outputs": [],
   "source": [
    "def parse_csv_tuple(series):\n",
    "    values = series.values\n",
    "    parsed = []\n",
    "    for value in values:\n",
    "        parsed.append(json.loads(value.replace(\"'\",'\"')))\n",
    "    return parsed"
   ]
  },
  {
   "cell_type": "code",
   "execution_count": 68,
   "metadata": {
    "collapsed": true
   },
   "outputs": [],
   "source": [
    "def load_csv():\n",
    "    loaded_data = pd.read_csv(output_csv, sep=',', encoding='utf8')\n",
    "    loaded_data['message_sentiment_vader'] = parse_csv_tuple(loaded_data['message_sentiment_vader'])\n",
    "    loaded_data['description_sentiment_vader'] = parse_csv_tuple(loaded_data['description_sentiment_vader'])\n",
    "    return loaded_data"
   ]
  },
  {
   "cell_type": "code",
   "execution_count": 69,
   "metadata": {
    "collapsed": true
   },
   "outputs": [],
   "source": [
    "save_csv()"
   ]
  },
  {
   "cell_type": "markdown",
   "metadata": {},
   "source": [
    "# 3. Processing data"
   ]
  },
  {
   "cell_type": "markdown",
   "metadata": {},
   "source": [
    "## 3.1 Trying to guess gender by name"
   ]
  },
  {
   "cell_type": "code",
   "execution_count": 70,
   "metadata": {
    "collapsed": true
   },
   "outputs": [],
   "source": [
    "detector = gender.Detector(case_sensitive=False)"
   ]
  },
  {
   "cell_type": "code",
   "execution_count": 71,
   "metadata": {
    "collapsed": true
   },
   "outputs": [],
   "source": [
    "data['from_gender'] = [detector.get_gender((str(name)).split(' ')[0]) for name in data['from'].values]"
   ]
  },
  {
   "cell_type": "code",
   "execution_count": 72,
   "metadata": {
    "collapsed": true
   },
   "outputs": [],
   "source": [
    "data['from_gender'].replace([0],['unknown'],inplace=True)"
   ]
  },
  {
   "cell_type": "markdown",
   "metadata": {},
   "source": [
    "## 3.1 Getting sentiments by Vader algorithm"
   ]
  },
  {
   "cell_type": "code",
   "execution_count": 73,
   "metadata": {
    "collapsed": true
   },
   "outputs": [],
   "source": [
    "sid = SentimentIntensityAnalyzer()\n",
    "message_sent = []\n",
    "descr_sent = []\n",
    "data['message'].apply(lambda x: message_sent.append(sid.polarity_scores((x))));\n",
    "data['description'].apply(lambda x: descr_sent.append(sid.polarity_scores((x))));\n",
    "data['message_sentiment_vader'] = message_sent\n",
    "data['description_sentiment_vader'] = descr_sent"
   ]
  },
  {
   "cell_type": "code",
   "execution_count": 74,
   "metadata": {
    "collapsed": true
   },
   "outputs": [],
   "source": [
    "def get_message_sentiment(series, border_line=0.2):\n",
    "    values = series.values\n",
    "    parsed_values = []\n",
    "    for value in values:\n",
    "        if value['neg'] >= border_line:\n",
    "            parsed_values.append('negative')\n",
    "        elif value['pos'] >= border_line:\n",
    "            parsed_values.append('positive')\n",
    "        else:\n",
    "            parsed_values.append('neutral')\n",
    "    return parsed_values"
   ]
  },
  {
   "cell_type": "code",
   "execution_count": 75,
   "metadata": {
    "collapsed": true
   },
   "outputs": [],
   "source": [
    "data['message_sentiment_vader_parsed'] = get_message_sentiment(data['message_sentiment_vader'])\n",
    "data['description_sentiment_vader_parsed'] = get_message_sentiment(data['description_sentiment_vader'])"
   ]
  },
  {
   "cell_type": "code",
   "execution_count": 76,
   "metadata": {
    "collapsed": true
   },
   "outputs": [],
   "source": [
    "save_csv()"
   ]
  },
  {
   "cell_type": "markdown",
   "metadata": {
    "collapsed": true
   },
   "source": [
    "## 3.2 Plotting stats "
   ]
  },
  {
   "cell_type": "markdown",
   "metadata": {},
   "source": [
    "### 3.2.1 Shares per gender"
   ]
  },
  {
   "cell_type": "code",
   "execution_count": 82,
   "metadata": {},
   "outputs": [
    {
     "data": {
      "text/html": [
       "<div>\n",
       "<style>\n",
       "    .dataframe thead tr:only-child th {\n",
       "        text-align: right;\n",
       "    }\n",
       "\n",
       "    .dataframe thead th {\n",
       "        text-align: left;\n",
       "    }\n",
       "\n",
       "    .dataframe tbody tr th {\n",
       "        vertical-align: top;\n",
       "    }\n",
       "</style>\n",
       "<table border=\"1\" class=\"dataframe\">\n",
       "  <thead>\n",
       "    <tr style=\"text-align: right;\">\n",
       "      <th></th>\n",
       "      <th>shares</th>\n",
       "    </tr>\n",
       "    <tr>\n",
       "      <th>from_gender</th>\n",
       "      <th></th>\n",
       "    </tr>\n",
       "  </thead>\n",
       "  <tbody>\n",
       "    <tr>\n",
       "      <th>andy</th>\n",
       "      <td>1</td>\n",
       "    </tr>\n",
       "    <tr>\n",
       "      <th>female</th>\n",
       "      <td>2166</td>\n",
       "    </tr>\n",
       "    <tr>\n",
       "      <th>male</th>\n",
       "      <td>6877</td>\n",
       "    </tr>\n",
       "    <tr>\n",
       "      <th>mostly_female</th>\n",
       "      <td>0</td>\n",
       "    </tr>\n",
       "    <tr>\n",
       "      <th>mostly_male</th>\n",
       "      <td>512</td>\n",
       "    </tr>\n",
       "    <tr>\n",
       "      <th>unknown</th>\n",
       "      <td>227183</td>\n",
       "    </tr>\n",
       "  </tbody>\n",
       "</table>\n",
       "</div>"
      ],
      "text/plain": [
       "               shares\n",
       "from_gender          \n",
       "andy                1\n",
       "female           2166\n",
       "male             6877\n",
       "mostly_female       0\n",
       "mostly_male       512\n",
       "unknown        227183"
      ]
     },
     "execution_count": 82,
     "metadata": {},
     "output_type": "execute_result"
    }
   ],
   "source": [
    "data.groupby(['from_gender']).sum()"
   ]
  },
  {
   "cell_type": "markdown",
   "metadata": {},
   "source": [
    "#### 3.2.1.1 Row data"
   ]
  },
  {
   "cell_type": "code",
   "execution_count": 83,
   "metadata": {},
   "outputs": [
    {
     "data": {
      "image/png": "[encoded data removed]",
      "text/plain": [
       "<matplotlib.figure.Figure at 0x112301048>"
      ]
     },
     "metadata": {},
     "output_type": "display_data"
    }
   ],
   "source": [
    "groups = data.groupby(['from_gender']).size()\n",
    "groups = groups.drop(['andy'], axis=0)\n",
    "ax = groups.plot(kind = 'bar', grid = True, title = 'Reviews in tourist groups by gender', figsize=(8, 8))\n",
    "ax.set_xlabel('Gender');\n",
    "ax.set_ylabel('Number of shares');"
   ]
  },
  {
   "cell_type": "markdown",
   "metadata": {},
   "source": [
    "#### 3.2.1.2 Only genders"
   ]
  },
  {
   "cell_type": "code",
   "execution_count": 122,
   "metadata": {
    "collapsed": true
   },
   "outputs": [],
   "source": [
    "groups = data.groupby(['from_gender']).size()\n",
    "groups = groups.drop(['andy', 'unknown'], axis=0)\n",
    "groups['female'] += groups['mostly_female']\n",
    "groups['male'] += groups['mostly_male']\n",
    "groups = groups.drop(['mostly_female', 'mostly_male'], axis=0)"
   ]
  },
  {
   "cell_type": "code",
   "execution_count": 123,
   "metadata": {},
   "outputs": [
    {
     "data": {
      "image/png": "[encoded data removed]",
      "text/plain": [
       "<matplotlib.figure.Figure at 0x10f09ae10>"
      ]
     },
     "metadata": {},
     "output_type": "display_data"
    }
   ],
   "source": [
    "ax = groups.plot(kind = 'bar', grid = True, title = 'Reviews in tourist groups by gender', figsize=(8, 8))\n",
    "ax.set_xlabel('Gender');\n",
    "ax.set_ylabel('Number of posts');"
   ]
  },
  {
   "cell_type": "markdown",
   "metadata": {},
   "source": [
    "### 3.2.2 Messages sentiments"
   ]
  },
  {
   "cell_type": "code",
   "execution_count": 120,
   "metadata": {},
   "outputs": [
    {
     "data": {
      "image/png": "[encoded data removed]",
      "text/plain": [
       "<matplotlib.figure.Figure at 0x1136aa828>"
      ]
     },
     "metadata": {},
     "output_type": "display_data"
    }
   ],
   "source": [
    "data_tmp = data.copy()\n",
    "data_tmp = data_tmp.replace({\"from_gender\": {'mostly_female': 'female', 'mostly_male': 'male', 'andy': 'unknown'}})\n",
    "data_tmp = data_tmp[data_tmp['from_gender'] != 'unknown']\n",
    "# groups = data.groupby(['from_gender', 'message_sentiment_vader_parsed']).size()\n",
    "ax = pd.crosstab(data_tmp['from_gender'], \n",
    "                 data_tmp['message_sentiment_vader_parsed']).plot.bar(title = 'Revies sentiments by gender', figsize=(8, 8))\n",
    "ax.set_xlabel('Gender');\n",
    "ax.set_ylabel('Number of posts');"
   ]
  },
  {
   "cell_type": "code",
   "execution_count": null,
   "metadata": {
    "collapsed": true
   },
   "outputs": [],
   "source": []
  }
 ],
 "metadata": {
  "kernelspec": {
   "display_name": "Python 3",
   "language": "python",
   "name": "python3"
  },
  "language_info": {
   "codemirror_mode": {
    "name": "ipython",
    "version": 3
   },
   "file_extension": ".py",
   "mimetype": "text/x-python",
   "name": "python",
   "nbconvert_exporter": "python",
   "pygments_lexer": "ipython3",
   "version": "3.6.3"
  }
 },
 "nbformat": 4,
 "nbformat_minor": 2
}
