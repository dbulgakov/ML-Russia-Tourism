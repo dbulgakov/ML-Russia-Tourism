{
 "cells": [
  {
   "cell_type": "code",
   "execution_count": 1,
   "metadata": {},
   "outputs": [
    {
     "name": "stderr",
     "output_type": "stream",
     "text": [
      "/Users/bulhakovdmytro/anaconda3/lib/python3.6/site-packages/nltk/twitter/__init__.py:20: UserWarning: The twython library has not been installed. Some functionality from the twitter package will not be available.\n",
      "  warnings.warn(\"The twython library has not been installed. \"\n"
     ]
    }
   ],
   "source": [
    "import pandas as pd\n",
    "import numpy as np\n",
    "from googletrans import Translator\n",
    "import string\n",
    "import time\n",
    "from nltk.corpus import stopwords\n",
    "from nltk.sentiment import SentimentIntensityAnalyzer\n",
    "import nltk\n",
    "RND_STATE = 515991"
   ]
  },
  {
   "cell_type": "markdown",
   "metadata": {},
   "source": [
    "## 0. Config"
   ]
  },
  {
   "cell_type": "code",
   "execution_count": 2,
   "metadata": {
    "collapsed": true
   },
   "outputs": [],
   "source": [
    "max_string_length = 300"
   ]
  },
  {
   "cell_type": "code",
   "execution_count": 3,
   "metadata": {
    "collapsed": true
   },
   "outputs": [],
   "source": [
    "def log_progress(sequence, every=10):\n",
    "    from ipywidgets import IntProgress\n",
    "    from IPython.display import display\n",
    "\n",
    "    progress = IntProgress(min=0, max=len(sequence), value=0)\n",
    "    display(progress)\n",
    "    \n",
    "    for index, record in enumerate(sequence):\n",
    "        if index % every == 0:\n",
    "            progress.value = index\n",
    "        yield record"
   ]
  },
  {
   "cell_type": "code",
   "execution_count": 4,
   "metadata": {
    "collapsed": true
   },
   "outputs": [],
   "source": [
    "def chunks(l, n):\n",
    "    for i in range(0, len(l), n):\n",
    "        yield l[i:i + n]"
   ]
  },
  {
   "cell_type": "markdown",
   "metadata": {},
   "source": [
    "## 1. Loading data"
   ]
  },
  {
   "cell_type": "markdown",
   "metadata": {},
   "source": [
    "### 1.1 Loading and decoding data"
   ]
  },
  {
   "cell_type": "code",
   "execution_count": 5,
   "metadata": {},
   "outputs": [
    {
     "name": "stdout",
     "output_type": "stream",
     "text": [
      "Initial length: 24733\n"
     ]
    },
    {
     "data": {
      "text/html": [
       "<div>\n",
       "<style>\n",
       "    .dataframe thead tr:only-child th {\n",
       "        text-align: right;\n",
       "    }\n",
       "\n",
       "    .dataframe thead th {\n",
       "        text-align: left;\n",
       "    }\n",
       "\n",
       "    .dataframe tbody tr th {\n",
       "        vertical-align: top;\n",
       "    }\n",
       "</style>\n",
       "<table border=\"1\" class=\"dataframe\">\n",
       "  <thead>\n",
       "    <tr style=\"text-align: right;\">\n",
       "      <th></th>\n",
       "      <th>from</th>\n",
       "      <th>from_id</th>\n",
       "      <th>message</th>\n",
       "      <th>picture</th>\n",
       "      <th>link</th>\n",
       "      <th>name</th>\n",
       "      <th>description</th>\n",
       "      <th>type</th>\n",
       "      <th>created_time</th>\n",
       "      <th>shares</th>\n",
       "      <th>post_id</th>\n",
       "    </tr>\n",
       "  </thead>\n",
       "  <tbody>\n",
       "    <tr>\n",
       "      <th>count</th>\n",
       "      <td>24643</td>\n",
       "      <td>24621</td>\n",
       "      <td>17456</td>\n",
       "      <td>22342</td>\n",
       "      <td>22861</td>\n",
       "      <td>19305</td>\n",
       "      <td>7533</td>\n",
       "      <td>24564</td>\n",
       "      <td>24562</td>\n",
       "      <td>13340</td>\n",
       "      <td>24558</td>\n",
       "    </tr>\n",
       "    <tr>\n",
       "      <th>unique</th>\n",
       "      <td>757</td>\n",
       "      <td>744</td>\n",
       "      <td>14711</td>\n",
       "      <td>18236</td>\n",
       "      <td>18901</td>\n",
       "      <td>5899</td>\n",
       "      <td>6114</td>\n",
       "      <td>18</td>\n",
       "      <td>21051</td>\n",
       "      <td>294</td>\n",
       "      <td>21301</td>\n",
       "    </tr>\n",
       "    <tr>\n",
       "      <th>top</th>\n",
       "      <td>Russian Tour</td>\n",
       "      <td>_75258759941</td>\n",
       "      <td>Buonanotte!</td>\n",
       "      <td>https://external.xx.fbcdn.net/safe_image.php?d...</td>\n",
       "      <td>http://www.russiantour.com/</td>\n",
       "      <td>Timeline Photos</td>\n",
       "      <td>Russian Gateway Tours</td>\n",
       "      <td>photo</td>\n",
       "      <td>2013-10-09T01:00:00+0000</td>\n",
       "      <td>1</td>\n",
       "      <td>792410744188300_884729708289736</td>\n",
       "    </tr>\n",
       "    <tr>\n",
       "      <th>freq</th>\n",
       "      <td>6130</td>\n",
       "      <td>6130</td>\n",
       "      <td>87</td>\n",
       "      <td>217</td>\n",
       "      <td>18</td>\n",
       "      <td>5015</td>\n",
       "      <td>74</td>\n",
       "      <td>16296</td>\n",
       "      <td>14</td>\n",
       "      <td>3119</td>\n",
       "      <td>2</td>\n",
       "    </tr>\n",
       "  </tbody>\n",
       "</table>\n",
       "</div>"
      ],
      "text/plain": [
       "                from       from_id      message  \\\n",
       "count          24643         24621        17456   \n",
       "unique           757           744        14711   \n",
       "top     Russian Tour  _75258759941  Buonanotte!   \n",
       "freq            6130          6130           87   \n",
       "\n",
       "                                                  picture  \\\n",
       "count                                               22342   \n",
       "unique                                              18236   \n",
       "top     https://external.xx.fbcdn.net/safe_image.php?d...   \n",
       "freq                                                  217   \n",
       "\n",
       "                               link             name            description  \\\n",
       "count                         22861            19305                   7533   \n",
       "unique                        18901             5899                   6114   \n",
       "top     http://www.russiantour.com/  Timeline Photos  Russian Gateway Tours   \n",
       "freq                             18             5015                     74   \n",
       "\n",
       "         type              created_time shares  \\\n",
       "count   24564                     24562  13340   \n",
       "unique     18                     21051    294   \n",
       "top     photo  2013-10-09T01:00:00+0000      1   \n",
       "freq    16296                        14   3119   \n",
       "\n",
       "                                post_id  \n",
       "count                             24558  \n",
       "unique                            21301  \n",
       "top     792410744188300_884729708289736  \n",
       "freq                                  2  "
      ]
     },
     "execution_count": 5,
     "metadata": {},
     "output_type": "execute_result"
    }
   ],
   "source": [
    "data = pd.read_csv('123.csv', sep=',', encoding='utf8')\n",
    "data = data.loc[:, ~data.columns.str.contains('^Unnamed')]\n",
    "data_length_start = len(data)\n",
    "print('Initial length: {0}'.format(data_length_start))\n",
    "data.describe()"
   ]
  },
  {
   "cell_type": "markdown",
   "metadata": {},
   "source": [
    "## 2. Preprocessing"
   ]
  },
  {
   "cell_type": "markdown",
   "metadata": {},
   "source": [
    "### 2.1 Removing nans and unnecessary columns"
   ]
  },
  {
   "cell_type": "code",
   "execution_count": 6,
   "metadata": {},
   "outputs": [
    {
     "name": "stdout",
     "output_type": "stream",
     "text": [
      "Removed 7277 elements\n",
      "New length is 17456\n"
     ]
    }
   ],
   "source": [
    "data = data.drop(['picture', 'link', 'from_id', 'post_id'], axis=1)\n",
    "data[['shares']] = data[['shares']].fillna(value=0)\n",
    "data = data.dropna(how='all')\n",
    "data = data.dropna(subset=['message'])\n",
    "print('Removed {0} elements'.format(data_length_start - len(data)))\n",
    "print('New length is {0}'.format(len(data)))"
   ]
  },
  {
   "cell_type": "markdown",
   "metadata": {},
   "source": [
    "### 2.2 Removing emojis and links"
   ]
  },
  {
   "cell_type": "markdown",
   "metadata": {},
   "source": [
    "emojis"
   ]
  },
  {
   "cell_type": "code",
   "execution_count": 7,
   "metadata": {
    "collapsed": true
   },
   "outputs": [],
   "source": [
    "data['message'] = data['message'].str.replace(u'[^\\U00000000-\\U0000d7ff\\U0000e000-\\U0000ffff]', '')"
   ]
  },
  {
   "cell_type": "markdown",
   "metadata": {},
   "source": [
    "links"
   ]
  },
  {
   "cell_type": "code",
   "execution_count": 8,
   "metadata": {
    "collapsed": true
   },
   "outputs": [],
   "source": [
    "data['message'] = data['message'].str.replace(r'^https?:\\/\\/.*[\\r\\n]*', '')"
   ]
  },
  {
   "cell_type": "markdown",
   "metadata": {},
   "source": [
    "### 2.3 Removing advertisements"
   ]
  },
  {
   "cell_type": "code",
   "execution_count": 9,
   "metadata": {
    "scrolled": true
   },
   "outputs": [
    {
     "name": "stdout",
     "output_type": "stream",
     "text": [
      "Removed 8247 elements\n",
      "New length is 16486\n"
     ]
    },
    {
     "data": {
      "text/html": [
       "<div>\n",
       "<style>\n",
       "    .dataframe thead tr:only-child th {\n",
       "        text-align: right;\n",
       "    }\n",
       "\n",
       "    .dataframe thead th {\n",
       "        text-align: left;\n",
       "    }\n",
       "\n",
       "    .dataframe tbody tr th {\n",
       "        vertical-align: top;\n",
       "    }\n",
       "</style>\n",
       "<table border=\"1\" class=\"dataframe\">\n",
       "  <thead>\n",
       "    <tr style=\"text-align: right;\">\n",
       "      <th></th>\n",
       "      <th>from</th>\n",
       "      <th>message</th>\n",
       "      <th>name</th>\n",
       "      <th>description</th>\n",
       "      <th>type</th>\n",
       "      <th>created_time</th>\n",
       "      <th>shares</th>\n",
       "    </tr>\n",
       "  </thead>\n",
       "  <tbody>\n",
       "    <tr>\n",
       "      <th>count</th>\n",
       "      <td>16486</td>\n",
       "      <td>16486</td>\n",
       "      <td>13512</td>\n",
       "      <td>4242</td>\n",
       "      <td>16442</td>\n",
       "      <td>16440</td>\n",
       "      <td>16486</td>\n",
       "    </tr>\n",
       "    <tr>\n",
       "      <th>unique</th>\n",
       "      <td>599</td>\n",
       "      <td>13310</td>\n",
       "      <td>3853</td>\n",
       "      <td>3436</td>\n",
       "      <td>17</td>\n",
       "      <td>14442</td>\n",
       "      <td>292</td>\n",
       "    </tr>\n",
       "    <tr>\n",
       "      <th>top</th>\n",
       "      <td>Russian Tour</td>\n",
       "      <td></td>\n",
       "      <td>Timeline Photos</td>\n",
       "      <td>Russian Gateway Tours</td>\n",
       "      <td>photo</td>\n",
       "      <td>2013-10-09T01:00:00+0000</td>\n",
       "      <td>0</td>\n",
       "    </tr>\n",
       "    <tr>\n",
       "      <th>freq</th>\n",
       "      <td>4480</td>\n",
       "      <td>509</td>\n",
       "      <td>4344</td>\n",
       "      <td>74</td>\n",
       "      <td>10983</td>\n",
       "      <td>14</td>\n",
       "      <td>6912</td>\n",
       "    </tr>\n",
       "  </tbody>\n",
       "</table>\n",
       "</div>"
      ],
      "text/plain": [
       "                from message             name            description   type  \\\n",
       "count          16486   16486            13512                   4242  16442   \n",
       "unique           599   13310             3853                   3436     17   \n",
       "top     Russian Tour          Timeline Photos  Russian Gateway Tours  photo   \n",
       "freq            4480     509             4344                     74  10983   \n",
       "\n",
       "                    created_time  shares  \n",
       "count                      16440   16486  \n",
       "unique                     14442     292  \n",
       "top     2013-10-09T01:00:00+0000       0  \n",
       "freq                          14    6912  "
      ]
     },
     "execution_count": 9,
     "metadata": {},
     "output_type": "execute_result"
    }
   ],
   "source": [
    "data = data[~data['from'].str.contains(\"Visit-Petersburg\", na=False)]\n",
    "print('Removed {0} elements'.format(data_length_start - len(data)))\n",
    "print('New length is {0}'.format(len(data)))\n",
    "data.describe()"
   ]
  },
  {
   "cell_type": "markdown",
   "metadata": {},
   "source": [
    "### 2.4 Stripping texts"
   ]
  },
  {
   "cell_type": "code",
   "execution_count": 10,
   "metadata": {},
   "outputs": [],
   "source": [
    "data['message'] = data['message'].apply(lambda x: x[:max_string_length].strip())\n",
    "data['description'] = data['message'].apply(lambda x: x[:max_string_length].strip())"
   ]
  },
  {
   "cell_type": "markdown",
   "metadata": {},
   "source": [
    "### 2.5 Translating texts into english"
   ]
  },
  {
   "cell_type": "code",
   "execution_count": 11,
   "metadata": {
    "collapsed": true
   },
   "outputs": [],
   "source": [
    "def translate_big_text(texts_source, dest = 'en', chunk_size = 800, delay=0):\n",
    "    translated = []\n",
    "    chunks_list = list(chunks(texts_source, chunk_size))\n",
    "    i = 1\n",
    "    for chunk in log_progress(chunks_list, every=1):\n",
    "        translated.extend(translate(chunk, delay=delay)) \n",
    "        print('Translated chunk #{0} of {1}'.format(i, len(chunks_list)))\n",
    "        i += 1 \n",
    "    return translated"
   ]
  },
  {
   "cell_type": "code",
   "execution_count": 12,
   "metadata": {
    "collapsed": true
   },
   "outputs": [],
   "source": [
    "def translate(texts_source, dest='en', delay=10):\n",
    "    translator= Translator()\n",
    "    translated = []\n",
    "    err_count = 0\n",
    "    for text in log_progress(texts_source):\n",
    "        try:\n",
    "            translated.append(translator.translate(u''.join(text), dest=dest).text)\n",
    "        except Exception as e:\n",
    "            translated.append('')\n",
    "            err_count += 1\n",
    "#             print('Error while translating ', text)\n",
    "#             print(e)\n",
    "    print('Number of errors: ', err_count)\n",
    "    print('Waiting {0} sec'.format(delay))\n",
    "    time.sleep(delay)\n",
    "    return translated"
   ]
  },
  {
   "cell_type": "code",
   "execution_count": 13,
   "metadata": {},
   "outputs": [
    {
     "data": {
      "application/vnd.jupyter.widget-view+json": {
       "model_id": "817c0ebe204c4d0cb2f56560526012a7",
       "version_major": 2,
       "version_minor": 0
      },
      "text/plain": [
       "A Jupyter Widget"
      ]
     },
     "metadata": {},
     "output_type": "display_data"
    },
    {
     "data": {
      "application/vnd.jupyter.widget-view+json": {
       "model_id": "d3656fcc1bea480da28d0b058668b492",
       "version_major": 2,
       "version_minor": 0
      },
      "text/plain": [
       "A Jupyter Widget"
      ]
     },
     "metadata": {},
     "output_type": "display_data"
    },
    {
     "name": "stdout",
     "output_type": "stream",
     "text": [
      "Number of errors:  69\n",
      "Waiting 0 sec\n",
      "Translated chunk #1 of 21\n"
     ]
    },
    {
     "data": {
      "application/vnd.jupyter.widget-view+json": {
       "model_id": "cd2a2a9044214f83899b2fef333755a3",
       "version_major": 2,
       "version_minor": 0
      },
      "text/plain": [
       "A Jupyter Widget"
      ]
     },
     "metadata": {},
     "output_type": "display_data"
    },
    {
     "name": "stdout",
     "output_type": "stream",
     "text": [
      "Number of errors:  0\n",
      "Waiting 0 sec\n",
      "Translated chunk #2 of 21\n"
     ]
    },
    {
     "data": {
      "application/vnd.jupyter.widget-view+json": {
       "model_id": "a11e84140ea741498504184c40c13b16",
       "version_major": 2,
       "version_minor": 0
      },
      "text/plain": [
       "A Jupyter Widget"
      ]
     },
     "metadata": {},
     "output_type": "display_data"
    },
    {
     "name": "stdout",
     "output_type": "stream",
     "text": [
      "Number of errors:  32\n",
      "Waiting 0 sec\n",
      "Translated chunk #3 of 21\n"
     ]
    },
    {
     "data": {
      "application/vnd.jupyter.widget-view+json": {
       "model_id": "40c42222919643fbadfd6cb743b8d18e",
       "version_major": 2,
       "version_minor": 0
      },
      "text/plain": [
       "A Jupyter Widget"
      ]
     },
     "metadata": {},
     "output_type": "display_data"
    },
    {
     "name": "stdout",
     "output_type": "stream",
     "text": [
      "Number of errors:  0\n",
      "Waiting 0 sec\n",
      "Translated chunk #4 of 21\n"
     ]
    },
    {
     "data": {
      "application/vnd.jupyter.widget-view+json": {
       "model_id": "ef93e00d94424feb81e3f1a765b2db4c",
       "version_major": 2,
       "version_minor": 0
      },
      "text/plain": [
       "A Jupyter Widget"
      ]
     },
     "metadata": {},
     "output_type": "display_data"
    },
    {
     "name": "stdout",
     "output_type": "stream",
     "text": [
      "Number of errors:  35\n",
      "Waiting 0 sec\n",
      "Translated chunk #5 of 21\n"
     ]
    },
    {
     "data": {
      "application/vnd.jupyter.widget-view+json": {
       "model_id": "5f7d32dca77f403899e5787f3ce6f184",
       "version_major": 2,
       "version_minor": 0
      },
      "text/plain": [
       "A Jupyter Widget"
      ]
     },
     "metadata": {},
     "output_type": "display_data"
    },
    {
     "name": "stdout",
     "output_type": "stream",
     "text": [
      "Number of errors:  0\n",
      "Waiting 0 sec\n",
      "Translated chunk #6 of 21\n"
     ]
    },
    {
     "data": {
      "application/vnd.jupyter.widget-view+json": {
       "model_id": "2f1ffce7972545ac881ae7945b8273f8",
       "version_major": 2,
       "version_minor": 0
      },
      "text/plain": [
       "A Jupyter Widget"
      ]
     },
     "metadata": {},
     "output_type": "display_data"
    },
    {
     "name": "stdout",
     "output_type": "stream",
     "text": [
      "Number of errors:  0\n",
      "Waiting 0 sec\n",
      "Translated chunk #7 of 21\n"
     ]
    },
    {
     "data": {
      "application/vnd.jupyter.widget-view+json": {
       "model_id": "839cd2c7b5ad45929de5965f3983492c",
       "version_major": 2,
       "version_minor": 0
      },
      "text/plain": [
       "A Jupyter Widget"
      ]
     },
     "metadata": {},
     "output_type": "display_data"
    },
    {
     "name": "stdout",
     "output_type": "stream",
     "text": [
      "Number of errors:  0\n",
      "Waiting 0 sec\n",
      "Translated chunk #8 of 21\n"
     ]
    },
    {
     "data": {
      "application/vnd.jupyter.widget-view+json": {
       "model_id": "925ad3ca02854551a88984cbf1dc2cba",
       "version_major": 2,
       "version_minor": 0
      },
      "text/plain": [
       "A Jupyter Widget"
      ]
     },
     "metadata": {},
     "output_type": "display_data"
    },
    {
     "name": "stdout",
     "output_type": "stream",
     "text": [
      "Number of errors:  36\n",
      "Waiting 0 sec\n",
      "Translated chunk #9 of 21\n"
     ]
    },
    {
     "data": {
      "application/vnd.jupyter.widget-view+json": {
       "model_id": "91d79472231645ae99403e318cf7a089",
       "version_major": 2,
       "version_minor": 0
      },
      "text/plain": [
       "A Jupyter Widget"
      ]
     },
     "metadata": {},
     "output_type": "display_data"
    },
    {
     "name": "stdout",
     "output_type": "stream",
     "text": [
      "Number of errors:  66\n",
      "Waiting 0 sec\n",
      "Translated chunk #10 of 21\n"
     ]
    },
    {
     "data": {
      "application/vnd.jupyter.widget-view+json": {
       "model_id": "d98294e1d52f465fbe05310d40da2ef3",
       "version_major": 2,
       "version_minor": 0
      },
      "text/plain": [
       "A Jupyter Widget"
      ]
     },
     "metadata": {},
     "output_type": "display_data"
    },
    {
     "name": "stdout",
     "output_type": "stream",
     "text": [
      "Number of errors:  74\n",
      "Waiting 0 sec\n",
      "Translated chunk #11 of 21\n"
     ]
    },
    {
     "data": {
      "application/vnd.jupyter.widget-view+json": {
       "model_id": "dd1b4eac04d64c5381c316c18953ea8d",
       "version_major": 2,
       "version_minor": 0
      },
      "text/plain": [
       "A Jupyter Widget"
      ]
     },
     "metadata": {},
     "output_type": "display_data"
    },
    {
     "name": "stdout",
     "output_type": "stream",
     "text": [
      "Number of errors:  0\n",
      "Waiting 0 sec\n",
      "Translated chunk #12 of 21\n"
     ]
    },
    {
     "data": {
      "application/vnd.jupyter.widget-view+json": {
       "model_id": "89a1b3d81c4f47449053c40ec7020e72",
       "version_major": 2,
       "version_minor": 0
      },
      "text/plain": [
       "A Jupyter Widget"
      ]
     },
     "metadata": {},
     "output_type": "display_data"
    },
    {
     "name": "stdout",
     "output_type": "stream",
     "text": [
      "Number of errors:  119\n",
      "Waiting 0 sec\n",
      "Translated chunk #13 of 21\n"
     ]
    },
    {
     "data": {
      "application/vnd.jupyter.widget-view+json": {
       "model_id": "faff68b9c48c4b3ca3dcba38001b2d82",
       "version_major": 2,
       "version_minor": 0
      },
      "text/plain": [
       "A Jupyter Widget"
      ]
     },
     "metadata": {},
     "output_type": "display_data"
    },
    {
     "name": "stdout",
     "output_type": "stream",
     "text": [
      "Number of errors:  0\n",
      "Waiting 0 sec\n",
      "Translated chunk #14 of 21\n"
     ]
    },
    {
     "data": {
      "application/vnd.jupyter.widget-view+json": {
       "model_id": "8a9023cee29a434ba24cddb45cbb484d",
       "version_major": 2,
       "version_minor": 0
      },
      "text/plain": [
       "A Jupyter Widget"
      ]
     },
     "metadata": {},
     "output_type": "display_data"
    },
    {
     "name": "stdout",
     "output_type": "stream",
     "text": [
      "Number of errors:  0\n",
      "Waiting 0 sec\n",
      "Translated chunk #15 of 21\n"
     ]
    },
    {
     "data": {
      "application/vnd.jupyter.widget-view+json": {
       "model_id": "5fd9f14e55074788b92590fdc0205943",
       "version_major": 2,
       "version_minor": 0
      },
      "text/plain": [
       "A Jupyter Widget"
      ]
     },
     "metadata": {},
     "output_type": "display_data"
    },
    {
     "name": "stdout",
     "output_type": "stream",
     "text": [
      "Number of errors:  0\n",
      "Waiting 0 sec\n",
      "Translated chunk #16 of 21\n"
     ]
    },
    {
     "data": {
      "application/vnd.jupyter.widget-view+json": {
       "model_id": "19107b5904084e53a6165034e07a75cc",
       "version_major": 2,
       "version_minor": 0
      },
      "text/plain": [
       "A Jupyter Widget"
      ]
     },
     "metadata": {},
     "output_type": "display_data"
    },
    {
     "name": "stdout",
     "output_type": "stream",
     "text": [
      "Number of errors:  0\n",
      "Waiting 0 sec\n",
      "Translated chunk #17 of 21\n"
     ]
    },
    {
     "data": {
      "application/vnd.jupyter.widget-view+json": {
       "model_id": "dee715349c6b4d8fad55795759a638da",
       "version_major": 2,
       "version_minor": 0
      },
      "text/plain": [
       "A Jupyter Widget"
      ]
     },
     "metadata": {},
     "output_type": "display_data"
    },
    {
     "name": "stdout",
     "output_type": "stream",
     "text": [
      "Number of errors:  0\n",
      "Waiting 0 sec\n",
      "Translated chunk #18 of 21\n"
     ]
    },
    {
     "data": {
      "application/vnd.jupyter.widget-view+json": {
       "model_id": "f4ac1b7c92cb4c2bbf45f498b2fea023",
       "version_major": 2,
       "version_minor": 0
      },
      "text/plain": [
       "A Jupyter Widget"
      ]
     },
     "metadata": {},
     "output_type": "display_data"
    },
    {
     "name": "stdout",
     "output_type": "stream",
     "text": [
      "Number of errors:  0\n",
      "Waiting 0 sec\n",
      "Translated chunk #19 of 21\n"
     ]
    },
    {
     "data": {
      "application/vnd.jupyter.widget-view+json": {
       "model_id": "3b0b3d3502fb4e5b99bad0b3e269cf91",
       "version_major": 2,
       "version_minor": 0
      },
      "text/plain": [
       "A Jupyter Widget"
      ]
     },
     "metadata": {},
     "output_type": "display_data"
    },
    {
     "name": "stdout",
     "output_type": "stream",
     "text": [
      "Number of errors:  0\n",
      "Waiting 0 sec\n",
      "Translated chunk #20 of 21\n"
     ]
    },
    {
     "data": {
      "application/vnd.jupyter.widget-view+json": {
       "model_id": "2ff7c95983b84c2f8dc72724c7b343f1",
       "version_major": 2,
       "version_minor": 0
      },
      "text/plain": [
       "A Jupyter Widget"
      ]
     },
     "metadata": {},
     "output_type": "display_data"
    },
    {
     "name": "stdout",
     "output_type": "stream",
     "text": [
      "Number of errors:  0\n",
      "Waiting 0 sec\n",
      "Translated chunk #21 of 21\n"
     ]
    }
   ],
   "source": [
    "msg_translations = translate_big_text(data['message'].values)"
   ]
  },
  {
   "cell_type": "code",
   "execution_count": 14,
   "metadata": {
    "collapsed": true
   },
   "outputs": [],
   "source": [
    "data['message'] = msg_translations"
   ]
  },
  {
   "cell_type": "code",
   "execution_count": 15,
   "metadata": {},
   "outputs": [
    {
     "name": "stdout",
     "output_type": "stream",
     "text": [
      "Number of skipped =  672\n"
     ]
    }
   ],
   "source": [
    "print('Number of skipped = ', 672)"
   ]
  },
  {
   "cell_type": "code",
   "execution_count": 16,
   "metadata": {},
   "outputs": [
    {
     "data": {
      "application/vnd.jupyter.widget-view+json": {
       "model_id": "d862a603f54b4377994e26c7edbbfdff",
       "version_major": 2,
       "version_minor": 0
      },
      "text/plain": [
       "A Jupyter Widget"
      ]
     },
     "metadata": {},
     "output_type": "display_data"
    },
    {
     "data": {
      "application/vnd.jupyter.widget-view+json": {
       "model_id": "84c9abab377b486ab2293b093049cc1c",
       "version_major": 2,
       "version_minor": 0
      },
      "text/plain": [
       "A Jupyter Widget"
      ]
     },
     "metadata": {},
     "output_type": "display_data"
    },
    {
     "name": "stdout",
     "output_type": "stream",
     "text": [
      "Number of errors:  4\n",
      "Waiting 0 sec\n",
      "Translated chunk #1 of 21\n"
     ]
    },
    {
     "data": {
      "application/vnd.jupyter.widget-view+json": {
       "model_id": "c3794f37212d491fa76eab1938088e04",
       "version_major": 2,
       "version_minor": 0
      },
      "text/plain": [
       "A Jupyter Widget"
      ]
     },
     "metadata": {},
     "output_type": "display_data"
    },
    {
     "name": "stdout",
     "output_type": "stream",
     "text": [
      "Number of errors:  25\n",
      "Waiting 0 sec\n",
      "Translated chunk #2 of 21\n"
     ]
    },
    {
     "data": {
      "application/vnd.jupyter.widget-view+json": {
       "model_id": "4fb603620f44429db74e93f26be70d91",
       "version_major": 2,
       "version_minor": 0
      },
      "text/plain": [
       "A Jupyter Widget"
      ]
     },
     "metadata": {},
     "output_type": "display_data"
    },
    {
     "name": "stdout",
     "output_type": "stream",
     "text": [
      "Number of errors:  19\n",
      "Waiting 0 sec\n",
      "Translated chunk #3 of 21\n"
     ]
    },
    {
     "data": {
      "application/vnd.jupyter.widget-view+json": {
       "model_id": "78cd6f62b4b44afa883069d94f1352cb",
       "version_major": 2,
       "version_minor": 0
      },
      "text/plain": [
       "A Jupyter Widget"
      ]
     },
     "metadata": {},
     "output_type": "display_data"
    },
    {
     "name": "stdout",
     "output_type": "stream",
     "text": [
      "Number of errors:  18\n",
      "Waiting 0 sec\n",
      "Translated chunk #4 of 21\n"
     ]
    },
    {
     "data": {
      "application/vnd.jupyter.widget-view+json": {
       "model_id": "191c8660060844eead890a405dca9947",
       "version_major": 2,
       "version_minor": 0
      },
      "text/plain": [
       "A Jupyter Widget"
      ]
     },
     "metadata": {},
     "output_type": "display_data"
    },
    {
     "name": "stdout",
     "output_type": "stream",
     "text": [
      "Number of errors:  88\n",
      "Waiting 0 sec\n",
      "Translated chunk #5 of 21\n"
     ]
    },
    {
     "data": {
      "application/vnd.jupyter.widget-view+json": {
       "model_id": "996f98d0e26e4c2a9e7250e6f872c6f4",
       "version_major": 2,
       "version_minor": 0
      },
      "text/plain": [
       "A Jupyter Widget"
      ]
     },
     "metadata": {},
     "output_type": "display_data"
    },
    {
     "name": "stdout",
     "output_type": "stream",
     "text": [
      "Number of errors:  0\n",
      "Waiting 0 sec\n",
      "Translated chunk #6 of 21\n"
     ]
    },
    {
     "data": {
      "application/vnd.jupyter.widget-view+json": {
       "model_id": "587ad084e6f740e7bc9e5fc3e0b01a9d",
       "version_major": 2,
       "version_minor": 0
      },
      "text/plain": [
       "A Jupyter Widget"
      ]
     },
     "metadata": {},
     "output_type": "display_data"
    },
    {
     "name": "stdout",
     "output_type": "stream",
     "text": [
      "Number of errors:  2\n",
      "Waiting 0 sec\n",
      "Translated chunk #7 of 21\n"
     ]
    },
    {
     "data": {
      "application/vnd.jupyter.widget-view+json": {
       "model_id": "e70eb73b286c423d80cc3d3fba2eb0c1",
       "version_major": 2,
       "version_minor": 0
      },
      "text/plain": [
       "A Jupyter Widget"
      ]
     },
     "metadata": {},
     "output_type": "display_data"
    },
    {
     "name": "stdout",
     "output_type": "stream",
     "text": [
      "Number of errors:  0\n",
      "Waiting 0 sec\n",
      "Translated chunk #8 of 21\n"
     ]
    },
    {
     "data": {
      "application/vnd.jupyter.widget-view+json": {
       "model_id": "762f036298f14ef9b6490a0c0fdeb80a",
       "version_major": 2,
       "version_minor": 0
      },
      "text/plain": [
       "A Jupyter Widget"
      ]
     },
     "metadata": {},
     "output_type": "display_data"
    },
    {
     "name": "stdout",
     "output_type": "stream",
     "text": [
      "Number of errors:  14\n",
      "Waiting 0 sec\n",
      "Translated chunk #9 of 21\n"
     ]
    },
    {
     "data": {
      "application/vnd.jupyter.widget-view+json": {
       "model_id": "09e4ee8fcd2c4c77a2878d74f25c4c99",
       "version_major": 2,
       "version_minor": 0
      },
      "text/plain": [
       "A Jupyter Widget"
      ]
     },
     "metadata": {},
     "output_type": "display_data"
    },
    {
     "name": "stdout",
     "output_type": "stream",
     "text": [
      "Number of errors:  7\n",
      "Waiting 0 sec\n",
      "Translated chunk #10 of 21\n"
     ]
    },
    {
     "data": {
      "application/vnd.jupyter.widget-view+json": {
       "model_id": "121950866eb746219967d9f9a759668e",
       "version_major": 2,
       "version_minor": 0
      },
      "text/plain": [
       "A Jupyter Widget"
      ]
     },
     "metadata": {},
     "output_type": "display_data"
    },
    {
     "name": "stdout",
     "output_type": "stream",
     "text": [
      "Number of errors:  64\n",
      "Waiting 0 sec\n",
      "Translated chunk #11 of 21\n"
     ]
    },
    {
     "data": {
      "application/vnd.jupyter.widget-view+json": {
       "model_id": "6ada85162a1c41bb88d24c552b83444e",
       "version_major": 2,
       "version_minor": 0
      },
      "text/plain": [
       "A Jupyter Widget"
      ]
     },
     "metadata": {},
     "output_type": "display_data"
    },
    {
     "name": "stdout",
     "output_type": "stream",
     "text": [
      "Number of errors:  40\n",
      "Waiting 0 sec\n",
      "Translated chunk #12 of 21\n"
     ]
    },
    {
     "data": {
      "application/vnd.jupyter.widget-view+json": {
       "model_id": "b4a8d6fb408349a2ae17ba171af3da94",
       "version_major": 2,
       "version_minor": 0
      },
      "text/plain": [
       "A Jupyter Widget"
      ]
     },
     "metadata": {},
     "output_type": "display_data"
    },
    {
     "name": "stdout",
     "output_type": "stream",
     "text": [
      "Number of errors:  90\n",
      "Waiting 0 sec\n",
      "Translated chunk #13 of 21\n"
     ]
    },
    {
     "data": {
      "application/vnd.jupyter.widget-view+json": {
       "model_id": "2b6a212dd5134cf5898f49a13899542b",
       "version_major": 2,
       "version_minor": 0
      },
      "text/plain": [
       "A Jupyter Widget"
      ]
     },
     "metadata": {},
     "output_type": "display_data"
    },
    {
     "name": "stdout",
     "output_type": "stream",
     "text": [
      "Number of errors:  53\n",
      "Waiting 0 sec\n",
      "Translated chunk #14 of 21\n"
     ]
    },
    {
     "data": {
      "application/vnd.jupyter.widget-view+json": {
       "model_id": "8ec4014bbe094e0787f750a5e28d9879",
       "version_major": 2,
       "version_minor": 0
      },
      "text/plain": [
       "A Jupyter Widget"
      ]
     },
     "metadata": {},
     "output_type": "display_data"
    },
    {
     "name": "stdout",
     "output_type": "stream",
     "text": [
      "Number of errors:  47\n",
      "Waiting 0 sec\n",
      "Translated chunk #15 of 21\n"
     ]
    },
    {
     "data": {
      "application/vnd.jupyter.widget-view+json": {
       "model_id": "5af3f20e42ec4c70a8ca62344072ecb2",
       "version_major": 2,
       "version_minor": 0
      },
      "text/plain": [
       "A Jupyter Widget"
      ]
     },
     "metadata": {},
     "output_type": "display_data"
    },
    {
     "name": "stdout",
     "output_type": "stream",
     "text": [
      "Number of errors:  23\n",
      "Waiting 0 sec\n",
      "Translated chunk #16 of 21\n"
     ]
    },
    {
     "data": {
      "application/vnd.jupyter.widget-view+json": {
       "model_id": "63f77956937a4758a8c9e65bf0fb08a7",
       "version_major": 2,
       "version_minor": 0
      },
      "text/plain": [
       "A Jupyter Widget"
      ]
     },
     "metadata": {},
     "output_type": "display_data"
    },
    {
     "name": "stdout",
     "output_type": "stream",
     "text": [
      "Number of errors:  50\n",
      "Waiting 0 sec\n",
      "Translated chunk #17 of 21\n"
     ]
    },
    {
     "data": {
      "application/vnd.jupyter.widget-view+json": {
       "model_id": "b1c39be432974d759b127b1adc2a797b",
       "version_major": 2,
       "version_minor": 0
      },
      "text/plain": [
       "A Jupyter Widget"
      ]
     },
     "metadata": {},
     "output_type": "display_data"
    },
    {
     "name": "stdout",
     "output_type": "stream",
     "text": [
      "Number of errors:  43\n",
      "Waiting 0 sec\n",
      "Translated chunk #18 of 21\n"
     ]
    },
    {
     "data": {
      "application/vnd.jupyter.widget-view+json": {
       "model_id": "8eab68d2de9e46dd8d98da470f617a89",
       "version_major": 2,
       "version_minor": 0
      },
      "text/plain": [
       "A Jupyter Widget"
      ]
     },
     "metadata": {},
     "output_type": "display_data"
    },
    {
     "name": "stdout",
     "output_type": "stream",
     "text": [
      "Number of errors:  14\n",
      "Waiting 0 sec\n",
      "Translated chunk #19 of 21\n"
     ]
    },
    {
     "data": {
      "application/vnd.jupyter.widget-view+json": {
       "model_id": "7d2bc6048de44e41bb3acdb309f075c6",
       "version_major": 2,
       "version_minor": 0
      },
      "text/plain": [
       "A Jupyter Widget"
      ]
     },
     "metadata": {},
     "output_type": "display_data"
    },
    {
     "name": "stdout",
     "output_type": "stream",
     "text": [
      "Number of errors:  26\n",
      "Waiting 0 sec\n",
      "Translated chunk #20 of 21\n"
     ]
    },
    {
     "data": {
      "application/vnd.jupyter.widget-view+json": {
       "model_id": "cc63d463954c4785acbe775616e0ed03",
       "version_major": 2,
       "version_minor": 0
      },
      "text/plain": [
       "A Jupyter Widget"
      ]
     },
     "metadata": {},
     "output_type": "display_data"
    },
    {
     "name": "stdout",
     "output_type": "stream",
     "text": [
      "Number of errors:  0\n",
      "Waiting 0 sec\n",
      "Translated chunk #21 of 21\n"
     ]
    }
   ],
   "source": [
    "descr_translations = translate_big_text(data['description'].values)"
   ]
  },
  {
   "cell_type": "code",
   "execution_count": 17,
   "metadata": {
    "collapsed": true
   },
   "outputs": [],
   "source": [
    "data['description'] = descr_translations"
   ]
  },
  {
   "cell_type": "code",
   "execution_count": 18,
   "metadata": {},
   "outputs": [
    {
     "name": "stdout",
     "output_type": "stream",
     "text": [
      "Number of skipped =  559\n"
     ]
    }
   ],
   "source": [
    "print('Number of skipped = ', 559)"
   ]
  },
  {
   "cell_type": "code",
   "execution_count": 19,
   "metadata": {
    "collapsed": true
   },
   "outputs": [],
   "source": [
    "data.to_csv('data_converted.csv')"
   ]
  },
  {
   "cell_type": "code",
   "execution_count": 20,
   "metadata": {
    "collapsed": true
   },
   "outputs": [],
   "source": [
    "data = pd.read_csv('data_converted.csv', sep=',', encoding='utf8')"
   ]
  },
  {
   "cell_type": "markdown",
   "metadata": {},
   "source": [
    "## 2.7 Moving all words to lower case"
   ]
  },
  {
   "cell_type": "code",
   "execution_count": 21,
   "metadata": {},
   "outputs": [],
   "source": [
    "data[\"message\"] = data[\"message\"].map(lambda x: x if type(x)!=str else x.lower())\n",
    "data[\"description\"] = data[\"description\"].map(lambda x: x if type(x)!=str else x.lower())"
   ]
  },
  {
   "cell_type": "markdown",
   "metadata": {},
   "source": [
    "### 2.8 Tokenizing sentences"
   ]
  },
  {
   "cell_type": "code",
   "execution_count": 22,
   "metadata": {
    "collapsed": true
   },
   "outputs": [],
   "source": [
    "data['message'] = data['message'].apply(lambda x: nltk.word_tokenize(str(x)))\n",
    "data['description'] = data['description'].apply(lambda x: nltk.word_tokenize(str(x)))"
   ]
  },
  {
   "cell_type": "markdown",
   "metadata": {
    "collapsed": true
   },
   "source": [
    "### 2.9 Removing stopwords and punctuation"
   ]
  },
  {
   "cell_type": "code",
   "execution_count": 23,
   "metadata": {},
   "outputs": [],
   "source": [
    "stop_words = stopwords.words('english')\n",
    "stop_words += (['.', ',', '\"', \"'\", '?', '!', ':', ';', '(', ')', '[', ']', '{', '}', '\\n', '/n', '-', '#', 'visitpetersburg', 'visitrussia', 'russia', 'the', 'is', 'a'])"
   ]
  },
  {
   "cell_type": "code",
   "execution_count": 24,
   "metadata": {},
   "outputs": [],
   "source": [
    "data['message'] = data['message'].apply(lambda x: list(filter(lambda y: y not in stop_words, x)))\n",
    "data['description'] = data['description'].apply(lambda x: list(filter(lambda y: y not in stop_words, x)))"
   ]
  },
  {
   "cell_type": "markdown",
   "metadata": {},
   "source": [
    "# 3. Processing data"
   ]
  },
  {
   "cell_type": "code",
   "execution_count": 25,
   "metadata": {},
   "outputs": [],
   "source": [
    "sid = SentimentIntensityAnalyzer()\n",
    "message_sent = []\n",
    "descr_sent = []\n",
    "data['message'].apply(lambda x: message_sent.append(sid.polarity_scores((\" \".join(x)))));\n",
    "data['description'].apply(lambda x: descr_sent.append(sid.polarity_scores((\" \".join(x)))));\n",
    "data['message_sentiment_vader'] = message_sent\n",
    "data['description_sentiment_vader'] = descr_sent"
   ]
  },
  {
   "cell_type": "code",
   "execution_count": 26,
   "metadata": {},
   "outputs": [
    {
     "data": {
      "text/html": [
       "<div>\n",
       "<style>\n",
       "    .dataframe thead tr:only-child th {\n",
       "        text-align: right;\n",
       "    }\n",
       "\n",
       "    .dataframe thead th {\n",
       "        text-align: left;\n",
       "    }\n",
       "\n",
       "    .dataframe tbody tr th {\n",
       "        vertical-align: top;\n",
       "    }\n",
       "</style>\n",
       "<table border=\"1\" class=\"dataframe\">\n",
       "  <thead>\n",
       "    <tr style=\"text-align: right;\">\n",
       "      <th></th>\n",
       "      <th>Unnamed: 0</th>\n",
       "      <th>from</th>\n",
       "      <th>message</th>\n",
       "      <th>name</th>\n",
       "      <th>description</th>\n",
       "      <th>type</th>\n",
       "      <th>created_time</th>\n",
       "      <th>shares</th>\n",
       "      <th>message_sentiment_vader</th>\n",
       "      <th>description_sentiment_vader</th>\n",
       "    </tr>\n",
       "  </thead>\n",
       "  <tbody>\n",
       "    <tr>\n",
       "      <th>0</th>\n",
       "      <td>1571</td>\n",
       "      <td>Russ-Tico Travel With Love to Russia</td>\n",
       "      <td>[get, know, faces]</td>\n",
       "      <td>Russian travel guide</td>\n",
       "      <td>[get, know, faces]</td>\n",
       "      <td>photo</td>\n",
       "      <td>2016-03-01T18:24:49+0000</td>\n",
       "      <td>0</td>\n",
       "      <td>{'neg': 0.0, 'neu': 1.0, 'pos': 0.0, 'compound...</td>\n",
       "      <td>{'neg': 0.0, 'neu': 1.0, 'pos': 0.0, 'compound...</td>\n",
       "    </tr>\n",
       "    <tr>\n",
       "      <th>1</th>\n",
       "      <td>1577</td>\n",
       "      <td>Russ-Tico Travel With Love to Russia</td>\n",
       "      <td>[ekaterinburg, city, unites, europe, asia]</td>\n",
       "      <td>E1.RU News</td>\n",
       "      <td>[ekaterinburg, city, unites, europe, asia]</td>\n",
       "      <td>video</td>\n",
       "      <td>2016-01-30T14:38:27+0000</td>\n",
       "      <td>0</td>\n",
       "      <td>{'neg': 0.0, 'neu': 1.0, 'pos': 0.0, 'compound...</td>\n",
       "      <td>{'neg': 0.0, 'neu': 1.0, 'pos': 0.0, 'compound...</td>\n",
       "    </tr>\n",
       "    <tr>\n",
       "      <th>2</th>\n",
       "      <td>1585</td>\n",
       "      <td>Russ-Tico Travel With Love to Russia</td>\n",
       "      <td>[moscow]</td>\n",
       "      <td>нтересная Москва</td>\n",
       "      <td>[moscow]</td>\n",
       "      <td>video</td>\n",
       "      <td>2015-11-21T04:04:09+0000</td>\n",
       "      <td>0</td>\n",
       "      <td>{'neg': 0.0, 'neu': 1.0, 'pos': 0.0, 'compound...</td>\n",
       "      <td>{'neg': 0.0, 'neu': 1.0, 'pos': 0.0, 'compound...</td>\n",
       "    </tr>\n",
       "    <tr>\n",
       "      <th>3</th>\n",
       "      <td>1586</td>\n",
       "      <td>Russ-Tico Travel With Love to Russia</td>\n",
       "      <td>[nordic, capital, city, lot, history, culture]</td>\n",
       "      <td>Mobile Uploads</td>\n",
       "      <td>[nordic, capital, city, lot, history, culture]</td>\n",
       "      <td>photo</td>\n",
       "      <td>2015-09-06T20:45:24+0000</td>\n",
       "      <td>1</td>\n",
       "      <td>{'neg': 0.0, 'neu': 1.0, 'pos': 0.0, 'compound...</td>\n",
       "      <td>{'neg': 0.0, 'neu': 1.0, 'pos': 0.0, 'compound...</td>\n",
       "    </tr>\n",
       "    <tr>\n",
       "      <th>4</th>\n",
       "      <td>1589</td>\n",
       "      <td>Russ-Tico Travel With Love to Russia</td>\n",
       "      <td>[architectural, beauties]</td>\n",
       "      <td>Photos from Russ-Tico Travel With Love to Russ...</td>\n",
       "      <td>[architectural, beauties]</td>\n",
       "      <td>photo</td>\n",
       "      <td>2015-08-18T18:34:14+0000</td>\n",
       "      <td>0</td>\n",
       "      <td>{'neg': 0.0, 'neu': 0.227, 'pos': 0.773, 'comp...</td>\n",
       "      <td>{'neg': 0.0, 'neu': 0.227, 'pos': 0.773, 'comp...</td>\n",
       "    </tr>\n",
       "    <tr>\n",
       "      <th>5</th>\n",
       "      <td>1593</td>\n",
       "      <td>Russ-Tico Travel With Love to Russia</td>\n",
       "      <td>[moscow]</td>\n",
       "      <td>Photos from Russ-Tico Travel With Love to Russ...</td>\n",
       "      <td>[moscow]</td>\n",
       "      <td>photo</td>\n",
       "      <td>2015-08-01T03:43:26+0000</td>\n",
       "      <td>0</td>\n",
       "      <td>{'neg': 0.0, 'neu': 1.0, 'pos': 0.0, 'compound...</td>\n",
       "      <td>{'neg': 0.0, 'neu': 1.0, 'pos': 0.0, 'compound...</td>\n",
       "    </tr>\n",
       "    <tr>\n",
       "      <th>6</th>\n",
       "      <td>1594</td>\n",
       "      <td>Russ-Tico Travel With Love to Russia</td>\n",
       "      <td>[discover, cities]</td>\n",
       "      <td>Pasee por las ciudades más bonitas de la provi...</td>\n",
       "      <td>[discover, cities]</td>\n",
       "      <td>link</td>\n",
       "      <td>2015-07-23T21:27:52+0000</td>\n",
       "      <td>0</td>\n",
       "      <td>{'neg': 0.0, 'neu': 1.0, 'pos': 0.0, 'compound...</td>\n",
       "      <td>{'neg': 0.0, 'neu': 1.0, 'pos': 0.0, 'compound...</td>\n",
       "    </tr>\n",
       "    <tr>\n",
       "      <th>7</th>\n",
       "      <td>1595</td>\n",
       "      <td>Russ-Tico Travel With Love to Russia</td>\n",
       "      <td>[dear, friends, invite, part, new, outbound, t...</td>\n",
       "      <td>Mobile Uploads</td>\n",
       "      <td>[dear, friends, invite, part, new, outbound, t...</td>\n",
       "      <td>photo</td>\n",
       "      <td>2015-07-18T22:25:28+0000</td>\n",
       "      <td>4</td>\n",
       "      <td>{'neg': 0.0, 'neu': 0.395, 'pos': 0.605, 'comp...</td>\n",
       "      <td>{'neg': 0.0, 'neu': 0.395, 'pos': 0.605, 'comp...</td>\n",
       "    </tr>\n",
       "    <tr>\n",
       "      <th>8</th>\n",
       "      <td>1608</td>\n",
       "      <td>Visit Veliky Novgorod</td>\n",
       "      <td>[amazing, night, novgorod]</td>\n",
       "      <td>Photos from Visit Veliky Novgorod's post</td>\n",
       "      <td>[amazing, night, novgorod]</td>\n",
       "      <td>photo</td>\n",
       "      <td>2015-06-08T12:03:48+0000</td>\n",
       "      <td>2</td>\n",
       "      <td>{'neg': 0.0, 'neu': 0.345, 'pos': 0.655, 'comp...</td>\n",
       "      <td>{'neg': 0.0, 'neu': 0.345, 'pos': 0.655, 'comp...</td>\n",
       "    </tr>\n",
       "    <tr>\n",
       "      <th>9</th>\n",
       "      <td>1609</td>\n",
       "      <td>Visit Veliky Novgorod</td>\n",
       "      <td>[firework, honor, victory, day]</td>\n",
       "      <td>NaN</td>\n",
       "      <td>[firework, honor, victory, day]</td>\n",
       "      <td>video</td>\n",
       "      <td>2015-05-11T08:47:39+0000</td>\n",
       "      <td>0</td>\n",
       "      <td>{'neg': 0.0, 'neu': 0.484, 'pos': 0.516, 'comp...</td>\n",
       "      <td>{'neg': 0.0, 'neu': 0.484, 'pos': 0.516, 'comp...</td>\n",
       "    </tr>\n",
       "    <tr>\n",
       "      <th>10</th>\n",
       "      <td>1611</td>\n",
       "      <td>Visit Veliky Novgorod</td>\n",
       "      <td>[novgorod, walked, bears]</td>\n",
       "      <td>Timeline Photos</td>\n",
       "      <td>[novgorod, walked, bears]</td>\n",
       "      <td>photo</td>\n",
       "      <td>2015-05-04T09:22:44+0000</td>\n",
       "      <td>0</td>\n",
       "      <td>{'neg': 0.0, 'neu': 1.0, 'pos': 0.0, 'compound...</td>\n",
       "      <td>{'neg': 0.0, 'neu': 1.0, 'pos': 0.0, 'compound...</td>\n",
       "    </tr>\n",
       "    <tr>\n",
       "      <th>11</th>\n",
       "      <td>1612</td>\n",
       "      <td>Visit Veliky Novgorod</td>\n",
       "      <td>[june, 2009, international, convention, cultur...</td>\n",
       "      <td>Hanseatic Fountain</td>\n",
       "      <td>[june, 2009, international, convention, cultur...</td>\n",
       "      <td>photo</td>\n",
       "      <td>2014-10-04T08:16:00+0000</td>\n",
       "      <td>0</td>\n",
       "      <td>{'neg': 0.0, 'neu': 1.0, 'pos': 0.0, 'compound...</td>\n",
       "      <td>{'neg': 0.0, 'neu': 1.0, 'pos': 0.0, 'compound...</td>\n",
       "    </tr>\n",
       "    <tr>\n",
       "      <th>12</th>\n",
       "      <td>1613</td>\n",
       "      <td>林 立偉</td>\n",
       "      <td>[termination, politics, lame, duck, also, know...</td>\n",
       "      <td>NaN</td>\n",
       "      <td>[termination, politics, lame, duck, also, know...</td>\n",
       "      <td>status</td>\n",
       "      <td>2014-10-03T14:16:56+0000</td>\n",
       "      <td>0</td>\n",
       "      <td>{'neg': 0.324, 'neu': 0.462, 'pos': 0.214, 'co...</td>\n",
       "      <td>{'neg': 0.324, 'neu': 0.462, 'pos': 0.214, 'co...</td>\n",
       "    </tr>\n",
       "    <tr>\n",
       "      <th>13</th>\n",
       "      <td>1615</td>\n",
       "      <td>Visit Veliky Novgorod</td>\n",
       "      <td>[12th, century, wooden, church, saviour, trans...</td>\n",
       "      <td>The Cathedral of Our Lady of the Sign</td>\n",
       "      <td>[12th, century, wooden, church, saviour, trans...</td>\n",
       "      <td>photo</td>\n",
       "      <td>2014-09-11T08:43:41+0000</td>\n",
       "      <td>0</td>\n",
       "      <td>{'neg': 0.0, 'neu': 1.0, 'pos': 0.0, 'compound...</td>\n",
       "      <td>{'neg': 0.0, 'neu': 1.0, 'pos': 0.0, 'compound...</td>\n",
       "    </tr>\n",
       "    <tr>\n",
       "      <th>14</th>\n",
       "      <td>1617</td>\n",
       "      <td>Seun Scheppel</td>\n",
       "      <td>[hello, people, please, like, page, say, refer...</td>\n",
       "      <td>Super Star spa</td>\n",
       "      <td>[hello, people, please, like, page, say, refer...</td>\n",
       "      <td>link</td>\n",
       "      <td>2014-05-21T01:09:56+0000</td>\n",
       "      <td>0</td>\n",
       "      <td>{'neg': 0.0, 'neu': 0.428, 'pos': 0.572, 'comp...</td>\n",
       "      <td>{'neg': 0.0, 'neu': 0.428, 'pos': 0.572, 'comp...</td>\n",
       "    </tr>\n",
       "    <tr>\n",
       "      <th>15</th>\n",
       "      <td>1618</td>\n",
       "      <td>Ксения Сар</td>\n",
       "      <td>[love, novgorod, every, summer, came, peter, l...</td>\n",
       "      <td>Ksavera</td>\n",
       "      <td>[love, novgorod, every, summer, came, peter, l...</td>\n",
       "      <td>link</td>\n",
       "      <td>2014-05-16T14:09:12+0000</td>\n",
       "      <td>0</td>\n",
       "      <td>{'neg': 0.0, 'neu': 0.459, 'pos': 0.541, 'comp...</td>\n",
       "      <td>{'neg': 0.0, 'neu': 0.459, 'pos': 0.541, 'comp...</td>\n",
       "    </tr>\n",
       "    <tr>\n",
       "      <th>16</th>\n",
       "      <td>1619</td>\n",
       "      <td>Visit Veliky Novgorod</td>\n",
       "      <td>[st., sophia, one, 's, oldest, stone, building...</td>\n",
       "      <td>Cathedral of St. Sophia The Wisdom Of God, 104...</td>\n",
       "      <td>[st., sophia, one, 's, oldest, stone, building...</td>\n",
       "      <td>photo</td>\n",
       "      <td>2014-03-19T15:17:45+0000</td>\n",
       "      <td>0</td>\n",
       "      <td>{'neg': 0.0, 'neu': 0.813, 'pos': 0.187, 'comp...</td>\n",
       "      <td>{'neg': 0.0, 'neu': 0.813, 'pos': 0.187, 'comp...</td>\n",
       "    </tr>\n",
       "    <tr>\n",
       "      <th>17</th>\n",
       "      <td>1620</td>\n",
       "      <td>Visit Veliky Novgorod</td>\n",
       "      <td>[victory, monument, honor, novgorod, 's, liber...</td>\n",
       "      <td>Victory Monument</td>\n",
       "      <td>[victory, monument, honor, novgorod, 's, liber...</td>\n",
       "      <td>photo</td>\n",
       "      <td>2014-02-26T14:40:36+0000</td>\n",
       "      <td>0</td>\n",
       "      <td>{'neg': 0.145, 'neu': 0.726, 'pos': 0.129, 'co...</td>\n",
       "      <td>{'neg': 0.145, 'neu': 0.726, 'pos': 0.129, 'co...</td>\n",
       "    </tr>\n",
       "    <tr>\n",
       "      <th>18</th>\n",
       "      <td>1621</td>\n",
       "      <td>Visit Veliky Novgorod</td>\n",
       "      <td>[bear]</td>\n",
       "      <td>Timeline Photos</td>\n",
       "      <td>[bear]</td>\n",
       "      <td>photo</td>\n",
       "      <td>2014-01-22T23:06:31+0000</td>\n",
       "      <td>1</td>\n",
       "      <td>{'neg': 0.0, 'neu': 1.0, 'pos': 0.0, 'compound...</td>\n",
       "      <td>{'neg': 0.0, 'neu': 1.0, 'pos': 0.0, 'compound...</td>\n",
       "    </tr>\n",
       "    <tr>\n",
       "      <th>19</th>\n",
       "      <td>1623</td>\n",
       "      <td>Pothik Tourism</td>\n",
       "      <td>[world, largest, sea, beach, cox, 's, bazar, &amp;...</td>\n",
       "      <td>Tours</td>\n",
       "      <td>[world, largest, sea, beach, cox, 's, bazar, &amp;...</td>\n",
       "      <td>link</td>\n",
       "      <td>2014-01-09T03:14:25+0000</td>\n",
       "      <td>0</td>\n",
       "      <td>{'neg': 0.0, 'neu': 1.0, 'pos': 0.0, 'compound...</td>\n",
       "      <td>{'neg': 0.0, 'neu': 1.0, 'pos': 0.0, 'compound...</td>\n",
       "    </tr>\n",
       "    <tr>\n",
       "      <th>20</th>\n",
       "      <td>1624</td>\n",
       "      <td>Visit Veliky Novgorod</td>\n",
       "      <td>[bell, tower, st., sophia, cathedral]</td>\n",
       "      <td>Timeline Photos</td>\n",
       "      <td>[bell, tower, st., sophia, cathedral]</td>\n",
       "      <td>photo</td>\n",
       "      <td>2013-12-26T11:29:43+0000</td>\n",
       "      <td>1</td>\n",
       "      <td>{'neg': 0.0, 'neu': 1.0, 'pos': 0.0, 'compound...</td>\n",
       "      <td>{'neg': 0.0, 'neu': 1.0, 'pos': 0.0, 'compound...</td>\n",
       "    </tr>\n",
       "    <tr>\n",
       "      <th>21</th>\n",
       "      <td>1625</td>\n",
       "      <td>Visit Veliky Novgorod</td>\n",
       "      <td>[frohe, weihnachten, +++, merry, christmas, ++...</td>\n",
       "      <td>Happy New Year!</td>\n",
       "      <td>[frohe, weihnachten, +++, merry, christmas, ++...</td>\n",
       "      <td>photo</td>\n",
       "      <td>2013-12-24T21:39:23+0000</td>\n",
       "      <td>0</td>\n",
       "      <td>{'neg': 0.0, 'neu': 0.75, 'pos': 0.25, 'compou...</td>\n",
       "      <td>{'neg': 0.0, 'neu': 0.75, 'pos': 0.25, 'compou...</td>\n",
       "    </tr>\n",
       "    <tr>\n",
       "      <th>22</th>\n",
       "      <td>1626</td>\n",
       "      <td>Visit Veliky Novgorod</td>\n",
       "      <td>[history, veliky, novgorod]</td>\n",
       "      <td>NaN</td>\n",
       "      <td>[history, veliky, novgorod]</td>\n",
       "      <td>video</td>\n",
       "      <td>2013-12-24T12:13:56+0000</td>\n",
       "      <td>1</td>\n",
       "      <td>{'neg': 0.0, 'neu': 1.0, 'pos': 0.0, 'compound...</td>\n",
       "      <td>{'neg': 0.0, 'neu': 1.0, 'pos': 0.0, 'compound...</td>\n",
       "    </tr>\n",
       "    <tr>\n",
       "      <th>23</th>\n",
       "      <td>1627</td>\n",
       "      <td>Visit Veliky Novgorod</td>\n",
       "      <td>[museum, located, territory, former, dessiatin...</td>\n",
       "      <td>State Museum of Arts and Culture of Novgorod Land</td>\n",
       "      <td>[museum, located, territory, former, dessiatin...</td>\n",
       "      <td>photo</td>\n",
       "      <td>2013-12-19T21:43:49+0000</td>\n",
       "      <td>0</td>\n",
       "      <td>{'neg': 0.0, 'neu': 1.0, 'pos': 0.0, 'compound...</td>\n",
       "      <td>{'neg': 0.0, 'neu': 1.0, 'pos': 0.0, 'compound...</td>\n",
       "    </tr>\n",
       "    <tr>\n",
       "      <th>24</th>\n",
       "      <td>1629</td>\n",
       "      <td>Visit Veliky Novgorod</td>\n",
       "      <td>[novgorod, region, lit, fire, olympic, torch, ...</td>\n",
       "      <td>Velikiy Novgorod received the Olympic Torch Relay</td>\n",
       "      <td>[novgorod, region, lit, fire, olympic, torch, ...</td>\n",
       "      <td>video</td>\n",
       "      <td>2013-11-29T10:36:02+0000</td>\n",
       "      <td>0</td>\n",
       "      <td>{'neg': 0.074, 'neu': 0.836, 'pos': 0.09, 'com...</td>\n",
       "      <td>{'neg': 0.074, 'neu': 0.836, 'pos': 0.09, 'com...</td>\n",
       "    </tr>\n",
       "    <tr>\n",
       "      <th>25</th>\n",
       "      <td>1630</td>\n",
       "      <td>Visit Veliky Novgorod</td>\n",
       "      <td>[monument, millennium, russian, statehood, 1862]</td>\n",
       "      <td>Untitled Album</td>\n",
       "      <td>[monument, millennium, russian, statehood, 1862]</td>\n",
       "      <td>photo</td>\n",
       "      <td>2013-03-05T10:36:07+0000</td>\n",
       "      <td>4</td>\n",
       "      <td>{'neg': 0.0, 'neu': 1.0, 'pos': 0.0, 'compound...</td>\n",
       "      <td>{'neg': 0.0, 'neu': 1.0, 'pos': 0.0, 'compound...</td>\n",
       "    </tr>\n",
       "    <tr>\n",
       "      <th>26</th>\n",
       "      <td>1632</td>\n",
       "      <td>Visit Veliky Novgorod</td>\n",
       "      <td>[nan]</td>\n",
       "      <td>Veliky Novgorod - Wikipedia, the free encyclop...</td>\n",
       "      <td>[nan]</td>\n",
       "      <td>link</td>\n",
       "      <td>2013-03-04T09:41:10+0000</td>\n",
       "      <td>0</td>\n",
       "      <td>{'neg': 0.0, 'neu': 1.0, 'pos': 0.0, 'compound...</td>\n",
       "      <td>{'neg': 0.0, 'neu': 1.0, 'pos': 0.0, 'compound...</td>\n",
       "    </tr>\n",
       "    <tr>\n",
       "      <th>27</th>\n",
       "      <td>1633</td>\n",
       "      <td>Visit Veliky Novgorod</td>\n",
       "      <td>[history, forever, written, chronicles, east, ...</td>\n",
       "      <td>Ancient City: Veliky Novgorod ( Великий Новгор...</td>\n",
       "      <td>[history, forever, written, chronicles, east, ...</td>\n",
       "      <td>video</td>\n",
       "      <td>2013-03-04T05:44:57+0000</td>\n",
       "      <td>1</td>\n",
       "      <td>{'neg': 0.0, 'neu': 1.0, 'pos': 0.0, 'compound...</td>\n",
       "      <td>{'neg': 0.0, 'neu': 1.0, 'pos': 0.0, 'compound...</td>\n",
       "    </tr>\n",
       "    <tr>\n",
       "      <th>28</th>\n",
       "      <td>1634</td>\n",
       "      <td>Visit Veliky Novgorod</td>\n",
       "      <td>[photos, veliky, novgorod]</td>\n",
       "      <td>Без названия</td>\n",
       "      <td>[photos, veliky, novgorod]</td>\n",
       "      <td>photo</td>\n",
       "      <td>2013-03-04T05:07:17+0000</td>\n",
       "      <td>1</td>\n",
       "      <td>{'neg': 0.0, 'neu': 1.0, 'pos': 0.0, 'compound...</td>\n",
       "      <td>{'neg': 0.0, 'neu': 1.0, 'pos': 0.0, 'compound...</td>\n",
       "    </tr>\n",
       "    <tr>\n",
       "      <th>29</th>\n",
       "      <td>1635</td>\n",
       "      <td>Visit Veliky Novgorod</td>\n",
       "      <td>[people, used, wear, leather, boots, instead, ...</td>\n",
       "      <td>Great Novgorod</td>\n",
       "      <td>[people, used, wear, leather, boots, instead, ...</td>\n",
       "      <td>video</td>\n",
       "      <td>2013-03-04T05:00:09+0000</td>\n",
       "      <td>3</td>\n",
       "      <td>{'neg': 0.0, 'neu': 0.897, 'pos': 0.103, 'comp...</td>\n",
       "      <td>{'neg': 0.0, 'neu': 0.897, 'pos': 0.103, 'comp...</td>\n",
       "    </tr>\n",
       "    <tr>\n",
       "      <th>...</th>\n",
       "      <td>...</td>\n",
       "      <td>...</td>\n",
       "      <td>...</td>\n",
       "      <td>...</td>\n",
       "      <td>...</td>\n",
       "      <td>...</td>\n",
       "      <td>...</td>\n",
       "      <td>...</td>\n",
       "      <td>...</td>\n",
       "      <td>...</td>\n",
       "    </tr>\n",
       "    <tr>\n",
       "      <th>16456</th>\n",
       "      <td>24682</td>\n",
       "      <td>Валерий Жидков</td>\n",
       "      <td>[window, ..., königsberg]</td>\n",
       "      <td>NaN</td>\n",
       "      <td>[window, ..., königsberg]</td>\n",
       "      <td>photo</td>\n",
       "      <td>2015-07-15T21:05:49+0000</td>\n",
       "      <td>11</td>\n",
       "      <td>{'neg': 0.0, 'neu': 1.0, 'pos': 0.0, 'compound...</td>\n",
       "      <td>{'neg': 0.0, 'neu': 1.0, 'pos': 0.0, 'compound...</td>\n",
       "    </tr>\n",
       "    <tr>\n",
       "      <th>16457</th>\n",
       "      <td>24683</td>\n",
       "      <td>Валерий Жидков</td>\n",
       "      <td>[daily, life, post-war, village, history, migr...</td>\n",
       "      <td>NaN</td>\n",
       "      <td>[daily, life, post-war, village, history, migr...</td>\n",
       "      <td>photo</td>\n",
       "      <td>2015-07-09T20:31:50+0000</td>\n",
       "      <td>0</td>\n",
       "      <td>{'neg': 0.0, 'neu': 1.0, 'pos': 0.0, 'compound...</td>\n",
       "      <td>{'neg': 0.0, 'neu': 1.0, 'pos': 0.0, 'compound...</td>\n",
       "    </tr>\n",
       "    <tr>\n",
       "      <th>16458</th>\n",
       "      <td>24685</td>\n",
       "      <td>Валерий Жидков</td>\n",
       "      <td>[kaliningrad, today, continuation, traditions,...</td>\n",
       "      <td>NaN</td>\n",
       "      <td>[kaliningrad, today, continuation, traditions,...</td>\n",
       "      <td>status</td>\n",
       "      <td>2015-03-28T14:00:51+0000</td>\n",
       "      <td>0</td>\n",
       "      <td>{'neg': 0.0, 'neu': 1.0, 'pos': 0.0, 'compound...</td>\n",
       "      <td>{'neg': 0.0, 'neu': 1.0, 'pos': 0.0, 'compound...</td>\n",
       "    </tr>\n",
       "    <tr>\n",
       "      <th>16459</th>\n",
       "      <td>24686</td>\n",
       "      <td>Андрюс Рачис</td>\n",
       "      <td>[happy, birthday, lovable, city, july, 4, koni...</td>\n",
       "      <td>NaN</td>\n",
       "      <td>[happy, birthday, lovable, city, july, 4, koni...</td>\n",
       "      <td>status</td>\n",
       "      <td>2015-07-04T22:59:26+0000</td>\n",
       "      <td>0</td>\n",
       "      <td>{'neg': 0.0, 'neu': 0.565, 'pos': 0.435, 'comp...</td>\n",
       "      <td>{'neg': 0.0, 'neu': 0.565, 'pos': 0.435, 'comp...</td>\n",
       "    </tr>\n",
       "    <tr>\n",
       "      <th>16460</th>\n",
       "      <td>24687</td>\n",
       "      <td>Валерий Жидков</td>\n",
       "      <td>[new, perspective, kaliningrad, circus, gone, ...</td>\n",
       "      <td>NaN</td>\n",
       "      <td>[new, perspective, kaliningrad, circus, gone, ...</td>\n",
       "      <td>photo</td>\n",
       "      <td>2015-06-20T10:32:31+0000</td>\n",
       "      <td>6</td>\n",
       "      <td>{'neg': 0.13, 'neu': 0.87, 'pos': 0.0, 'compou...</td>\n",
       "      <td>{'neg': 0.13, 'neu': 0.87, 'pos': 0.0, 'compou...</td>\n",
       "    </tr>\n",
       "    <tr>\n",
       "      <th>16461</th>\n",
       "      <td>24689</td>\n",
       "      <td>Валерий Жидков</td>\n",
       "      <td>[sketches]</td>\n",
       "      <td>Photos from Валерий Жидков's post</td>\n",
       "      <td>[sketches]</td>\n",
       "      <td>photo</td>\n",
       "      <td>2015-06-20T20:39:34+0000</td>\n",
       "      <td>0</td>\n",
       "      <td>{'neg': 0.0, 'neu': 1.0, 'pos': 0.0, 'compound...</td>\n",
       "      <td>{'neg': 0.0, 'neu': 1.0, 'pos': 0.0, 'compound...</td>\n",
       "    </tr>\n",
       "    <tr>\n",
       "      <th>16462</th>\n",
       "      <td>24690</td>\n",
       "      <td>Андрюс Рачис</td>\n",
       "      <td>[river, russ, become, neman, prussia, became, ...</td>\n",
       "      <td>NaN</td>\n",
       "      <td>[river, russ, become, neman, prussia, became, ...</td>\n",
       "      <td>status</td>\n",
       "      <td>2015-06-14T09:02:46+0000</td>\n",
       "      <td>0</td>\n",
       "      <td>{'neg': 0.169, 'neu': 0.831, 'pos': 0.0, 'comp...</td>\n",
       "      <td>{'neg': 0.169, 'neu': 0.831, 'pos': 0.0, 'comp...</td>\n",
       "    </tr>\n",
       "    <tr>\n",
       "      <th>16463</th>\n",
       "      <td>24691</td>\n",
       "      <td>Валерий Жидков</td>\n",
       "      <td>[still, russ, neman, prussia, belt]</td>\n",
       "      <td>NaN</td>\n",
       "      <td>[still, russ, neman, prussia, belt]</td>\n",
       "      <td>photo</td>\n",
       "      <td>2015-06-20T10:35:18+0000</td>\n",
       "      <td>0</td>\n",
       "      <td>{'neg': 0.0, 'neu': 1.0, 'pos': 0.0, 'compound...</td>\n",
       "      <td>{'neg': 0.0, 'neu': 1.0, 'pos': 0.0, 'compound...</td>\n",
       "    </tr>\n",
       "    <tr>\n",
       "      <th>16464</th>\n",
       "      <td>24692</td>\n",
       "      <td>Валерий Жидков</td>\n",
       "      <td>[sketches, author, stage]</td>\n",
       "      <td>Photos from Валерий Жидков's post</td>\n",
       "      <td>[sketches, author, stage]</td>\n",
       "      <td>photo</td>\n",
       "      <td>2015-06-20T10:33:46+0000</td>\n",
       "      <td>0</td>\n",
       "      <td>{'neg': 0.0, 'neu': 1.0, 'pos': 0.0, 'compound...</td>\n",
       "      <td>{'neg': 0.0, 'neu': 1.0, 'pos': 0.0, 'compound...</td>\n",
       "    </tr>\n",
       "    <tr>\n",
       "      <th>16465</th>\n",
       "      <td>24693</td>\n",
       "      <td>Андрюс Рачис</td>\n",
       "      <td>[first, post-war, months, mass, resettlement, ...</td>\n",
       "      <td>Пруссия глазами переселенцев: немцы на работе</td>\n",
       "      <td>[first, post-war, months, mass, resettlement, ...</td>\n",
       "      <td>link</td>\n",
       "      <td>2015-06-19T21:45:58+0000</td>\n",
       "      <td>2</td>\n",
       "      <td>{'neg': 0.0, 'neu': 1.0, 'pos': 0.0, 'compound...</td>\n",
       "      <td>{'neg': 0.0, 'neu': 1.0, 'pos': 0.0, 'compound...</td>\n",
       "    </tr>\n",
       "    <tr>\n",
       "      <th>16466</th>\n",
       "      <td>24695</td>\n",
       "      <td>Андрюс Рачис</td>\n",
       "      <td>[ulyana, skoibeda, looking, national, idea, ht...</td>\n",
       "      <td>NaN</td>\n",
       "      <td>[ulyana, skoibeda, looking, national, idea, ht...</td>\n",
       "      <td>status</td>\n",
       "      <td>2015-06-18T04:53:58+0000</td>\n",
       "      <td>0</td>\n",
       "      <td>{'neg': 0.0, 'neu': 0.799, 'pos': 0.201, 'comp...</td>\n",
       "      <td>{'neg': 0.0, 'neu': 0.799, 'pos': 0.201, 'comp...</td>\n",
       "    </tr>\n",
       "    <tr>\n",
       "      <th>16467</th>\n",
       "      <td>24696</td>\n",
       "      <td>Валерий Жидков</td>\n",
       "      <td>[nan]</td>\n",
       "      <td>NaN</td>\n",
       "      <td>[nan]</td>\n",
       "      <td>status</td>\n",
       "      <td>2015-06-10T20:28:28+0000</td>\n",
       "      <td>0</td>\n",
       "      <td>{'neg': 0.0, 'neu': 1.0, 'pos': 0.0, 'compound...</td>\n",
       "      <td>{'neg': 0.0, 'neu': 1.0, 'pos': 0.0, 'compound...</td>\n",
       "    </tr>\n",
       "    <tr>\n",
       "      <th>16468</th>\n",
       "      <td>24697</td>\n",
       "      <td>Валерий Жидков</td>\n",
       "      <td>[kaliningrad, sculpture]</td>\n",
       "      <td>NaN</td>\n",
       "      <td>[kaliningrad, sculpture]</td>\n",
       "      <td>photo</td>\n",
       "      <td>2015-06-08T10:59:57+0000</td>\n",
       "      <td>0</td>\n",
       "      <td>{'neg': 0.0, 'neu': 1.0, 'pos': 0.0, 'compound...</td>\n",
       "      <td>{'neg': 0.0, 'neu': 1.0, 'pos': 0.0, 'compound...</td>\n",
       "    </tr>\n",
       "    <tr>\n",
       "      <th>16469</th>\n",
       "      <td>24698</td>\n",
       "      <td>Валерий Жидков</td>\n",
       "      <td>[everyone, running, around, koenig]</td>\n",
       "      <td>NaN</td>\n",
       "      <td>[everyone, running, around, koenig]</td>\n",
       "      <td>video</td>\n",
       "      <td>2015-06-09T11:41:09+0000</td>\n",
       "      <td>34</td>\n",
       "      <td>{'neg': 0.0, 'neu': 1.0, 'pos': 0.0, 'compound...</td>\n",
       "      <td>{'neg': 0.0, 'neu': 1.0, 'pos': 0.0, 'compound...</td>\n",
       "    </tr>\n",
       "    <tr>\n",
       "      <th>16470</th>\n",
       "      <td>24699</td>\n",
       "      <td>Валерий Жидков</td>\n",
       "      <td>[kaliningrad2015]</td>\n",
       "      <td>Photos from Валерий Жидков's post</td>\n",
       "      <td>[kaliningrad2015]</td>\n",
       "      <td>photo</td>\n",
       "      <td>2015-05-05T09:28:49+0000</td>\n",
       "      <td>0</td>\n",
       "      <td>{'neg': 0.0, 'neu': 1.0, 'pos': 0.0, 'compound...</td>\n",
       "      <td>{'neg': 0.0, 'neu': 1.0, 'pos': 0.0, 'compound...</td>\n",
       "    </tr>\n",
       "    <tr>\n",
       "      <th>16471</th>\n",
       "      <td>24701</td>\n",
       "      <td>Boris Mernenko</td>\n",
       "      <td>[art, space, 'apartment', address, ul, kolosko...</td>\n",
       "      <td>NaN</td>\n",
       "      <td>[art, space, 'apartment', address, ul, kolosko...</td>\n",
       "      <td>photo</td>\n",
       "      <td>2015-06-08T08:53:16+0000</td>\n",
       "      <td>1</td>\n",
       "      <td>{'neg': 0.0, 'neu': 1.0, 'pos': 0.0, 'compound...</td>\n",
       "      <td>{'neg': 0.0, 'neu': 1.0, 'pos': 0.0, 'compound...</td>\n",
       "    </tr>\n",
       "    <tr>\n",
       "      <th>16472</th>\n",
       "      <td>24702</td>\n",
       "      <td>Андрюс Рачис</td>\n",
       "      <td>[separatist, separators, hung, banners, entran...</td>\n",
       "      <td>В Калининграде - баннер с литовским приглашени...</td>\n",
       "      <td>[separatist, separators, hung, banners, entran...</td>\n",
       "      <td>link</td>\n",
       "      <td>2015-04-19T12:03:42+0000</td>\n",
       "      <td>1</td>\n",
       "      <td>{'neg': 0.0, 'neu': 0.929, 'pos': 0.071, 'comp...</td>\n",
       "      <td>{'neg': 0.0, 'neu': 0.929, 'pos': 0.071, 'comp...</td>\n",
       "    </tr>\n",
       "    <tr>\n",
       "      <th>16473</th>\n",
       "      <td>24706</td>\n",
       "      <td>Валерий Жидков</td>\n",
       "      <td>[photo, rgakfd, /, rosnform, 1947, new, soviet...</td>\n",
       "      <td>NaN</td>\n",
       "      <td>[photo, rgakfd, /, rosnform, 1947, new, soviet...</td>\n",
       "      <td>photo</td>\n",
       "      <td>2015-04-30T15:48:13+0000</td>\n",
       "      <td>0</td>\n",
       "      <td>{'neg': 0.0, 'neu': 1.0, 'pos': 0.0, 'compound...</td>\n",
       "      <td>{'neg': 0.0, 'neu': 1.0, 'pos': 0.0, 'compound...</td>\n",
       "    </tr>\n",
       "    <tr>\n",
       "      <th>16474</th>\n",
       "      <td>24707</td>\n",
       "      <td>Валерий Жидков</td>\n",
       "      <td>['east, prussia, eyes, soviet, settlers, first...</td>\n",
       "      <td>Оболенская Светлана Валериановна. Российская с...</td>\n",
       "      <td>['east, prussia, eyes, soviet, settlers, first...</td>\n",
       "      <td>link</td>\n",
       "      <td>2015-04-30T15:40:11+0000</td>\n",
       "      <td>7</td>\n",
       "      <td>{'neg': 0.0, 'neu': 1.0, 'pos': 0.0, 'compound...</td>\n",
       "      <td>{'neg': 0.0, 'neu': 1.0, 'pos': 0.0, 'compound...</td>\n",
       "    </tr>\n",
       "    <tr>\n",
       "      <th>16475</th>\n",
       "      <td>24708</td>\n",
       "      <td>Валерий Жидков</td>\n",
       "      <td>[kaliningrad, last, days, april, 2015]</td>\n",
       "      <td>Photos from Валерий Жидков's post</td>\n",
       "      <td>[kaliningrad, last, days, april, 2015]</td>\n",
       "      <td>photo</td>\n",
       "      <td>2015-04-30T12:03:38+0000</td>\n",
       "      <td>0</td>\n",
       "      <td>{'neg': 0.0, 'neu': 1.0, 'pos': 0.0, 'compound...</td>\n",
       "      <td>{'neg': 0.0, 'neu': 1.0, 'pos': 0.0, 'compound...</td>\n",
       "    </tr>\n",
       "    <tr>\n",
       "      <th>16476</th>\n",
       "      <td>24711</td>\n",
       "      <td>Валерий Жидков</td>\n",
       "      <td>['heart, city, synagogue, already, blown, begi...</td>\n",
       "      <td>NaN</td>\n",
       "      <td>['heart, city, synagogue, already, blown, begi...</td>\n",
       "      <td>photo</td>\n",
       "      <td>2015-04-22T07:20:54+0000</td>\n",
       "      <td>2</td>\n",
       "      <td>{'neg': 0.0, 'neu': 1.0, 'pos': 0.0, 'compound...</td>\n",
       "      <td>{'neg': 0.0, 'neu': 1.0, 'pos': 0.0, 'compound...</td>\n",
       "    </tr>\n",
       "    <tr>\n",
       "      <th>16477</th>\n",
       "      <td>24712</td>\n",
       "      <td>Валерий Жидков</td>\n",
       "      <td>[kaliningradtoday, state, duma, deputy, leader...</td>\n",
       "      <td>NaN</td>\n",
       "      <td>[kaliningradtoday, state, duma, deputy, leader...</td>\n",
       "      <td>photo</td>\n",
       "      <td>2015-04-16T13:02:16+0000</td>\n",
       "      <td>0</td>\n",
       "      <td>{'neg': 0.0, 'neu': 0.596, 'pos': 0.404, 'comp...</td>\n",
       "      <td>{'neg': 0.0, 'neu': 0.596, 'pos': 0.404, 'comp...</td>\n",
       "    </tr>\n",
       "    <tr>\n",
       "      <th>16478</th>\n",
       "      <td>24714</td>\n",
       "      <td>Валерий Жидков</td>\n",
       "      <td>[memorial, stone, honor, battle, seven, years,...</td>\n",
       "      <td>NaN</td>\n",
       "      <td>[memorial, stone, honor, battle, seven, years,...</td>\n",
       "      <td>photo</td>\n",
       "      <td>2015-03-28T18:10:10+0000</td>\n",
       "      <td>0</td>\n",
       "      <td>{'neg': 0.254, 'neu': 0.587, 'pos': 0.159, 'co...</td>\n",
       "      <td>{'neg': 0.254, 'neu': 0.587, 'pos': 0.159, 'co...</td>\n",
       "    </tr>\n",
       "    <tr>\n",
       "      <th>16479</th>\n",
       "      <td>24715</td>\n",
       "      <td>Валерий Жидков</td>\n",
       "      <td>[ellenite, young]</td>\n",
       "      <td>NaN</td>\n",
       "      <td>[ellenite, young]</td>\n",
       "      <td>photo</td>\n",
       "      <td>2015-04-16T12:44:02+0000</td>\n",
       "      <td>0</td>\n",
       "      <td>{'neg': 0.0, 'neu': 1.0, 'pos': 0.0, 'compound...</td>\n",
       "      <td>{'neg': 0.0, 'neu': 1.0, 'pos': 0.0, 'compound...</td>\n",
       "    </tr>\n",
       "    <tr>\n",
       "      <th>16480</th>\n",
       "      <td>24716</td>\n",
       "      <td>Валерий Жидков</td>\n",
       "      <td>[1991, kaliningrad]</td>\n",
       "      <td>Photos from Валерий Жидков's post</td>\n",
       "      <td>[1991, kaliningrad]</td>\n",
       "      <td>photo</td>\n",
       "      <td>2015-04-16T11:51:44+0000</td>\n",
       "      <td>0</td>\n",
       "      <td>{'neg': 0.0, 'neu': 1.0, 'pos': 0.0, 'compound...</td>\n",
       "      <td>{'neg': 0.0, 'neu': 1.0, 'pos': 0.0, 'compound...</td>\n",
       "    </tr>\n",
       "    <tr>\n",
       "      <th>16481</th>\n",
       "      <td>24717</td>\n",
       "      <td>Андрюс Рачис</td>\n",
       "      <td>[charity]</td>\n",
       "      <td>NaN</td>\n",
       "      <td>[charity]</td>\n",
       "      <td>status</td>\n",
       "      <td>2015-04-14T22:55:06+0000</td>\n",
       "      <td>0</td>\n",
       "      <td>{'neg': 0.0, 'neu': 0.0, 'pos': 1.0, 'compound...</td>\n",
       "      <td>{'neg': 0.0, 'neu': 0.0, 'pos': 1.0, 'compound...</td>\n",
       "    </tr>\n",
       "    <tr>\n",
       "      <th>16482</th>\n",
       "      <td>24722</td>\n",
       "      <td>Валерий Жидков</td>\n",
       "      <td>[author, photo, fedor, konopln]</td>\n",
       "      <td>NaN</td>\n",
       "      <td>[author, photo, fedor, konopln]</td>\n",
       "      <td>photo</td>\n",
       "      <td>2015-03-28T21:22:52+0000</td>\n",
       "      <td>1</td>\n",
       "      <td>{'neg': 0.0, 'neu': 1.0, 'pos': 0.0, 'compound...</td>\n",
       "      <td>{'neg': 0.0, 'neu': 1.0, 'pos': 0.0, 'compound...</td>\n",
       "    </tr>\n",
       "    <tr>\n",
       "      <th>16483</th>\n",
       "      <td>24726</td>\n",
       "      <td>Валерий Жидков</td>\n",
       "      <td>[province, ross, 1758, 1762, way, koenigsberg,...</td>\n",
       "      <td>Восточная Пруссия в составе Российской империи...</td>\n",
       "      <td>[province, ross, 1758, 1762, way, koenigsberg,...</td>\n",
       "      <td>link</td>\n",
       "      <td>2015-03-28T18:06:18+0000</td>\n",
       "      <td>1</td>\n",
       "      <td>{'neg': 0.094, 'neu': 0.906, 'pos': 0.0, 'comp...</td>\n",
       "      <td>{'neg': 0.094, 'neu': 0.906, 'pos': 0.0, 'comp...</td>\n",
       "    </tr>\n",
       "    <tr>\n",
       "      <th>16484</th>\n",
       "      <td>24727</td>\n",
       "      <td>Валерий Жидков</td>\n",
       "      <td>[first, post-war, years, koenigsberg, ussr]</td>\n",
       "      <td>Кёнигсберг, Кёнигсбергской области, Российской...</td>\n",
       "      <td>[first, post-war, years, koenigsberg, ussr]</td>\n",
       "      <td>photo</td>\n",
       "      <td>2015-03-28T17:53:04+0000</td>\n",
       "      <td>1</td>\n",
       "      <td>{'neg': 0.0, 'neu': 1.0, 'pos': 0.0, 'compound...</td>\n",
       "      <td>{'neg': 0.0, 'neu': 1.0, 'pos': 0.0, 'compound...</td>\n",
       "    </tr>\n",
       "    <tr>\n",
       "      <th>16485</th>\n",
       "      <td>24731</td>\n",
       "      <td>Валерий Жидков</td>\n",
       "      <td>[lord, participants, please, refrain, posts, s...</td>\n",
       "      <td>NaN</td>\n",
       "      <td>[lord, participants, please, refrain, posts, s...</td>\n",
       "      <td>status</td>\n",
       "      <td>2015-03-28T14:07:59+0000</td>\n",
       "      <td>0</td>\n",
       "      <td>{'neg': 0.177, 'neu': 0.619, 'pos': 0.204, 'co...</td>\n",
       "      <td>{'neg': 0.177, 'neu': 0.619, 'pos': 0.204, 'co...</td>\n",
       "    </tr>\n",
       "  </tbody>\n",
       "</table>\n",
       "<p>16486 rows × 10 columns</p>\n",
       "</div>"
      ],
      "text/plain": [
       "       Unnamed: 0                                  from  \\\n",
       "0            1571  Russ-Tico Travel With Love to Russia   \n",
       "1            1577  Russ-Tico Travel With Love to Russia   \n",
       "2            1585  Russ-Tico Travel With Love to Russia   \n",
       "3            1586  Russ-Tico Travel With Love to Russia   \n",
       "4            1589  Russ-Tico Travel With Love to Russia   \n",
       "5            1593  Russ-Tico Travel With Love to Russia   \n",
       "6            1594  Russ-Tico Travel With Love to Russia   \n",
       "7            1595  Russ-Tico Travel With Love to Russia   \n",
       "8            1608                 Visit Veliky Novgorod   \n",
       "9            1609                 Visit Veliky Novgorod   \n",
       "10           1611                 Visit Veliky Novgorod   \n",
       "11           1612                 Visit Veliky Novgorod   \n",
       "12           1613                                  林 立偉   \n",
       "13           1615                 Visit Veliky Novgorod   \n",
       "14           1617                         Seun Scheppel   \n",
       "15           1618                            Ксения Сар   \n",
       "16           1619                 Visit Veliky Novgorod   \n",
       "17           1620                 Visit Veliky Novgorod   \n",
       "18           1621                 Visit Veliky Novgorod   \n",
       "19           1623                        Pothik Tourism   \n",
       "20           1624                 Visit Veliky Novgorod   \n",
       "21           1625                 Visit Veliky Novgorod   \n",
       "22           1626                 Visit Veliky Novgorod   \n",
       "23           1627                 Visit Veliky Novgorod   \n",
       "24           1629                 Visit Veliky Novgorod   \n",
       "25           1630                 Visit Veliky Novgorod   \n",
       "26           1632                 Visit Veliky Novgorod   \n",
       "27           1633                 Visit Veliky Novgorod   \n",
       "28           1634                 Visit Veliky Novgorod   \n",
       "29           1635                 Visit Veliky Novgorod   \n",
       "...           ...                                   ...   \n",
       "16456       24682                        Валерий Жидков   \n",
       "16457       24683                        Валерий Жидков   \n",
       "16458       24685                        Валерий Жидков   \n",
       "16459       24686                          Андрюс Рачис   \n",
       "16460       24687                        Валерий Жидков   \n",
       "16461       24689                        Валерий Жидков   \n",
       "16462       24690                          Андрюс Рачис   \n",
       "16463       24691                        Валерий Жидков   \n",
       "16464       24692                        Валерий Жидков   \n",
       "16465       24693                          Андрюс Рачис   \n",
       "16466       24695                          Андрюс Рачис   \n",
       "16467       24696                        Валерий Жидков   \n",
       "16468       24697                        Валерий Жидков   \n",
       "16469       24698                        Валерий Жидков   \n",
       "16470       24699                        Валерий Жидков   \n",
       "16471       24701                        Boris Mernenko   \n",
       "16472       24702                          Андрюс Рачис   \n",
       "16473       24706                        Валерий Жидков   \n",
       "16474       24707                        Валерий Жидков   \n",
       "16475       24708                        Валерий Жидков   \n",
       "16476       24711                        Валерий Жидков   \n",
       "16477       24712                        Валерий Жидков   \n",
       "16478       24714                        Валерий Жидков   \n",
       "16479       24715                        Валерий Жидков   \n",
       "16480       24716                        Валерий Жидков   \n",
       "16481       24717                          Андрюс Рачис   \n",
       "16482       24722                        Валерий Жидков   \n",
       "16483       24726                        Валерий Жидков   \n",
       "16484       24727                        Валерий Жидков   \n",
       "16485       24731                        Валерий Жидков   \n",
       "\n",
       "                                                 message  \\\n",
       "0                                     [get, know, faces]   \n",
       "1             [ekaterinburg, city, unites, europe, asia]   \n",
       "2                                               [moscow]   \n",
       "3         [nordic, capital, city, lot, history, culture]   \n",
       "4                              [architectural, beauties]   \n",
       "5                                               [moscow]   \n",
       "6                                     [discover, cities]   \n",
       "7      [dear, friends, invite, part, new, outbound, t...   \n",
       "8                             [amazing, night, novgorod]   \n",
       "9                        [firework, honor, victory, day]   \n",
       "10                             [novgorod, walked, bears]   \n",
       "11     [june, 2009, international, convention, cultur...   \n",
       "12     [termination, politics, lame, duck, also, know...   \n",
       "13     [12th, century, wooden, church, saviour, trans...   \n",
       "14     [hello, people, please, like, page, say, refer...   \n",
       "15     [love, novgorod, every, summer, came, peter, l...   \n",
       "16     [st., sophia, one, 's, oldest, stone, building...   \n",
       "17     [victory, monument, honor, novgorod, 's, liber...   \n",
       "18                                                [bear]   \n",
       "19     [world, largest, sea, beach, cox, 's, bazar, &...   \n",
       "20                 [bell, tower, st., sophia, cathedral]   \n",
       "21     [frohe, weihnachten, +++, merry, christmas, ++...   \n",
       "22                           [history, veliky, novgorod]   \n",
       "23     [museum, located, territory, former, dessiatin...   \n",
       "24     [novgorod, region, lit, fire, olympic, torch, ...   \n",
       "25      [monument, millennium, russian, statehood, 1862]   \n",
       "26                                                 [nan]   \n",
       "27     [history, forever, written, chronicles, east, ...   \n",
       "28                            [photos, veliky, novgorod]   \n",
       "29     [people, used, wear, leather, boots, instead, ...   \n",
       "...                                                  ...   \n",
       "16456                          [window, ..., königsberg]   \n",
       "16457  [daily, life, post-war, village, history, migr...   \n",
       "16458  [kaliningrad, today, continuation, traditions,...   \n",
       "16459  [happy, birthday, lovable, city, july, 4, koni...   \n",
       "16460  [new, perspective, kaliningrad, circus, gone, ...   \n",
       "16461                                         [sketches]   \n",
       "16462  [river, russ, become, neman, prussia, became, ...   \n",
       "16463                [still, russ, neman, prussia, belt]   \n",
       "16464                          [sketches, author, stage]   \n",
       "16465  [first, post-war, months, mass, resettlement, ...   \n",
       "16466  [ulyana, skoibeda, looking, national, idea, ht...   \n",
       "16467                                              [nan]   \n",
       "16468                           [kaliningrad, sculpture]   \n",
       "16469                [everyone, running, around, koenig]   \n",
       "16470                                  [kaliningrad2015]   \n",
       "16471  [art, space, 'apartment', address, ul, kolosko...   \n",
       "16472  [separatist, separators, hung, banners, entran...   \n",
       "16473  [photo, rgakfd, /, rosnform, 1947, new, soviet...   \n",
       "16474  ['east, prussia, eyes, soviet, settlers, first...   \n",
       "16475             [kaliningrad, last, days, april, 2015]   \n",
       "16476  ['heart, city, synagogue, already, blown, begi...   \n",
       "16477  [kaliningradtoday, state, duma, deputy, leader...   \n",
       "16478  [memorial, stone, honor, battle, seven, years,...   \n",
       "16479                                  [ellenite, young]   \n",
       "16480                                [1991, kaliningrad]   \n",
       "16481                                          [charity]   \n",
       "16482                    [author, photo, fedor, konopln]   \n",
       "16483  [province, ross, 1758, 1762, way, koenigsberg,...   \n",
       "16484        [first, post-war, years, koenigsberg, ussr]   \n",
       "16485  [lord, participants, please, refrain, posts, s...   \n",
       "\n",
       "                                                    name  \\\n",
       "0                                   Russian travel guide   \n",
       "1                                             E1.RU News   \n",
       "2                                       нтересная Москва   \n",
       "3                                         Mobile Uploads   \n",
       "4      Photos from Russ-Tico Travel With Love to Russ...   \n",
       "5      Photos from Russ-Tico Travel With Love to Russ...   \n",
       "6      Pasee por las ciudades más bonitas de la provi...   \n",
       "7                                         Mobile Uploads   \n",
       "8               Photos from Visit Veliky Novgorod's post   \n",
       "9                                                    NaN   \n",
       "10                                       Timeline Photos   \n",
       "11                                    Hanseatic Fountain   \n",
       "12                                                   NaN   \n",
       "13                 The Cathedral of Our Lady of the Sign   \n",
       "14                                        Super Star spa   \n",
       "15                                               Ksavera   \n",
       "16     Cathedral of St. Sophia The Wisdom Of God, 104...   \n",
       "17                                      Victory Monument   \n",
       "18                                       Timeline Photos   \n",
       "19                                                 Tours   \n",
       "20                                       Timeline Photos   \n",
       "21                                       Happy New Year!   \n",
       "22                                                   NaN   \n",
       "23     State Museum of Arts and Culture of Novgorod Land   \n",
       "24     Velikiy Novgorod received the Olympic Torch Relay   \n",
       "25                                        Untitled Album   \n",
       "26     Veliky Novgorod - Wikipedia, the free encyclop...   \n",
       "27     Ancient City: Veliky Novgorod ( Великий Новгор...   \n",
       "28                                          Без названия   \n",
       "29                                        Great Novgorod   \n",
       "...                                                  ...   \n",
       "16456                                                NaN   \n",
       "16457                                                NaN   \n",
       "16458                                                NaN   \n",
       "16459                                                NaN   \n",
       "16460                                                NaN   \n",
       "16461                  Photos from Валерий Жидков's post   \n",
       "16462                                                NaN   \n",
       "16463                                                NaN   \n",
       "16464                  Photos from Валерий Жидков's post   \n",
       "16465      Пруссия глазами переселенцев: немцы на работе   \n",
       "16466                                                NaN   \n",
       "16467                                                NaN   \n",
       "16468                                                NaN   \n",
       "16469                                                NaN   \n",
       "16470                  Photos from Валерий Жидков's post   \n",
       "16471                                                NaN   \n",
       "16472  В Калининграде - баннер с литовским приглашени...   \n",
       "16473                                                NaN   \n",
       "16474  Оболенская Светлана Валериановна. Российская с...   \n",
       "16475                  Photos from Валерий Жидков's post   \n",
       "16476                                                NaN   \n",
       "16477                                                NaN   \n",
       "16478                                                NaN   \n",
       "16479                                                NaN   \n",
       "16480                  Photos from Валерий Жидков's post   \n",
       "16481                                                NaN   \n",
       "16482                                                NaN   \n",
       "16483  Восточная Пруссия в составе Российской империи...   \n",
       "16484  Кёнигсберг, Кёнигсбергской области, Российской...   \n",
       "16485                                                NaN   \n",
       "\n",
       "                                             description    type  \\\n",
       "0                                     [get, know, faces]   photo   \n",
       "1             [ekaterinburg, city, unites, europe, asia]   video   \n",
       "2                                               [moscow]   video   \n",
       "3         [nordic, capital, city, lot, history, culture]   photo   \n",
       "4                              [architectural, beauties]   photo   \n",
       "5                                               [moscow]   photo   \n",
       "6                                     [discover, cities]    link   \n",
       "7      [dear, friends, invite, part, new, outbound, t...   photo   \n",
       "8                             [amazing, night, novgorod]   photo   \n",
       "9                        [firework, honor, victory, day]   video   \n",
       "10                             [novgorod, walked, bears]   photo   \n",
       "11     [june, 2009, international, convention, cultur...   photo   \n",
       "12     [termination, politics, lame, duck, also, know...  status   \n",
       "13     [12th, century, wooden, church, saviour, trans...   photo   \n",
       "14     [hello, people, please, like, page, say, refer...    link   \n",
       "15     [love, novgorod, every, summer, came, peter, l...    link   \n",
       "16     [st., sophia, one, 's, oldest, stone, building...   photo   \n",
       "17     [victory, monument, honor, novgorod, 's, liber...   photo   \n",
       "18                                                [bear]   photo   \n",
       "19     [world, largest, sea, beach, cox, 's, bazar, &...    link   \n",
       "20                 [bell, tower, st., sophia, cathedral]   photo   \n",
       "21     [frohe, weihnachten, +++, merry, christmas, ++...   photo   \n",
       "22                           [history, veliky, novgorod]   video   \n",
       "23     [museum, located, territory, former, dessiatin...   photo   \n",
       "24     [novgorod, region, lit, fire, olympic, torch, ...   video   \n",
       "25      [monument, millennium, russian, statehood, 1862]   photo   \n",
       "26                                                 [nan]    link   \n",
       "27     [history, forever, written, chronicles, east, ...   video   \n",
       "28                            [photos, veliky, novgorod]   photo   \n",
       "29     [people, used, wear, leather, boots, instead, ...   video   \n",
       "...                                                  ...     ...   \n",
       "16456                          [window, ..., königsberg]   photo   \n",
       "16457  [daily, life, post-war, village, history, migr...   photo   \n",
       "16458  [kaliningrad, today, continuation, traditions,...  status   \n",
       "16459  [happy, birthday, lovable, city, july, 4, koni...  status   \n",
       "16460  [new, perspective, kaliningrad, circus, gone, ...   photo   \n",
       "16461                                         [sketches]   photo   \n",
       "16462  [river, russ, become, neman, prussia, became, ...  status   \n",
       "16463                [still, russ, neman, prussia, belt]   photo   \n",
       "16464                          [sketches, author, stage]   photo   \n",
       "16465  [first, post-war, months, mass, resettlement, ...    link   \n",
       "16466  [ulyana, skoibeda, looking, national, idea, ht...  status   \n",
       "16467                                              [nan]  status   \n",
       "16468                           [kaliningrad, sculpture]   photo   \n",
       "16469                [everyone, running, around, koenig]   video   \n",
       "16470                                  [kaliningrad2015]   photo   \n",
       "16471  [art, space, 'apartment', address, ul, kolosko...   photo   \n",
       "16472  [separatist, separators, hung, banners, entran...    link   \n",
       "16473  [photo, rgakfd, /, rosnform, 1947, new, soviet...   photo   \n",
       "16474  ['east, prussia, eyes, soviet, settlers, first...    link   \n",
       "16475             [kaliningrad, last, days, april, 2015]   photo   \n",
       "16476  ['heart, city, synagogue, already, blown, begi...   photo   \n",
       "16477  [kaliningradtoday, state, duma, deputy, leader...   photo   \n",
       "16478  [memorial, stone, honor, battle, seven, years,...   photo   \n",
       "16479                                  [ellenite, young]   photo   \n",
       "16480                                [1991, kaliningrad]   photo   \n",
       "16481                                          [charity]  status   \n",
       "16482                    [author, photo, fedor, konopln]   photo   \n",
       "16483  [province, ross, 1758, 1762, way, koenigsberg,...    link   \n",
       "16484        [first, post-war, years, koenigsberg, ussr]   photo   \n",
       "16485  [lord, participants, please, refrain, posts, s...  status   \n",
       "\n",
       "                   created_time shares  \\\n",
       "0      2016-03-01T18:24:49+0000      0   \n",
       "1      2016-01-30T14:38:27+0000      0   \n",
       "2      2015-11-21T04:04:09+0000      0   \n",
       "3      2015-09-06T20:45:24+0000      1   \n",
       "4      2015-08-18T18:34:14+0000      0   \n",
       "5      2015-08-01T03:43:26+0000      0   \n",
       "6      2015-07-23T21:27:52+0000      0   \n",
       "7      2015-07-18T22:25:28+0000      4   \n",
       "8      2015-06-08T12:03:48+0000      2   \n",
       "9      2015-05-11T08:47:39+0000      0   \n",
       "10     2015-05-04T09:22:44+0000      0   \n",
       "11     2014-10-04T08:16:00+0000      0   \n",
       "12     2014-10-03T14:16:56+0000      0   \n",
       "13     2014-09-11T08:43:41+0000      0   \n",
       "14     2014-05-21T01:09:56+0000      0   \n",
       "15     2014-05-16T14:09:12+0000      0   \n",
       "16     2014-03-19T15:17:45+0000      0   \n",
       "17     2014-02-26T14:40:36+0000      0   \n",
       "18     2014-01-22T23:06:31+0000      1   \n",
       "19     2014-01-09T03:14:25+0000      0   \n",
       "20     2013-12-26T11:29:43+0000      1   \n",
       "21     2013-12-24T21:39:23+0000      0   \n",
       "22     2013-12-24T12:13:56+0000      1   \n",
       "23     2013-12-19T21:43:49+0000      0   \n",
       "24     2013-11-29T10:36:02+0000      0   \n",
       "25     2013-03-05T10:36:07+0000      4   \n",
       "26     2013-03-04T09:41:10+0000      0   \n",
       "27     2013-03-04T05:44:57+0000      1   \n",
       "28     2013-03-04T05:07:17+0000      1   \n",
       "29     2013-03-04T05:00:09+0000      3   \n",
       "...                         ...    ...   \n",
       "16456  2015-07-15T21:05:49+0000     11   \n",
       "16457  2015-07-09T20:31:50+0000      0   \n",
       "16458  2015-03-28T14:00:51+0000      0   \n",
       "16459  2015-07-04T22:59:26+0000      0   \n",
       "16460  2015-06-20T10:32:31+0000      6   \n",
       "16461  2015-06-20T20:39:34+0000      0   \n",
       "16462  2015-06-14T09:02:46+0000      0   \n",
       "16463  2015-06-20T10:35:18+0000      0   \n",
       "16464  2015-06-20T10:33:46+0000      0   \n",
       "16465  2015-06-19T21:45:58+0000      2   \n",
       "16466  2015-06-18T04:53:58+0000      0   \n",
       "16467  2015-06-10T20:28:28+0000      0   \n",
       "16468  2015-06-08T10:59:57+0000      0   \n",
       "16469  2015-06-09T11:41:09+0000     34   \n",
       "16470  2015-05-05T09:28:49+0000      0   \n",
       "16471  2015-06-08T08:53:16+0000      1   \n",
       "16472  2015-04-19T12:03:42+0000      1   \n",
       "16473  2015-04-30T15:48:13+0000      0   \n",
       "16474  2015-04-30T15:40:11+0000      7   \n",
       "16475  2015-04-30T12:03:38+0000      0   \n",
       "16476  2015-04-22T07:20:54+0000      2   \n",
       "16477  2015-04-16T13:02:16+0000      0   \n",
       "16478  2015-03-28T18:10:10+0000      0   \n",
       "16479  2015-04-16T12:44:02+0000      0   \n",
       "16480  2015-04-16T11:51:44+0000      0   \n",
       "16481  2015-04-14T22:55:06+0000      0   \n",
       "16482  2015-03-28T21:22:52+0000      1   \n",
       "16483  2015-03-28T18:06:18+0000      1   \n",
       "16484  2015-03-28T17:53:04+0000      1   \n",
       "16485  2015-03-28T14:07:59+0000      0   \n",
       "\n",
       "                                 message_sentiment_vader  \\\n",
       "0      {'neg': 0.0, 'neu': 1.0, 'pos': 0.0, 'compound...   \n",
       "1      {'neg': 0.0, 'neu': 1.0, 'pos': 0.0, 'compound...   \n",
       "2      {'neg': 0.0, 'neu': 1.0, 'pos': 0.0, 'compound...   \n",
       "3      {'neg': 0.0, 'neu': 1.0, 'pos': 0.0, 'compound...   \n",
       "4      {'neg': 0.0, 'neu': 0.227, 'pos': 0.773, 'comp...   \n",
       "5      {'neg': 0.0, 'neu': 1.0, 'pos': 0.0, 'compound...   \n",
       "6      {'neg': 0.0, 'neu': 1.0, 'pos': 0.0, 'compound...   \n",
       "7      {'neg': 0.0, 'neu': 0.395, 'pos': 0.605, 'comp...   \n",
       "8      {'neg': 0.0, 'neu': 0.345, 'pos': 0.655, 'comp...   \n",
       "9      {'neg': 0.0, 'neu': 0.484, 'pos': 0.516, 'comp...   \n",
       "10     {'neg': 0.0, 'neu': 1.0, 'pos': 0.0, 'compound...   \n",
       "11     {'neg': 0.0, 'neu': 1.0, 'pos': 0.0, 'compound...   \n",
       "12     {'neg': 0.324, 'neu': 0.462, 'pos': 0.214, 'co...   \n",
       "13     {'neg': 0.0, 'neu': 1.0, 'pos': 0.0, 'compound...   \n",
       "14     {'neg': 0.0, 'neu': 0.428, 'pos': 0.572, 'comp...   \n",
       "15     {'neg': 0.0, 'neu': 0.459, 'pos': 0.541, 'comp...   \n",
       "16     {'neg': 0.0, 'neu': 0.813, 'pos': 0.187, 'comp...   \n",
       "17     {'neg': 0.145, 'neu': 0.726, 'pos': 0.129, 'co...   \n",
       "18     {'neg': 0.0, 'neu': 1.0, 'pos': 0.0, 'compound...   \n",
       "19     {'neg': 0.0, 'neu': 1.0, 'pos': 0.0, 'compound...   \n",
       "20     {'neg': 0.0, 'neu': 1.0, 'pos': 0.0, 'compound...   \n",
       "21     {'neg': 0.0, 'neu': 0.75, 'pos': 0.25, 'compou...   \n",
       "22     {'neg': 0.0, 'neu': 1.0, 'pos': 0.0, 'compound...   \n",
       "23     {'neg': 0.0, 'neu': 1.0, 'pos': 0.0, 'compound...   \n",
       "24     {'neg': 0.074, 'neu': 0.836, 'pos': 0.09, 'com...   \n",
       "25     {'neg': 0.0, 'neu': 1.0, 'pos': 0.0, 'compound...   \n",
       "26     {'neg': 0.0, 'neu': 1.0, 'pos': 0.0, 'compound...   \n",
       "27     {'neg': 0.0, 'neu': 1.0, 'pos': 0.0, 'compound...   \n",
       "28     {'neg': 0.0, 'neu': 1.0, 'pos': 0.0, 'compound...   \n",
       "29     {'neg': 0.0, 'neu': 0.897, 'pos': 0.103, 'comp...   \n",
       "...                                                  ...   \n",
       "16456  {'neg': 0.0, 'neu': 1.0, 'pos': 0.0, 'compound...   \n",
       "16457  {'neg': 0.0, 'neu': 1.0, 'pos': 0.0, 'compound...   \n",
       "16458  {'neg': 0.0, 'neu': 1.0, 'pos': 0.0, 'compound...   \n",
       "16459  {'neg': 0.0, 'neu': 0.565, 'pos': 0.435, 'comp...   \n",
       "16460  {'neg': 0.13, 'neu': 0.87, 'pos': 0.0, 'compou...   \n",
       "16461  {'neg': 0.0, 'neu': 1.0, 'pos': 0.0, 'compound...   \n",
       "16462  {'neg': 0.169, 'neu': 0.831, 'pos': 0.0, 'comp...   \n",
       "16463  {'neg': 0.0, 'neu': 1.0, 'pos': 0.0, 'compound...   \n",
       "16464  {'neg': 0.0, 'neu': 1.0, 'pos': 0.0, 'compound...   \n",
       "16465  {'neg': 0.0, 'neu': 1.0, 'pos': 0.0, 'compound...   \n",
       "16466  {'neg': 0.0, 'neu': 0.799, 'pos': 0.201, 'comp...   \n",
       "16467  {'neg': 0.0, 'neu': 1.0, 'pos': 0.0, 'compound...   \n",
       "16468  {'neg': 0.0, 'neu': 1.0, 'pos': 0.0, 'compound...   \n",
       "16469  {'neg': 0.0, 'neu': 1.0, 'pos': 0.0, 'compound...   \n",
       "16470  {'neg': 0.0, 'neu': 1.0, 'pos': 0.0, 'compound...   \n",
       "16471  {'neg': 0.0, 'neu': 1.0, 'pos': 0.0, 'compound...   \n",
       "16472  {'neg': 0.0, 'neu': 0.929, 'pos': 0.071, 'comp...   \n",
       "16473  {'neg': 0.0, 'neu': 1.0, 'pos': 0.0, 'compound...   \n",
       "16474  {'neg': 0.0, 'neu': 1.0, 'pos': 0.0, 'compound...   \n",
       "16475  {'neg': 0.0, 'neu': 1.0, 'pos': 0.0, 'compound...   \n",
       "16476  {'neg': 0.0, 'neu': 1.0, 'pos': 0.0, 'compound...   \n",
       "16477  {'neg': 0.0, 'neu': 0.596, 'pos': 0.404, 'comp...   \n",
       "16478  {'neg': 0.254, 'neu': 0.587, 'pos': 0.159, 'co...   \n",
       "16479  {'neg': 0.0, 'neu': 1.0, 'pos': 0.0, 'compound...   \n",
       "16480  {'neg': 0.0, 'neu': 1.0, 'pos': 0.0, 'compound...   \n",
       "16481  {'neg': 0.0, 'neu': 0.0, 'pos': 1.0, 'compound...   \n",
       "16482  {'neg': 0.0, 'neu': 1.0, 'pos': 0.0, 'compound...   \n",
       "16483  {'neg': 0.094, 'neu': 0.906, 'pos': 0.0, 'comp...   \n",
       "16484  {'neg': 0.0, 'neu': 1.0, 'pos': 0.0, 'compound...   \n",
       "16485  {'neg': 0.177, 'neu': 0.619, 'pos': 0.204, 'co...   \n",
       "\n",
       "                             description_sentiment_vader  \n",
       "0      {'neg': 0.0, 'neu': 1.0, 'pos': 0.0, 'compound...  \n",
       "1      {'neg': 0.0, 'neu': 1.0, 'pos': 0.0, 'compound...  \n",
       "2      {'neg': 0.0, 'neu': 1.0, 'pos': 0.0, 'compound...  \n",
       "3      {'neg': 0.0, 'neu': 1.0, 'pos': 0.0, 'compound...  \n",
       "4      {'neg': 0.0, 'neu': 0.227, 'pos': 0.773, 'comp...  \n",
       "5      {'neg': 0.0, 'neu': 1.0, 'pos': 0.0, 'compound...  \n",
       "6      {'neg': 0.0, 'neu': 1.0, 'pos': 0.0, 'compound...  \n",
       "7      {'neg': 0.0, 'neu': 0.395, 'pos': 0.605, 'comp...  \n",
       "8      {'neg': 0.0, 'neu': 0.345, 'pos': 0.655, 'comp...  \n",
       "9      {'neg': 0.0, 'neu': 0.484, 'pos': 0.516, 'comp...  \n",
       "10     {'neg': 0.0, 'neu': 1.0, 'pos': 0.0, 'compound...  \n",
       "11     {'neg': 0.0, 'neu': 1.0, 'pos': 0.0, 'compound...  \n",
       "12     {'neg': 0.324, 'neu': 0.462, 'pos': 0.214, 'co...  \n",
       "13     {'neg': 0.0, 'neu': 1.0, 'pos': 0.0, 'compound...  \n",
       "14     {'neg': 0.0, 'neu': 0.428, 'pos': 0.572, 'comp...  \n",
       "15     {'neg': 0.0, 'neu': 0.459, 'pos': 0.541, 'comp...  \n",
       "16     {'neg': 0.0, 'neu': 0.813, 'pos': 0.187, 'comp...  \n",
       "17     {'neg': 0.145, 'neu': 0.726, 'pos': 0.129, 'co...  \n",
       "18     {'neg': 0.0, 'neu': 1.0, 'pos': 0.0, 'compound...  \n",
       "19     {'neg': 0.0, 'neu': 1.0, 'pos': 0.0, 'compound...  \n",
       "20     {'neg': 0.0, 'neu': 1.0, 'pos': 0.0, 'compound...  \n",
       "21     {'neg': 0.0, 'neu': 0.75, 'pos': 0.25, 'compou...  \n",
       "22     {'neg': 0.0, 'neu': 1.0, 'pos': 0.0, 'compound...  \n",
       "23     {'neg': 0.0, 'neu': 1.0, 'pos': 0.0, 'compound...  \n",
       "24     {'neg': 0.074, 'neu': 0.836, 'pos': 0.09, 'com...  \n",
       "25     {'neg': 0.0, 'neu': 1.0, 'pos': 0.0, 'compound...  \n",
       "26     {'neg': 0.0, 'neu': 1.0, 'pos': 0.0, 'compound...  \n",
       "27     {'neg': 0.0, 'neu': 1.0, 'pos': 0.0, 'compound...  \n",
       "28     {'neg': 0.0, 'neu': 1.0, 'pos': 0.0, 'compound...  \n",
       "29     {'neg': 0.0, 'neu': 0.897, 'pos': 0.103, 'comp...  \n",
       "...                                                  ...  \n",
       "16456  {'neg': 0.0, 'neu': 1.0, 'pos': 0.0, 'compound...  \n",
       "16457  {'neg': 0.0, 'neu': 1.0, 'pos': 0.0, 'compound...  \n",
       "16458  {'neg': 0.0, 'neu': 1.0, 'pos': 0.0, 'compound...  \n",
       "16459  {'neg': 0.0, 'neu': 0.565, 'pos': 0.435, 'comp...  \n",
       "16460  {'neg': 0.13, 'neu': 0.87, 'pos': 0.0, 'compou...  \n",
       "16461  {'neg': 0.0, 'neu': 1.0, 'pos': 0.0, 'compound...  \n",
       "16462  {'neg': 0.169, 'neu': 0.831, 'pos': 0.0, 'comp...  \n",
       "16463  {'neg': 0.0, 'neu': 1.0, 'pos': 0.0, 'compound...  \n",
       "16464  {'neg': 0.0, 'neu': 1.0, 'pos': 0.0, 'compound...  \n",
       "16465  {'neg': 0.0, 'neu': 1.0, 'pos': 0.0, 'compound...  \n",
       "16466  {'neg': 0.0, 'neu': 0.799, 'pos': 0.201, 'comp...  \n",
       "16467  {'neg': 0.0, 'neu': 1.0, 'pos': 0.0, 'compound...  \n",
       "16468  {'neg': 0.0, 'neu': 1.0, 'pos': 0.0, 'compound...  \n",
       "16469  {'neg': 0.0, 'neu': 1.0, 'pos': 0.0, 'compound...  \n",
       "16470  {'neg': 0.0, 'neu': 1.0, 'pos': 0.0, 'compound...  \n",
       "16471  {'neg': 0.0, 'neu': 1.0, 'pos': 0.0, 'compound...  \n",
       "16472  {'neg': 0.0, 'neu': 0.929, 'pos': 0.071, 'comp...  \n",
       "16473  {'neg': 0.0, 'neu': 1.0, 'pos': 0.0, 'compound...  \n",
       "16474  {'neg': 0.0, 'neu': 1.0, 'pos': 0.0, 'compound...  \n",
       "16475  {'neg': 0.0, 'neu': 1.0, 'pos': 0.0, 'compound...  \n",
       "16476  {'neg': 0.0, 'neu': 1.0, 'pos': 0.0, 'compound...  \n",
       "16477  {'neg': 0.0, 'neu': 0.596, 'pos': 0.404, 'comp...  \n",
       "16478  {'neg': 0.254, 'neu': 0.587, 'pos': 0.159, 'co...  \n",
       "16479  {'neg': 0.0, 'neu': 1.0, 'pos': 0.0, 'compound...  \n",
       "16480  {'neg': 0.0, 'neu': 1.0, 'pos': 0.0, 'compound...  \n",
       "16481  {'neg': 0.0, 'neu': 0.0, 'pos': 1.0, 'compound...  \n",
       "16482  {'neg': 0.0, 'neu': 1.0, 'pos': 0.0, 'compound...  \n",
       "16483  {'neg': 0.094, 'neu': 0.906, 'pos': 0.0, 'comp...  \n",
       "16484  {'neg': 0.0, 'neu': 1.0, 'pos': 0.0, 'compound...  \n",
       "16485  {'neg': 0.177, 'neu': 0.619, 'pos': 0.204, 'co...  \n",
       "\n",
       "[16486 rows x 10 columns]"
      ]
     },
     "execution_count": 26,
     "metadata": {},
     "output_type": "execute_result"
    }
   ],
   "source": [
    "data"
   ]
  },
  {
   "cell_type": "code",
   "execution_count": null,
   "metadata": {
    "collapsed": true
   },
   "outputs": [],
   "source": []
  }
 ],
 "metadata": {
  "kernelspec": {
   "display_name": "Python 3",
   "language": "python",
   "name": "python3"
  },
  "language_info": {
   "codemirror_mode": {
    "name": "ipython",
    "version": 3
   },
   "file_extension": ".py",
   "mimetype": "text/x-python",
   "name": "python",
   "nbconvert_exporter": "python",
   "pygments_lexer": "ipython3",
   "version": "3.6.3"
  }
 },
 "nbformat": 4,
 "nbformat_minor": 2
}
